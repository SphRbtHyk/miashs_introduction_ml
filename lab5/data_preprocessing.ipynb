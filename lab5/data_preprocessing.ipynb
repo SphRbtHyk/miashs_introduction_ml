{
 "cells": [
  {
   "cell_type": "markdown",
   "id": "3a35da26",
   "metadata": {},
   "source": [
    "# Data preprocessing\n",
    "\n",
    "**Requirement**: take the dataset of your project, *with* the missing values and the newly created variables."
   ]
  },
  {
   "cell_type": "code",
   "execution_count": 1,
   "id": "9f49bf39",
   "metadata": {},
   "outputs": [],
   "source": [
    "import pandas as pd\n",
    "import numpy as np\n",
    "from matplotlib import pyplot as plt\n",
    "import seaborn as sns\n",
    "\n",
    "df = pd.read_csv(\"../titanic.csv\")"
   ]
  },
  {
   "cell_type": "code",
   "execution_count": 2,
   "id": "25aa9f44",
   "metadata": {},
   "outputs": [],
   "source": [
    "# My target is survived \n",
    "y = df.Survived.values\n",
    "# For demonstration, I'm taking only 4 columns\n",
    "categorical_variables = [\"Sex\", \"Embarked\"]\n",
    "quantitative_variables = [\"Age\", \"Fare\"]\n",
    "X = df[categorical_variables + quantitative_variables].values\n",
    "X_quantitative = df[quantitative_variables].values\n",
    "X_categorical = df[categorical_variables].values"
   ]
  },
  {
   "cell_type": "markdown",
   "id": "a477cb4f",
   "metadata": {},
   "source": [
    "## Encoding categorical variables"
   ]
  },
  {
   "cell_type": "markdown",
   "id": "e0701727",
   "metadata": {},
   "source": [
    "#### One-hot encoding\n",
    "For most ML algorithms, the categorical variables should be encoded using one-hot encoding. To do so, we can use `sklearn` one-hot-encoding class."
   ]
  },
  {
   "cell_type": "code",
   "execution_count": 4,
   "id": "89dace32",
   "metadata": {},
   "outputs": [],
   "source": [
    "from sklearn.preprocessing import OneHotEncoder"
   ]
  },
  {
   "cell_type": "code",
   "execution_count": 5,
   "id": "811cbdb4",
   "metadata": {},
   "outputs": [],
   "source": [
    "one_hot_encoder = OneHotEncoder()"
   ]
  },
  {
   "cell_type": "code",
   "execution_count": 6,
   "id": "de7287b5",
   "metadata": {},
   "outputs": [],
   "source": [
    "one_hot_encoder.fit(X_categorical)\n",
    "one_hot_encoded_X = one_hot_encoder.transform(X_categorical)"
   ]
  },
  {
   "cell_type": "markdown",
   "id": "1cc9cc88",
   "metadata": {},
   "source": [
    "`encoded_X` is returned as the sparse representation of the matrix, that has to be accessed with `toarray()`."
   ]
  },
  {
   "cell_type": "code",
   "execution_count": 8,
   "id": "6c987521",
   "metadata": {},
   "outputs": [
    {
     "data": {
      "text/plain": [
       "array([[0., 1., 0., 0., 1., 0.],\n",
       "       [1., 0., 1., 0., 0., 0.],\n",
       "       [1., 0., 0., 0., 1., 0.],\n",
       "       ...,\n",
       "       [1., 0., 0., 0., 1., 0.],\n",
       "       [0., 1., 1., 0., 0., 0.],\n",
       "       [0., 1., 0., 1., 0., 0.]])"
      ]
     },
     "execution_count": 8,
     "metadata": {},
     "output_type": "execute_result"
    }
   ],
   "source": [
    "one_hot_encoded_X.toarray()"
   ]
  },
  {
   "cell_type": "code",
   "execution_count": 45,
   "id": "4dc729c0",
   "metadata": {},
   "outputs": [
    {
     "data": {
      "text/plain": [
       "array(['x0_female', 'x0_male', 'x1_C', 'x1_Q', 'x1_S', 'x1_nan'],\n",
       "      dtype=object)"
      ]
     },
     "execution_count": 45,
     "metadata": {},
     "output_type": "execute_result"
    }
   ],
   "source": [
    "one_hot_encoder.get_feature_names_out()"
   ]
  },
  {
   "cell_type": "code",
   "execution_count": 11,
   "id": "af409f5e",
   "metadata": {},
   "outputs": [
    {
     "data": {
      "text/plain": [
       "<891x6 sparse matrix of type '<class 'numpy.float64'>'\n",
       "\twith 1782 stored elements in Compressed Sparse Row format>"
      ]
     },
     "execution_count": 11,
     "metadata": {},
     "output_type": "execute_result"
    }
   ],
   "source": [
    "one_hot_encoded_X"
   ]
  },
  {
   "cell_type": "markdown",
   "id": "664f9204",
   "metadata": {},
   "source": [
    "**Questions**:\n",
    "1. What ML algorithm requires one-hot encoding ?\n",
    "2. Why do you think the matrix is stored as its sparse representation ?\n",
    "3. Apply one-hot encoding to every categorical variables in your dataset and show how many new columns have been generated.\n",
    "4. How does the one hot encoder behaves with missing values ?\n",
    "5. Merge new array with the remaining quantitative variables to create `X_encoded`."
   ]
  },
  {
   "cell_type": "markdown",
   "id": "ca5ded04",
   "metadata": {},
   "source": [
    "**1**. \n",
    "- Les arbres si on ne veut que des splits binaires\n",
    "- **Les k plus proches voisins !!!!** (de manière générale, tous les algorithmes qui nécessitent des distances)"
   ]
  },
  {
   "cell_type": "markdown",
   "id": "95151c4d",
   "metadata": {},
   "source": [
    "**2.** Les matrices *sparse* sont des matrices avec énormèment de 0, et pour économiser de la mémoire, on ne stock que les coordonnées des points dont la valeur est non-nulle."
   ]
  },
  {
   "cell_type": "markdown",
   "id": "808d45bb",
   "metadata": {},
   "source": [
    "**3**."
   ]
  },
  {
   "cell_type": "code",
   "execution_count": 18,
   "id": "0fc6d5a5",
   "metadata": {},
   "outputs": [],
   "source": [
    "one_hot_encoder = OneHotEncoder()\n",
    "\n",
    "one_hot_encoder.fit(X_categorical)\n",
    "one_hot_encoded_X = one_hot_encoder.transform(X_categorical)"
   ]
  },
  {
   "cell_type": "code",
   "execution_count": 17,
   "id": "41b931af",
   "metadata": {},
   "outputs": [
    {
     "data": {
      "text/plain": [
       "array([[0., 1., 0., 0., 1., 0.],\n",
       "       [1., 0., 1., 0., 0., 0.],\n",
       "       [1., 0., 0., 0., 1., 0.],\n",
       "       ...,\n",
       "       [1., 0., 0., 0., 1., 0.],\n",
       "       [0., 1., 1., 0., 0., 0.],\n",
       "       [0., 1., 0., 1., 0., 0.]])"
      ]
     },
     "execution_count": 17,
     "metadata": {},
     "output_type": "execute_result"
    }
   ],
   "source": [
    "one_hot_encoded_X.toarray()"
   ]
  },
  {
   "cell_type": "code",
   "execution_count": 20,
   "id": "1ce6d3af",
   "metadata": {},
   "outputs": [
    {
     "name": "stdout",
     "output_type": "stream",
     "text": [
      "====== Number of new variables\n"
     ]
    },
    {
     "data": {
      "text/plain": [
       "4"
      ]
     },
     "execution_count": 20,
     "metadata": {},
     "output_type": "execute_result"
    }
   ],
   "source": [
    "one_hot_encoder.get_feature_names_out()\n",
    "\n",
    "print(\"====== Number of new variables\")\n",
    "len(one_hot_encoder.get_feature_names_out()) - 2"
   ]
  },
  {
   "cell_type": "code",
   "execution_count": 21,
   "id": "601bc73c",
   "metadata": {},
   "outputs": [
    {
     "data": {
      "text/plain": [
       "array(['x0_female', 'x0_male', 'x1_C', 'x1_Q', 'x1_S', 'x1_nan'],\n",
       "      dtype=object)"
      ]
     },
     "execution_count": 21,
     "metadata": {},
     "output_type": "execute_result"
    }
   ],
   "source": [
    "one_hot_encoder.get_feature_names_out()"
   ]
  },
  {
   "cell_type": "markdown",
   "id": "cf3f6602",
   "metadata": {},
   "source": [
    "**4**. Les valeurs manquantes comme une nouvelle catégorie. Si jamais on voulait traiter les valeurs manquantes, il faudrait le faire avant cette étape."
   ]
  },
  {
   "cell_type": "markdown",
   "id": "e5275609",
   "metadata": {},
   "source": [
    "**5**."
   ]
  },
  {
   "cell_type": "code",
   "execution_count": 24,
   "id": "eed9aada",
   "metadata": {},
   "outputs": [],
   "source": [
    "X_encoded = np.concatenate([one_hot_encoded_X.toarray(), X_quantitative], axis=1)"
   ]
  },
  {
   "cell_type": "code",
   "execution_count": 34,
   "id": "29ec95bd",
   "metadata": {
    "scrolled": true
   },
   "outputs": [
    {
     "name": "stdout",
     "output_type": "stream",
     "text": [
      "Initial number of features: 4\n",
      "New number of features: 8\n",
      "I have created 4 new features !\n"
     ]
    }
   ],
   "source": [
    "print(f\"Initial number of features: {X_quantitative.shape[1] + X_categorical.shape[1]}\")\n",
    "print(f\"New number of features: {X_encoded.shape[1]}\")\n",
    "\n",
    "print(\"I have created 4 new features !\")"
   ]
  },
  {
   "cell_type": "markdown",
   "id": "7c24d767",
   "metadata": {},
   "source": [
    "#### Ordinal encoding\n",
    "Another way to encode categorical variables is through integer labels (**not recommended BUT sklearn requires it for some algorithms**). The class to do so is `LabelEncoder`.\n",
    "It needs to be applied on a **per array basis** and then concatenated."
   ]
  },
  {
   "cell_type": "code",
   "execution_count": 9,
   "id": "ce4b7e4c",
   "metadata": {},
   "outputs": [],
   "source": [
    "from sklearn.preprocessing import LabelEncoder"
   ]
  },
  {
   "cell_type": "code",
   "execution_count": 12,
   "id": "11110c34",
   "metadata": {},
   "outputs": [],
   "source": [
    "label_encoder = LabelEncoder()"
   ]
  },
  {
   "cell_type": "code",
   "execution_count": 13,
   "id": "850c4fd4",
   "metadata": {},
   "outputs": [
    {
     "name": "stdout",
     "output_type": "stream",
     "text": [
      "===== Encoded classes: ['female' 'male']\n",
      "===== Encoded classes: ['C' 'Q' 'S' nan]\n"
     ]
    }
   ],
   "source": [
    "encoded_vars = []\n",
    "for categorical_var in X_categorical.T:\n",
    "    encoded_vars.append(label_encoder.fit_transform(categorical_var))\n",
    "    print(f\"===== Encoded classes: {label_encoder.classes_}\")"
   ]
  },
  {
   "cell_type": "code",
   "execution_count": 14,
   "id": "f5b96aa4",
   "metadata": {},
   "outputs": [],
   "source": [
    "X_categorical = np.array(encoded_vars).T"
   ]
  },
  {
   "cell_type": "code",
   "execution_count": 15,
   "id": "a1ef21ca",
   "metadata": {},
   "outputs": [
    {
     "data": {
      "text/plain": [
       "array([[1, 2],\n",
       "       [0, 0],\n",
       "       [0, 2],\n",
       "       ...,\n",
       "       [0, 2],\n",
       "       [1, 0],\n",
       "       [1, 1]])"
      ]
     },
     "execution_count": 15,
     "metadata": {},
     "output_type": "execute_result"
    }
   ],
   "source": [
    "X_categorical"
   ]
  },
  {
   "cell_type": "markdown",
   "id": "c797cae3",
   "metadata": {},
   "source": [
    "**Questions**:\n",
    "1. Apply the label encoder to every categorical variables in your dataset.\n",
    "2. Concatenate the categorical variables together into a numpy array `X_labelled_categories`.\n",
    "3. Concatenate `X_labelled_categories` to your other quantitative data."
   ]
  },
  {
   "cell_type": "markdown",
   "id": "1d9a8800",
   "metadata": {},
   "source": [
    "**1**. Le LabelEncoder permet d'étiquetter chaque catégorie en lui mettant un nombre entier incrémental.\n",
    "\n",
    "*Dans quel cas est-ce souhaitable ?* \n",
    "- Pour les variables ordinales\n",
    "- */!\\* il ne faut pas les confondre avec des variables ordinales !!!!"
   ]
  },
  {
   "cell_type": "code",
   "execution_count": 53,
   "id": "22249c57",
   "metadata": {},
   "outputs": [
    {
     "name": "stdout",
     "output_type": "stream",
     "text": [
      "===== Encoded classes: ['female' 'male']\n",
      "===== Encoded classes: ['C' 'Q' 'S' nan]\n"
     ]
    }
   ],
   "source": [
    "label_encoder = LabelEncoder()\n",
    "\n",
    "encoded_vars = []\n",
    "for categorical_var in X_categorical.T:\n",
    "    encoded_vars.append(label_encoder.fit_transform(categorical_var))\n",
    "    print(f\"===== Encoded classes: {label_encoder.classes_}\")"
   ]
  },
  {
   "cell_type": "code",
   "execution_count": 62,
   "id": "b765ee27",
   "metadata": {},
   "outputs": [
    {
     "data": {
      "text/plain": [
       "[array([1, 0, 0, 0, 1, 1, 1, 1, 0, 0, 0, 0, 1, 1, 0, 0, 1, 1, 0, 0, 1, 1,\n",
       "        0, 1, 0, 0, 1, 1, 0, 1, 1, 0, 0, 1, 1, 1, 1, 1, 0, 0, 0, 0, 1, 0,\n",
       "        0, 1, 1, 0, 1, 0, 1, 1, 0, 0, 1, 1, 0, 1, 0, 1, 1, 0, 1, 1, 1, 1,\n",
       "        0, 1, 0, 1, 1, 0, 1, 1, 1, 1, 1, 1, 1, 0, 1, 1, 0, 1, 0, 0, 1, 1,\n",
       "        0, 1, 1, 1, 1, 1, 1, 1, 1, 1, 0, 1, 0, 1, 1, 1, 1, 1, 0, 1, 1, 0,\n",
       "        1, 0, 1, 0, 0, 1, 1, 1, 1, 0, 1, 1, 1, 0, 1, 1, 1, 1, 0, 1, 1, 1,\n",
       "        0, 0, 1, 1, 0, 1, 1, 1, 0, 0, 0, 1, 1, 1, 1, 0, 1, 1, 1, 0, 1, 1,\n",
       "        1, 1, 0, 1, 1, 1, 1, 0, 1, 1, 1, 1, 0, 0, 1, 1, 1, 1, 0, 1, 1, 1,\n",
       "        1, 0, 1, 1, 0, 1, 1, 1, 0, 1, 0, 1, 1, 1, 0, 1, 0, 1, 0, 0, 1, 1,\n",
       "        0, 0, 1, 1, 1, 1, 1, 0, 1, 1, 0, 1, 1, 0, 1, 1, 1, 0, 0, 1, 0, 1,\n",
       "        1, 1, 1, 1, 1, 1, 1, 1, 1, 0, 0, 1, 1, 0, 1, 0, 1, 0, 1, 1, 0, 0,\n",
       "        1, 1, 1, 1, 0, 0, 1, 1, 1, 0, 1, 1, 0, 0, 0, 0, 0, 0, 1, 1, 1, 1,\n",
       "        0, 1, 1, 1, 0, 0, 1, 1, 0, 1, 0, 0, 0, 1, 1, 0, 1, 1, 1, 1, 1, 1,\n",
       "        1, 1, 1, 0, 0, 0, 1, 0, 1, 1, 1, 0, 1, 0, 0, 1, 1, 0, 1, 1, 0, 0,\n",
       "        1, 0, 0, 0, 0, 1, 1, 0, 0, 1, 0, 0, 1, 1, 0, 0, 1, 0, 1, 0, 0, 0,\n",
       "        0, 1, 1, 1, 0, 1, 1, 0, 1, 1, 1, 0, 1, 1, 1, 0, 0, 0, 1, 1, 1, 1,\n",
       "        1, 1, 1, 1, 0, 0, 0, 0, 1, 1, 0, 1, 1, 1, 0, 0, 0, 0, 1, 1, 1, 1,\n",
       "        0, 0, 0, 1, 1, 1, 0, 0, 1, 0, 1, 1, 1, 0, 1, 0, 1, 1, 1, 0, 0, 1,\n",
       "        0, 1, 1, 0, 1, 1, 0, 1, 0, 1, 1, 1, 1, 0, 1, 1, 0, 1, 1, 0, 0, 0,\n",
       "        1, 0, 1, 1, 1, 0, 1, 1, 0, 0, 1, 1, 1, 0, 0, 1, 1, 0, 0, 0, 1, 1,\n",
       "        0, 1, 1, 0, 1, 1, 0, 1, 0, 1, 1, 1, 1, 1, 1, 1, 1, 0, 0, 1, 1, 1,\n",
       "        1, 1, 1, 1, 1, 1, 1, 0, 1, 1, 0, 0, 0, 1, 1, 1, 1, 0, 1, 1, 1, 0,\n",
       "        1, 0, 0, 1, 1, 1, 1, 1, 1, 1, 1, 1, 0, 1, 0, 1, 1, 0, 0, 0, 0, 1,\n",
       "        0, 1, 1, 1, 1, 1, 1, 0, 1, 1, 0, 1, 0, 1, 0, 1, 1, 0, 1, 1, 0, 1,\n",
       "        1, 1, 0, 1, 1, 0, 0, 0, 1, 0, 1, 0, 0, 0, 0, 1, 1, 1, 0, 1, 1, 1,\n",
       "        1, 1, 1, 1, 0, 1, 0, 1, 0, 0, 1, 1, 1, 1, 0, 1, 1, 0, 1, 1, 1, 0,\n",
       "        1, 0, 1, 1, 0, 0, 0, 1, 0, 0, 1, 1, 1, 0, 1, 1, 1, 1, 1, 0, 1, 0,\n",
       "        1, 1, 0, 1, 1, 1, 0, 1, 1, 1, 1, 1, 1, 1, 0, 0, 0, 1, 0, 1, 1, 0,\n",
       "        1, 0, 0, 1, 1, 1, 1, 1, 1, 1, 1, 0, 1, 1, 1, 1, 1, 1, 0, 0, 1, 1,\n",
       "        0, 1, 1, 0, 0, 1, 0, 1, 1, 1, 1, 0, 1, 0, 1, 0, 0, 1, 1, 0, 1, 1,\n",
       "        1, 1, 1, 1, 1, 1, 1, 1, 1, 0, 0, 1, 1, 1, 1, 1, 1, 0, 0, 1, 0, 1,\n",
       "        1, 1, 1, 1, 1, 1, 1, 0, 1, 0, 1, 1, 1, 1, 1, 0, 1, 1, 0, 1, 0, 1,\n",
       "        1, 1, 0, 1, 0, 1, 0, 1, 1, 1, 1, 1, 0, 0, 1, 1, 0, 1, 1, 1, 1, 1,\n",
       "        0, 0, 1, 0, 0, 1, 1, 1, 1, 1, 0, 1, 1, 1, 1, 1, 0, 1, 1, 1, 1, 0,\n",
       "        1, 1, 0, 1, 1, 1, 0, 1, 1, 1, 1, 0, 1, 1, 1, 0, 1, 0, 1, 0, 1, 1,\n",
       "        1, 1, 0, 1, 0, 1, 1, 0, 1, 0, 0, 0, 1, 1, 1, 1, 0, 1, 1, 1, 1, 1,\n",
       "        0, 1, 1, 1, 0, 0, 1, 0, 1, 0, 1, 1, 1, 1, 1, 0, 1, 0, 1, 1, 1, 0,\n",
       "        1, 1, 0, 1, 1, 1, 0, 1, 1, 0, 1, 1, 1, 1, 1, 0, 0, 1, 1, 1, 1, 0,\n",
       "        1, 1, 1, 1, 1, 1, 0, 1, 1, 1, 1, 1, 1, 0, 1, 1, 0, 0, 0, 0, 0, 1,\n",
       "        0, 1, 1, 1, 0, 0, 1, 0, 0, 1, 1, 1, 1, 0, 1, 1, 0, 0, 1, 1, 1, 0,\n",
       "        0, 1, 0, 1, 1, 0, 1, 0, 0, 1, 1]),\n",
       " array([2, 0, 2, 2, 2, 1, 2, 2, 2, 0, 2, 2, 2, 2, 2, 2, 1, 2, 2, 0, 2, 2,\n",
       "        1, 2, 2, 2, 0, 2, 1, 2, 0, 0, 1, 2, 0, 2, 0, 2, 2, 0, 2, 2, 0, 0,\n",
       "        1, 2, 1, 1, 0, 2, 2, 2, 0, 2, 0, 2, 2, 0, 2, 2, 0, 3, 2, 2, 0, 0,\n",
       "        2, 2, 2, 2, 2, 2, 2, 0, 2, 2, 2, 2, 2, 2, 2, 2, 1, 2, 2, 2, 2, 2,\n",
       "        2, 2, 2, 2, 2, 2, 2, 2, 0, 0, 2, 2, 2, 2, 2, 2, 2, 2, 2, 2, 2, 1,\n",
       "        2, 0, 2, 2, 0, 2, 1, 2, 0, 2, 2, 2, 0, 2, 2, 0, 1, 2, 0, 2, 0, 2,\n",
       "        2, 2, 2, 0, 2, 2, 2, 0, 0, 2, 2, 1, 2, 2, 2, 2, 2, 2, 2, 2, 2, 2,\n",
       "        2, 0, 1, 2, 2, 2, 2, 2, 2, 2, 2, 2, 2, 2, 2, 2, 2, 1, 2, 2, 0, 2,\n",
       "        2, 0, 2, 2, 2, 0, 2, 2, 2, 2, 1, 2, 1, 2, 2, 2, 2, 2, 0, 0, 1, 2,\n",
       "        1, 2, 2, 2, 2, 0, 2, 2, 2, 0, 1, 0, 2, 2, 2, 2, 1, 0, 2, 2, 0, 2,\n",
       "        2, 2, 2, 2, 2, 2, 2, 2, 2, 2, 2, 2, 2, 2, 2, 2, 2, 2, 2, 2, 0, 1,\n",
       "        2, 2, 0, 1, 2, 2, 2, 2, 2, 2, 2, 2, 2, 0, 0, 2, 0, 2, 1, 2, 2, 2,\n",
       "        1, 2, 2, 2, 2, 2, 2, 2, 2, 0, 1, 2, 2, 2, 1, 2, 1, 2, 2, 2, 2, 0,\n",
       "        2, 2, 2, 1, 2, 0, 0, 2, 2, 0, 0, 2, 2, 0, 1, 1, 2, 1, 2, 2, 0, 0,\n",
       "        0, 0, 0, 0, 2, 2, 2, 2, 2, 2, 2, 0, 2, 2, 1, 2, 2, 0, 2, 2, 2, 0,\n",
       "        1, 2, 2, 2, 2, 2, 2, 0, 2, 2, 2, 2, 2, 2, 2, 2, 2, 2, 2, 2, 2, 2,\n",
       "        0, 2, 0, 2, 2, 2, 1, 1, 2, 0, 0, 2, 1, 2, 0, 0, 1, 0, 0, 2, 2, 0,\n",
       "        2, 0, 2, 0, 0, 2, 0, 0, 2, 2, 2, 2, 2, 2, 1, 0, 2, 2, 2, 0, 2, 2,\n",
       "        2, 2, 2, 2, 2, 2, 2, 2, 2, 2, 2, 2, 2, 2, 2, 1, 1, 2, 2, 2, 2, 2,\n",
       "        2, 2, 0, 1, 2, 2, 2, 2, 2, 2, 1, 2, 2, 2, 2, 2, 2, 2, 2, 2, 2, 2,\n",
       "        2, 2, 2, 2, 2, 2, 2, 2, 0, 2, 2, 2, 0, 0, 2, 0, 2, 2, 2, 1, 2, 2,\n",
       "        2, 2, 2, 2, 2, 2, 1, 0, 2, 2, 2, 0, 2, 2, 2, 2, 2, 2, 2, 2, 2, 2,\n",
       "        0, 2, 2, 0, 2, 2, 2, 2, 2, 0, 2, 0, 0, 2, 2, 2, 2, 1, 1, 2, 2, 0,\n",
       "        2, 2, 2, 2, 1, 2, 2, 0, 2, 2, 2, 1, 2, 2, 2, 2, 0, 0, 0, 1, 2, 2,\n",
       "        2, 2, 2, 0, 0, 0, 2, 2, 2, 0, 2, 0, 2, 2, 2, 2, 0, 2, 2, 0, 2, 2,\n",
       "        0, 2, 1, 0, 2, 2, 0, 0, 2, 2, 1, 2, 2, 2, 2, 2, 2, 2, 0, 2, 2, 2,\n",
       "        2, 1, 2, 2, 2, 2, 0, 2, 2, 0, 2, 0, 0, 2, 2, 0, 2, 2, 2, 0, 2, 1,\n",
       "        2, 2, 2, 2, 0, 0, 2, 2, 2, 2, 0, 2, 2, 2, 0, 2, 2, 2, 1, 1, 2, 2,\n",
       "        2, 2, 2, 2, 0, 2, 0, 2, 2, 2, 1, 2, 2, 1, 2, 2, 0, 2, 2, 2, 2, 2,\n",
       "        2, 2, 2, 0, 2, 2, 0, 0, 2, 0, 2, 2, 2, 2, 2, 1, 1, 2, 2, 1, 2, 0,\n",
       "        2, 0, 2, 2, 2, 2, 2, 2, 2, 2, 2, 2, 2, 2, 2, 2, 2, 2, 2, 0, 1, 0,\n",
       "        2, 2, 2, 0, 2, 2, 2, 2, 2, 0, 2, 0, 2, 2, 2, 1, 0, 2, 0, 2, 0, 1,\n",
       "        2, 2, 2, 2, 2, 0, 0, 2, 2, 2, 2, 2, 0, 2, 1, 2, 2, 2, 2, 2, 2, 2,\n",
       "        2, 1, 2, 2, 2, 0, 2, 2, 2, 2, 2, 0, 2, 2, 2, 2, 0, 2, 2, 2, 2, 2,\n",
       "        2, 1, 2, 2, 2, 2, 2, 2, 2, 2, 2, 2, 2, 2, 0, 2, 2, 2, 0, 1, 1, 2,\n",
       "        2, 2, 2, 0, 2, 2, 1, 2, 1, 2, 0, 2, 2, 2, 2, 2, 2, 1, 2, 0, 1, 2,\n",
       "        2, 0, 2, 2, 2, 2, 0, 2, 2, 2, 2, 0, 2, 2, 2, 2, 2, 2, 2, 2, 2, 2,\n",
       "        2, 2, 2, 0, 2, 2, 2, 2, 2, 2, 2, 1, 2, 0, 1, 3, 0, 2, 0, 2, 2, 0,\n",
       "        2, 2, 2, 0, 2, 2, 0, 0, 2, 2, 2, 0, 2, 0, 2, 2, 0, 2, 2, 2, 2, 2,\n",
       "        0, 0, 2, 2, 2, 2, 2, 2, 0, 2, 2, 2, 2, 2, 2, 2, 0, 0, 2, 2, 2, 0,\n",
       "        2, 2, 2, 2, 2, 1, 2, 2, 2, 0, 1])]"
      ]
     },
     "execution_count": 62,
     "metadata": {},
     "output_type": "execute_result"
    }
   ],
   "source": [
    "encoded_vars"
   ]
  },
  {
   "cell_type": "code",
   "execution_count": 131,
   "id": "6521754a",
   "metadata": {},
   "outputs": [],
   "source": [
    "X_labelled_categories = np.concatenate([encoded_vars], axis=1)"
   ]
  },
  {
   "cell_type": "code",
   "execution_count": 132,
   "id": "324a6e10",
   "metadata": {},
   "outputs": [],
   "source": [
    "X_labelled = np.concatenate([X_labelled_categories.T, X_quantitative], axis=1)"
   ]
  },
  {
   "cell_type": "code",
   "execution_count": 133,
   "id": "85ad5224",
   "metadata": {},
   "outputs": [
    {
     "data": {
      "text/plain": [
       "array([[ 1.    ,  2.    , 22.    ,  7.25  ],\n",
       "       [ 0.    ,  0.    , 38.    , 71.2833],\n",
       "       [ 0.    ,  2.    , 26.    ,  7.925 ],\n",
       "       ...,\n",
       "       [ 0.    ,  2.    ,     nan, 23.45  ],\n",
       "       [ 1.    ,  0.    , 26.    , 30.    ],\n",
       "       [ 1.    ,  1.    , 32.    ,  7.75  ]])"
      ]
     },
     "execution_count": 133,
     "metadata": {},
     "output_type": "execute_result"
    }
   ],
   "source": [
    "X_labelled"
   ]
  },
  {
   "cell_type": "markdown",
   "id": "22257553",
   "metadata": {},
   "source": [
    "## Imputing missing values\n",
    "*See more at*: https://scikit-learn.org/stable/modules/impute.html\n",
    "\n",
    "During class, we studied 2 main ways of dealing with missing values: static imputation and KNN imputation."
   ]
  },
  {
   "cell_type": "markdown",
   "id": "e5593c10",
   "metadata": {},
   "source": [
    "### Static imputation\n",
    "Previously, we used the `fillna` method of pandas.\n",
    "We can also use the class `SimpleImputer`.\n",
    "\n",
    "The idea behind sklearn processers are the same than classifiers:\n",
    "1. Call `fit` to \"train\" the preprocesser\n",
    "2. Call `transform` to \n",
    "(or call `fit_transform` to do both at the same time)."
   ]
  },
  {
   "cell_type": "code",
   "execution_count": 17,
   "id": "c2dcbd8a",
   "metadata": {},
   "outputs": [],
   "source": [
    "from sklearn.impute import SimpleImputer"
   ]
  },
  {
   "cell_type": "code",
   "execution_count": 18,
   "id": "4b789d96",
   "metadata": {},
   "outputs": [],
   "source": [
    "simple_imputer = SimpleImputer(strategy=\"mean\")\n",
    "simple_imputer.fit(X_quantitative)\n",
    "\n",
    "X_imputed = simple_imputer.transform(X_quantitative)"
   ]
  },
  {
   "cell_type": "code",
   "execution_count": 19,
   "id": "dcd1309c",
   "metadata": {},
   "outputs": [
    {
     "data": {
      "text/plain": [
       "array([[22.        ,  7.25      ],\n",
       "       [38.        , 71.2833    ],\n",
       "       [26.        ,  7.925     ],\n",
       "       ...,\n",
       "       [29.69911765, 23.45      ],\n",
       "       [26.        , 30.        ],\n",
       "       [32.        ,  7.75      ]])"
      ]
     },
     "execution_count": 19,
     "metadata": {},
     "output_type": "execute_result"
    }
   ],
   "source": [
    "X_imputed"
   ]
  },
  {
   "cell_type": "markdown",
   "id": "22a45389",
   "metadata": {},
   "source": [
    "**Questions**:\n",
    "1. Use static imputation with mean and median for quantitative variables.\n",
    "2. Compute statistical estimators of the variables and show how filling N/A affects the distribution.\n",
    "3. Performs the same analysis using a plot.\n",
    "4. Try doing the same with qualitative variables... what is the problem ? Perform the imputation using the `most_frequent` strategy either on labeled data or one-hot-encoded data."
   ]
  },
  {
   "cell_type": "markdown",
   "id": "7ee91f05",
   "metadata": {},
   "source": [
    "**1.** "
   ]
  },
  {
   "cell_type": "code",
   "execution_count": 114,
   "id": "883595e3",
   "metadata": {},
   "outputs": [],
   "source": [
    "# Using the mean\n",
    "simple_imputer_mean = SimpleImputer(strategy=\"mean\")\n",
    "simple_imputer_mean.fit(X_quantitative)\n",
    "\n",
    "# Using the median\n",
    "simple_imputer_median = SimpleImputer(strategy=\"median\")\n",
    "simple_imputer_median.fit(X_quantitative)\n",
    "\n",
    "#Perform imputations\n",
    "X_imputed_median = simple_imputer_median.transform(X_quantitative)\n",
    "X_imputed_mean = simple_imputer_mean.transform(X_quantitative)"
   ]
  },
  {
   "cell_type": "markdown",
   "id": "0c2ddc0e",
   "metadata": {},
   "source": [
    "**2**."
   ]
  },
  {
   "cell_type": "code",
   "execution_count": 112,
   "id": "4fba8919",
   "metadata": {},
   "outputs": [
    {
     "data": {
      "text/plain": [
       "29.36158249158249"
      ]
     },
     "execution_count": 112,
     "metadata": {},
     "output_type": "execute_result"
    }
   ],
   "source": [
    "np.mean(X_imputed_median[:,0])"
   ]
  },
  {
   "cell_type": "code",
   "execution_count": 113,
   "id": "9e3781c0",
   "metadata": {},
   "outputs": [
    {
     "data": {
      "text/plain": [
       "29.69911764705882"
      ]
     },
     "execution_count": 113,
     "metadata": {},
     "output_type": "execute_result"
    }
   ],
   "source": [
    "np.mean(X_imputed_mean[:,0])"
   ]
  },
  {
   "cell_type": "markdown",
   "id": "441011d1",
   "metadata": {},
   "source": [
    "**3**."
   ]
  },
  {
   "cell_type": "code",
   "execution_count": 23,
   "id": "2e9dc725",
   "metadata": {},
   "outputs": [
    {
     "data": {
      "text/plain": [
       "(array([ 54.,  46., 177., 169., 118.,  70.,  45.,  24.,   9.,   2.]),\n",
       " array([ 0.42 ,  8.378, 16.336, 24.294, 32.252, 40.21 , 48.168, 56.126,\n",
       "        64.084, 72.042, 80.   ]),\n",
       " <BarContainer object of 10 artists>)"
      ]
     },
     "execution_count": 23,
     "metadata": {},
     "output_type": "execute_result"
    },
    {
     "data": {
      "image/png": "[encoded data removed]",
      "text/plain": [
       "<Figure size 640x480 with 1 Axes>"
      ]
     },
     "metadata": {},
     "output_type": "display_data"
    }
   ],
   "source": [
    "plt.hist(X_quantitative[:,0])"
   ]
  },
  {
   "cell_type": "code",
   "execution_count": 116,
   "id": "c7178167",
   "metadata": {},
   "outputs": [
    {
     "data": {
      "text/plain": [
       "(array([ 54.,  46., 177., 346., 118.,  70.,  45.,  24.,   9.,   2.]),\n",
       " array([ 0.42 ,  8.378, 16.336, 24.294, 32.252, 40.21 , 48.168, 56.126,\n",
       "        64.084, 72.042, 80.   ]),\n",
       " <BarContainer object of 10 artists>)"
      ]
     },
     "execution_count": 116,
     "metadata": {},
     "output_type": "execute_result"
    },
    {
     "data": {
      "image/png": "[encoded data removed]",
      "text/plain": [
       "<Figure size 640x480 with 1 Axes>"
      ]
     },
     "metadata": {},
     "output_type": "display_data"
    }
   ],
   "source": [
    "plt.hist(X_imputed_median[:,0])"
   ]
  },
  {
   "cell_type": "code",
   "execution_count": 117,
   "id": "d0d81641",
   "metadata": {},
   "outputs": [
    {
     "data": {
      "text/plain": [
       "(array([ 54.,  46., 177., 346., 118.,  70.,  45.,  24.,   9.,   2.]),\n",
       " array([ 0.42 ,  8.378, 16.336, 24.294, 32.252, 40.21 , 48.168, 56.126,\n",
       "        64.084, 72.042, 80.   ]),\n",
       " <BarContainer object of 10 artists>)"
      ]
     },
     "execution_count": 117,
     "metadata": {},
     "output_type": "execute_result"
    },
    {
     "data": {
      "image/png": "[encoded data removed]",
      "text/plain": [
       "<Figure size 640x480 with 1 Axes>"
      ]
     },
     "metadata": {},
     "output_type": "display_data"
    }
   ],
   "source": [
    "plt.hist(X_imputed_mean[:,0])"
   ]
  },
  {
   "cell_type": "markdown",
   "id": "0aaab499",
   "metadata": {},
   "source": [
    "**4**."
   ]
  },
  {
   "cell_type": "code",
   "execution_count": 26,
   "id": "043a57ee",
   "metadata": {},
   "outputs": [],
   "source": [
    "simple_imputer_cat = SimpleImputer(strategy=\"most_frequent\")\n",
    "X_cat_imputed = simple_imputer_cat.fit_transform(X_categorical)"
   ]
  },
  {
   "cell_type": "code",
   "execution_count": 27,
   "id": "d9318c0f",
   "metadata": {},
   "outputs": [
    {
     "data": {
      "text/plain": [
       "array([[1, 2],\n",
       "       [0, 0],\n",
       "       [0, 2],\n",
       "       ...,\n",
       "       [0, 2],\n",
       "       [1, 0],\n",
       "       [1, 1]])"
      ]
     },
     "execution_count": 27,
     "metadata": {},
     "output_type": "execute_result"
    }
   ],
   "source": [
    "X_cat_imputed"
   ]
  },
  {
   "cell_type": "markdown",
   "id": "ce9810d7",
   "metadata": {},
   "source": [
    "### KNN imputation\n",
    "Another possibility is to use the `KNNImputer`, that uses only KNN."
   ]
  },
  {
   "cell_type": "code",
   "execution_count": 29,
   "id": "ed317501",
   "metadata": {},
   "outputs": [
    {
     "data": {
      "text/html": [
       "<style>#sk-container-id-3 {color: black;background-color: white;}#sk-container-id-3 pre{padding: 0;}#sk-container-id-3 div.sk-toggleable {background-color: white;}#sk-container-id-3 label.sk-toggleable__label {cursor: pointer;display: block;width: 100%;margin-bottom: 0;padding: 0.3em;box-sizing: border-box;text-align: center;}#sk-container-id-3 label.sk-toggleable__label-arrow:before {content: \"▸\";float: left;margin-right: 0.25em;color: #696969;}#sk-container-id-3 label.sk-toggleable__label-arrow:hover:before {color: black;}#sk-container-id-3 div.sk-estimator:hover label.sk-toggleable__label-arrow:before {color: black;}#sk-container-id-3 div.sk-toggleable__content {max-height: 0;max-width: 0;overflow: hidden;text-align: left;background-color: #f0f8ff;}#sk-container-id-3 div.sk-toggleable__content pre {margin: 0.2em;color: black;border-radius: 0.25em;background-color: #f0f8ff;}#sk-container-id-3 input.sk-toggleable__control:checked~div.sk-toggleable__content {max-height: 200px;max-width: 100%;overflow: auto;}#sk-container-id-3 input.sk-toggleable__control:checked~label.sk-toggleable__label-arrow:before {content: \"▾\";}#sk-container-id-3 div.sk-estimator input.sk-toggleable__control:checked~label.sk-toggleable__label {background-color: #d4ebff;}#sk-container-id-3 div.sk-label input.sk-toggleable__control:checked~label.sk-toggleable__label {background-color: #d4ebff;}#sk-container-id-3 input.sk-hidden--visually {border: 0;clip: rect(1px 1px 1px 1px);clip: rect(1px, 1px, 1px, 1px);height: 1px;margin: -1px;overflow: hidden;padding: 0;position: absolute;width: 1px;}#sk-container-id-3 div.sk-estimator {font-family: monospace;background-color: #f0f8ff;border: 1px dotted black;border-radius: 0.25em;box-sizing: border-box;margin-bottom: 0.5em;}#sk-container-id-3 div.sk-estimator:hover {background-color: #d4ebff;}#sk-container-id-3 div.sk-parallel-item::after {content: \"\";width: 100%;border-bottom: 1px solid gray;flex-grow: 1;}#sk-container-id-3 div.sk-label:hover label.sk-toggleable__label {background-color: #d4ebff;}#sk-container-id-3 div.sk-serial::before {content: \"\";position: absolute;border-left: 1px solid gray;box-sizing: border-box;top: 0;bottom: 0;left: 50%;z-index: 0;}#sk-container-id-3 div.sk-serial {display: flex;flex-direction: column;align-items: center;background-color: white;padding-right: 0.2em;padding-left: 0.2em;position: relative;}#sk-container-id-3 div.sk-item {position: relative;z-index: 1;}#sk-container-id-3 div.sk-parallel {display: flex;align-items: stretch;justify-content: center;background-color: white;position: relative;}#sk-container-id-3 div.sk-item::before, #sk-container-id-3 div.sk-parallel-item::before {content: \"\";position: absolute;border-left: 1px solid gray;box-sizing: border-box;top: 0;bottom: 0;left: 50%;z-index: -1;}#sk-container-id-3 div.sk-parallel-item {display: flex;flex-direction: column;z-index: 1;position: relative;background-color: white;}#sk-container-id-3 div.sk-parallel-item:first-child::after {align-self: flex-end;width: 50%;}#sk-container-id-3 div.sk-parallel-item:last-child::after {align-self: flex-start;width: 50%;}#sk-container-id-3 div.sk-parallel-item:only-child::after {width: 0;}#sk-container-id-3 div.sk-dashed-wrapped {border: 1px dashed gray;margin: 0 0.4em 0.5em 0.4em;box-sizing: border-box;padding-bottom: 0.4em;background-color: white;}#sk-container-id-3 div.sk-label label {font-family: monospace;font-weight: bold;display: inline-block;line-height: 1.2em;}#sk-container-id-3 div.sk-label-container {text-align: center;}#sk-container-id-3 div.sk-container {/* jupyter's `normalize.less` sets `[hidden] { display: none; }` but bootstrap.min.css set `[hidden] { display: none !important; }` so we also need the `!important` here to be able to override the default hidden behavior on the sphinx rendered scikit-learn.org. See: https://github.com/scikit-learn/scikit-learn/issues/21755 */display: inline-block !important;position: relative;}#sk-container-id-3 div.sk-text-repr-fallback {display: none;}</style><div id=\"sk-container-id-3\" class=\"sk-top-container\"><div class=\"sk-text-repr-fallback\"><pre>KNNImputer()</pre><b>In a Jupyter environment, please rerun this cell to show the HTML representation or trust the notebook. <br />On GitHub, the HTML representation is unable to render, please try loading this page with nbviewer.org.</b></div><div class=\"sk-container\" hidden><div class=\"sk-item\"><div class=\"sk-estimator sk-toggleable\"><input class=\"sk-toggleable__control sk-hidden--visually\" id=\"sk-estimator-id-3\" type=\"checkbox\" checked><label for=\"sk-estimator-id-3\" class=\"sk-toggleable__label sk-toggleable__label-arrow\">KNNImputer</label><div class=\"sk-toggleable__content\"><pre>KNNImputer()</pre></div></div></div></div></div>"
      ],
      "text/plain": [
       "KNNImputer()"
      ]
     },
     "execution_count": 29,
     "metadata": {},
     "output_type": "execute_result"
    }
   ],
   "source": [
    "from sklearn.impute import KNNImputer\n",
    "knn_imputer = KNNImputer(n_neighbors=5)\n",
    "knn_imputer.fit(X_quantitative)"
   ]
  },
  {
   "cell_type": "markdown",
   "id": "31db1dda",
   "metadata": {},
   "source": [
    "**Questions**:\n",
    "1. Use KNN imputation with $k=1$, $k=5$ and $k=1000$. \n",
    "2. How does the value of $k$ impact your imputation ? Analyze it using statistical estimators and graph.\n",
    "3. Try doing the same with qualitative variables... what is the problem ? How can you resolve it ?"
   ]
  },
  {
   "cell_type": "markdown",
   "id": "eaf15815",
   "metadata": {},
   "source": [
    "**1.**\n"
   ]
  },
  {
   "cell_type": "code",
   "execution_count": 31,
   "id": "5ac9426e",
   "metadata": {},
   "outputs": [],
   "source": [
    "from sklearn.impute import KNNImputer\n",
    "imputed_Xs = []\n",
    "for k in [1, 5, 200, 800]:\n",
    "    knn_imputer = KNNImputer(n_neighbors=k)\n",
    "    knn_imputer.fit(X_quantitative)\n",
    "    imputed_Xs.append(knn_imputer.transform(X_quantitative))"
   ]
  },
  {
   "cell_type": "markdown",
   "id": "901a4e36",
   "metadata": {},
   "source": [
    "**2.**"
   ]
  },
  {
   "cell_type": "code",
   "execution_count": 129,
   "id": "fb7d8a68",
   "metadata": {},
   "outputs": [
    {
     "name": "stdout",
     "output_type": "stream",
     "text": [
      "k=1\n",
      "31.1051290684624\n",
      "k=5\n",
      "29.638278338945007\n",
      "k=200\n",
      "29.47429618406285\n",
      "k=800\n",
      "29.69911764705882\n"
     ]
    }
   ],
   "source": [
    "for imputation, k in zip(imputed_Xs, [1, 5, 200, 800]):\n",
    "    print(f\"k={k}\")\n",
    "    print(np.mean(imputation[:,0]))"
   ]
  },
  {
   "cell_type": "markdown",
   "id": "1b67d738",
   "metadata": {},
   "source": [
    "**3**."
   ]
  },
  {
   "cell_type": "code",
   "execution_count": 147,
   "id": "7ec11530",
   "metadata": {},
   "outputs": [],
   "source": [
    "from sklearn.impute import KNNImputer\n",
    "\n",
    "imputed_Xs = []\n",
    "for k in [1]: ##### Attention, on ne peut pas faire de moyenne sur des catégories !\n",
    "    knn_imputer = KNNImputer(n_neighbors=5)\n",
    "    knn_imputer.fit(X_labelled)"
   ]
  },
  {
   "cell_type": "code",
   "execution_count": 148,
   "id": "44074cad",
   "metadata": {},
   "outputs": [
    {
     "data": {
      "text/plain": [
       "array([[ 1.    ,  2.    , 22.    ,  7.25  ],\n",
       "       [ 0.    ,  0.    , 38.    , 71.2833],\n",
       "       [ 0.    ,  2.    , 26.    ,  7.925 ],\n",
       "       ...,\n",
       "       [ 0.    ,  2.    , 28.    , 23.45  ],\n",
       "       [ 1.    ,  0.    , 26.    , 30.    ],\n",
       "       [ 1.    ,  1.    , 32.    ,  7.75  ]])"
      ]
     },
     "execution_count": 148,
     "metadata": {},
     "output_type": "execute_result"
    }
   ],
   "source": [
    "knn_imputer.transform(X_labelled)"
   ]
  },
  {
   "cell_type": "markdown",
   "id": "dda658df",
   "metadata": {},
   "source": [
    "Now, save your dataset as `X_preprocessed` and use it in the rest of the labs/in your project."
   ]
  },
  {
   "cell_type": "markdown",
   "id": "aa3b8eff",
   "metadata": {},
   "source": [
    "## Feature transformation\n",
    "\n",
    "In class, we saw two possible ways of reducing features:\n",
    "- Min-max scaling\n",
    "- Z-scaling/Standard-scaling\n",
    "\n",
    "Many scalers are available in sklearn: https://scikit-learn.org/stable/modules/preprocessing.html#preprocessing-scaler"
   ]
  },
  {
   "cell_type": "code",
   "execution_count": 33,
   "id": "e225bb06",
   "metadata": {},
   "outputs": [],
   "source": [
    "from sklearn.preprocessing import MinMaxScaler\n",
    "\n",
    "min_max_scaler = MinMaxScaler()\n",
    "min_max_scaler.fit(X_quantitative)\n",
    "scaled_quantitative = min_max_scaler.transform(X_quantitative)\n",
    "\n",
    "# Autre manière de calculer la matrice transformée:\n",
    "# scaled_quantitative = min_max_scaler.fit_transform(X_quantitative)"
   ]
  },
  {
   "cell_type": "code",
   "execution_count": 34,
   "id": "406f1747",
   "metadata": {},
   "outputs": [
    {
     "data": {
      "text/plain": [
       "Text(0.5, 1.0, 'Yellow = survived, Purple = died')"
      ]
     },
     "execution_count": 34,
     "metadata": {},
     "output_type": "execute_result"
    },
    {
     "data": {
      "image/png": "[encoded data removed]",
      "text/plain": [
       "<Figure size 640x480 with 1 Axes>"
      ]
     },
     "metadata": {},
     "output_type": "display_data"
    }
   ],
   "source": [
    "plt.scatter(X_quantitative[:,0], X_quantitative[:,1], c=y)\n",
    "plt.xlabel(\"Age\")\n",
    "plt.ylabel(\"Fare\")\n",
    "plt.title(\"Yellow = survived, Purple = died\")"
   ]
  },
  {
   "cell_type": "code",
   "execution_count": 35,
   "id": "baad93b5",
   "metadata": {},
   "outputs": [
    {
     "data": {
      "text/plain": [
       "Text(0.5, 1.0, 'Yellow = survived, Purple = died')"
      ]
     },
     "execution_count": 35,
     "metadata": {},
     "output_type": "execute_result"
    },
    {
     "data": {
      "image/png": "[encoded data removed]",
      "text/plain": [
       "<Figure size 640x480 with 1 Axes>"
      ]
     },
     "metadata": {},
     "output_type": "display_data"
    }
   ],
   "source": [
    "plt.scatter(scaled_quantitative[:,0], scaled_quantitative[:,1], c=y)\n",
    "plt.xlabel(\"Age\")\n",
    "plt.ylabel(\"Fare\")\n",
    "plt.title(\"Yellow = survived, Purple = died\")"
   ]
  },
  {
   "cell_type": "markdown",
   "id": "b374811b",
   "metadata": {},
   "source": [
    "**Questions**:\n",
    "1. Can you apply every kind of scaling to every kind of algorithm ?\n",
    "2. Apply min max scaling to your dataset and compare the repartition of the data on the parametric space.\n",
    "2. Go back to the full pipeline and perform train/test validation with and without scaling and see how it affects the results (**be careful about data leaks**)."
   ]
  },
  {
   "cell_type": "markdown",
   "id": "31e197f9",
   "metadata": {},
   "source": [
    "**1**. "
   ]
  },
  {
   "cell_type": "markdown",
   "id": "5a246fde",
   "metadata": {},
   "source": [
    "**Non**, dans les algorithmes \"inteprétables\" (arbres de régression, régression logistique ...) on perd en pouvoir d'explication (car on ne voit plus directement quelles sont les valeurs des splits dans les arbres par exemple). "
   ]
  },
  {
   "cell_type": "markdown",
   "id": "5f39f474",
   "metadata": {},
   "source": [
    "**2**.\n"
   ]
  },
  {
   "cell_type": "code",
   "execution_count": 15,
   "id": "18352e3d",
   "metadata": {},
   "outputs": [],
   "source": [
    "from sklearn.preprocessing import MinMaxScaler\n",
    "\n",
    "min_max_scaler = MinMaxScaler()\n",
    "X_min_max_scaled = min_max_scaler.fit_transform(X=X_quantitative)"
   ]
  },
  {
   "cell_type": "code",
   "execution_count": 16,
   "id": "b98c33ee",
   "metadata": {},
   "outputs": [
    {
     "data": {
      "text/plain": [
       "(array([ 54.,  46., 177., 169., 118.,  70.,  45.,  24.,   9.,   2.]),\n",
       " array([0. , 0.1, 0.2, 0.3, 0.4, 0.5, 0.6, 0.7, 0.8, 0.9, 1. ]),\n",
       " <BarContainer object of 10 artists>)"
      ]
     },
     "execution_count": 16,
     "metadata": {},
     "output_type": "execute_result"
    },
    {
     "data": {
      "image/png": "[encoded data removed]",
      "text/plain": [
       "<Figure size 640x480 with 1 Axes>"
      ]
     },
     "metadata": {},
     "output_type": "display_data"
    }
   ],
   "source": [
    "plt.hist(X_min_max_scaled[:,0])"
   ]
  },
  {
   "cell_type": "code",
   "execution_count": 17,
   "id": "f9bcc7d8",
   "metadata": {},
   "outputs": [
    {
     "data": {
      "text/plain": [
       "(array([ 54.,  46., 177., 169., 118.,  70.,  45.,  24.,   9.,   2.]),\n",
       " array([ 0.42 ,  8.378, 16.336, 24.294, 32.252, 40.21 , 48.168, 56.126,\n",
       "        64.084, 72.042, 80.   ]),\n",
       " <BarContainer object of 10 artists>)"
      ]
     },
     "execution_count": 17,
     "metadata": {},
     "output_type": "execute_result"
    },
    {
     "data": {
      "image/png": "[encoded data removed]",
      "text/plain": [
       "<Figure size 640x480 with 1 Axes>"
      ]
     },
     "metadata": {},
     "output_type": "display_data"
    }
   ],
   "source": [
    "plt.hist(X_quantitative[:,0])"
   ]
  },
  {
   "cell_type": "code",
   "execution_count": 18,
   "id": "f7f7af7e",
   "metadata": {},
   "outputs": [
    {
     "data": {
      "text/plain": [
       "Text(0.5, 1.0, 'Yellow = survived, Purple = died')"
      ]
     },
     "execution_count": 18,
     "metadata": {},
     "output_type": "execute_result"
    },
    {
     "data": {
      "image/png": "[encoded data removed]",
      "text/plain": [
       "<Figure size 640x480 with 1 Axes>"
      ]
     },
     "metadata": {},
     "output_type": "display_data"
    }
   ],
   "source": [
    "plt.scatter(X_min_max_scaled[:,0], X_min_max_scaled[:,1], c=y)\n",
    "plt.xlabel(\"Age\")\n",
    "plt.ylabel(\"Fare\")\n",
    "plt.title(\"Yellow = survived, Purple = died\")"
   ]
  },
  {
   "cell_type": "markdown",
   "id": "dd5f8d3c",
   "metadata": {},
   "source": [
    "**3 = révision de tout ce qu'on a fait jusqu'à présent !**\n",
    "\n",
    "=> **A faire avec votre jeu de données**, vous pouvez commencer à rédiger les résultats.\n",
    "\n",
    "> *NB*: **les data leaks**: le fait que des informations du jeu de données d'entraînement (ou du jeu de données global) se retrouve dans le jeu de données de test et fausse nos résultats !\n",
    "> Si j'appelle mon \"scaler\" sklearn sur tout le jeu de données (ou sur X_train seulement) et qu'ensuite je l'applique à X_train et X_test."
   ]
  },
  {
   "cell_type": "code",
   "execution_count": 26,
   "id": "8f517dc1",
   "metadata": {},
   "outputs": [],
   "source": [
    "###### ATTENTION à ne pas faire:\n",
    "\n",
    "min_max_scaler = MinMaxScaler()\n",
    "X_min_max_scaled = min_max_scaler.fit_transform(X=X_quantitative)\n",
    "\n",
    "X_train = X_quantitative[:600]\n",
    "X_test = X_quantitative[600:]\n",
    "\n",
    "# A ne pas faire !!!!!!!!!!!!!!!!!!!!\n",
    "# Data leak !!!\n",
    "X_train_transformed = min_max_scaler.transform(X_train)\n",
    "X_test_transformed = min_max_scaler.transform(X_test)\n",
    "\n",
    "\n",
    "# A faire:\n",
    "\n",
    "# Solution 1: on fait 2 scalers\n",
    "min_max_scaler_train = MinMaxScaler()\n",
    "X_min_max_scaled_train = min_max_scaler_train.fit(X_train)\n",
    "\n",
    "min_max_scaler_test = MinMaxScaler()\n",
    "X_min_max_scaled_test = min_max_scaler_test.fit(X_test)\n",
    "\n",
    "# Solution 2: \n",
    "\n",
    "X_train_transformed = min_max_scaler.fit_transform(X_train)\n",
    "X_test_transformed = min_max_scaler.fit_transform(X_test)"
   ]
  },
  {
   "cell_type": "markdown",
   "id": "317a6b1b",
   "metadata": {},
   "source": [
    "## Pipeline globale:"
   ]
  },
  {
   "cell_type": "code",
   "execution_count": 69,
   "id": "30e32f1a",
   "metadata": {},
   "outputs": [],
   "source": [
    "# Analyse de données et compréhension des variables et de la problématique (cf: partiel)\n",
    "# Et choix d'un score pertinent\n",
    "\n",
    "# Etape 1: Preprocessing\n",
    "\n",
    "    # Transformer les variables qualitatives en \"quantitative\" \n",
    "        # Si jamais mon algorithme ne le prend pas nativement en compte, faire des variables dummy\n",
    "        # Si jamais l'implémentation de sklearn a besoin d'entier, utiliser le label encoder.\n",
    "        \n",
    "    # Gérer les données manquantes:\n",
    "        # Faire un bilan\n",
    "        # Choisir une méthode d'imputation en la justifiant\n",
    "    \n",
    "    # Trouver les valeurs aberrantes:\n",
    "        # Les analyser\n",
    "        # Soit les traiter comme des valeurs manquantes\n",
    "        # Soit les laisser\n",
    "        \n",
    "\n",
    "##### Fin de l'étape 1: un jeu de données propre !\n",
    "\n",
    "# Etape 2: Classification\n",
    "    # Faire un choix du classifieur que l'on souhaite utiliser (chacun ayant ses contraintes)\n",
    "    \n",
    "    # Faire un choix de la transformation des données qu'on va appliquer\n",
    "    \n",
    "    # Entraîner l'algorithme avec une approche soit:\n",
    "        # train - test (si imposée par les contraintes externes)\n",
    "        # validation croisée\n",
    "    # pour trouver les hyperparamètres optimaux\n",
    "    \n",
    "    # Une fois sélectionnés, on fait l'entraînement sur tout le jeu de données et on sort le score final\n",
    "    "
   ]
  },
  {
   "cell_type": "code",
   "execution_count": 39,
   "id": "4e5bcb97",
   "metadata": {},
   "outputs": [],
   "source": [
    "from sklearn.preprocessing import OneHotEncoder\n",
    "\n",
    "# On transforme les variables qualitatives en dummy (numérique)\n",
    "one_hot_encoder = OneHotEncoder()\n",
    "X_qualitative_dummy = one_hot_encoder.fit_transform(X_categorical)\n",
    "X_all = np.concatenate([X_quantitative, X_qualitative_dummy.toarray()], axis=1)\n",
    "\n",
    "# On part sur un KNNImputer, car nous avons montré dans la partie 2 que celui-ci est relativement\n",
    "# efficace \n",
    "# On prend k=1 car nous avons des variables qualitatives\n",
    "\n",
    "from sklearn.impute import KNNImputer\n",
    "\n",
    "knn_imputer = KNNImputer(n_neighbors=1)\n",
    "X_all_imputed = knn_imputer.fit_transform(X_all)\n",
    "\n",
    "# Regarder les valeurs aberrantes grâce à mes boxplots"
   ]
  },
  {
   "cell_type": "code",
   "execution_count": 40,
   "id": "f05f5ef0",
   "metadata": {},
   "outputs": [
    {
     "data": {
      "image/png": "[encoded data removed]",
      "text/plain": [
       "<Figure size 640x480 with 1 Axes>"
      ]
     },
     "metadata": {},
     "output_type": "display_data"
    },
    {
     "data": {
      "image/png": "[encoded data removed]",
      "text/plain": [
       "<Figure size 640x480 with 1 Axes>"
      ]
     },
     "metadata": {},
     "output_type": "display_data"
    }
   ],
   "source": [
    "for X_val in X_quantitative.T:\n",
    "    sns.boxplot(X_val)\n",
    "    plt.show()\n",
    "    \n",
    "# Après l'examen des boxplots, je ne vois pas de valeur aberrantes: il y a certes des passagers beaucoup plus âgés que \n",
    "# la répartition médiane, mais cela est porteur de sens pour la classification.\n",
    "# Idem pour le prix des billets: il n'est pas choquant qu'un bateau de luxe offre des billets extrêmement chers\n",
    "# et certains beaucoup moins."
   ]
  },
  {
   "cell_type": "code",
   "execution_count": 41,
   "id": "d2147f1d",
   "metadata": {},
   "outputs": [],
   "source": [
    "# Jeu de donnée propre à la fin de mon étape 1:\n",
    "X_preprocessed = X_all_imputed"
   ]
  },
  {
   "cell_type": "code",
   "execution_count": 66,
   "id": "d2168fa0",
   "metadata": {},
   "outputs": [],
   "source": [
    "# On choisit d'appliquer un KNN mais il nous faut décider du k.\n",
    "# On veut aussi savoir si jamais il est intéressant de scaler les données (car algorithme basé sur la distance).\n",
    "# On choisit une approche de validation croisée."
   ]
  },
  {
   "cell_type": "code",
   "execution_count": 42,
   "id": "cc9ed7ab",
   "metadata": {},
   "outputs": [
    {
     "name": "stdout",
     "output_type": "stream",
     "text": [
      "k = 1\n",
      "Model score: 71.91%\n",
      "k = 3\n",
      "Model score: 71.35%\n",
      "k = 5\n",
      "Model score: 71.35%\n",
      "k = 7\n",
      "Model score: 71.35%\n",
      "k = 9\n",
      "Model score: 73.03%\n",
      "k = 11\n",
      "Model score: 73.6%\n",
      "k = 13\n",
      "Model score: 74.16%\n",
      "k = 15\n",
      "Model score: 73.6%\n",
      "k = 17\n",
      "Model score: 73.6%\n",
      "k = 19\n",
      "Model score: 74.16%\n",
      "k = 21\n",
      "Model score: 74.16%\n",
      "k = 23\n",
      "Model score: 75.28%\n",
      "k = 25\n",
      "Model score: 74.72%\n",
      "k = 27\n",
      "Model score: 74.16%\n",
      "k = 29\n",
      "Model score: 74.16%\n"
     ]
    }
   ],
   "source": [
    "from sklearn.model_selection import cross_val_score\n",
    "from sklearn.neighbors import KNeighborsClassifier\n",
    "from sklearn.model_selection import KFold\n",
    "\n",
    "# Sans scaling\n",
    "for k in range(1, 30, 2):\n",
    "    print(f\"k = {k}\")\n",
    "    knn_classifier = KNeighborsClassifier(n_neighbors=k, p=1)\n",
    "    scores = cross_val_score(estimator=knn_classifier, X=X_preprocessed, y=y, scoring=\"accuracy\")\n",
    "    print(f\"Model score: {round(np.median(scores)*100, 2)}%\")\n"
   ]
  },
  {
   "cell_type": "code",
   "execution_count": 44,
   "id": "05d7d988",
   "metadata": {},
   "outputs": [
    {
     "name": "stdout",
     "output_type": "stream",
     "text": [
      "k = 1\n",
      "Median score: 65.8%\n",
      "k = 3\n",
      "Median score: 74.34%\n",
      "k = 5\n",
      "Median score: 70.97%\n",
      "k = 7\n",
      "Median score: 74.77%\n",
      "k = 9\n",
      "Median score: 75.6%\n",
      "k = 11\n",
      "Median score: 77.47%\n",
      "k = 13\n",
      "Median score: 75.77%\n",
      "k = 15\n",
      "Median score: 78.59%\n",
      "k = 17\n",
      "Median score: 78.15%\n",
      "k = 19\n",
      "Median score: 74.94%\n",
      "k = 21\n",
      "Median score: 76.94%\n",
      "k = 23\n",
      "Median score: 76.6%\n",
      "k = 25\n",
      "Median score: 77.77%\n",
      "k = 27\n",
      "Median score: 78.33%\n",
      "k = 29\n",
      "Median score: 76.12%\n"
     ]
    }
   ],
   "source": [
    "# Avec scaling\n",
    "from sklearn.metrics import balanced_accuracy_score\n",
    "NBR_FOLDS=5\n",
    "\n",
    "indexes = KFold(n_splits=NBR_FOLDS, shuffle=True)\n",
    "\n",
    "balanced_accuracy_score_global = []\n",
    "\n",
    "min_max_scaler = MinMaxScaler()\n",
    "\n",
    "for k in range(1, 30, 2):\n",
    "    print(f\"k = {k}\")\n",
    "\n",
    "    knn_classifier = KNeighborsClassifier(n_neighbors=k, p=1)\n",
    "    \n",
    "    balanced_accuracy_scores = []\n",
    "    for ix, (train_index, test_index) in enumerate(indexes.split(X)):\n",
    "        # Scale train data\n",
    "        scaled_train = min_max_scaler.fit_transform(X_preprocessed[train_index])\n",
    "        knn_classifier.fit(scaled_train, y[train_index])\n",
    "        \n",
    "        # Scale test data\n",
    "        scaled_test = min_max_scaler.fit_transform(X_preprocessed[test_index])\n",
    "        y_predict_fold = knn_classifier.predict(scaled_test)\n",
    "        \n",
    "        # Compute score\n",
    "        balanced_accuracy = balanced_accuracy_score(y[test_index], y_predict_fold)\n",
    "        balanced_accuracy_scores.append(balanced_accuracy)\n",
    "        \n",
    "    balanced_accuracy_score_global.append(np.median(balanced_accuracy_scores))\n",
    "    print(f\"Median score: {round(np.median(balanced_accuracy_scores)*100, 2)}%\")"
   ]
  },
  {
   "cell_type": "code",
   "execution_count": 98,
   "id": "d941e5f8",
   "metadata": {},
   "outputs": [
    {
     "name": "stdout",
     "output_type": "stream",
     "text": [
      "k = 1\n",
      "Median score: 67.37%\n",
      "k = 3\n",
      "Median score: 73.03%\n",
      "k = 5\n",
      "Median score: 76.15%\n",
      "k = 7\n",
      "Median score: 75.56%\n",
      "k = 9\n",
      "Median score: 75.05%\n",
      "k = 11\n",
      "Median score: 76.96%\n",
      "k = 13\n",
      "Median score: 77.04%\n",
      "k = 15\n",
      "Median score: 77.71%\n",
      "k = 17\n",
      "Median score: 75.68%\n",
      "k = 19\n",
      "Median score: 76.26%\n",
      "k = 21\n",
      "Median score: 78.61%\n",
      "k = 23\n",
      "Median score: 76.5%\n",
      "k = 25\n",
      "Median score: 76.84%\n",
      "k = 27\n",
      "Median score: 76.38%\n",
      "k = 29\n",
      "Median score: 77.34%\n"
     ]
    }
   ],
   "source": [
    "# Avec scaling\n",
    "from sklearn.metrics import balanced_accuracy_score\n",
    "NBR_FOLDS=5\n",
    "\n",
    "indexes = KFold(n_splits=NBR_FOLDS, shuffle=True)\n",
    "\n",
    "balanced_accuracy_score_global = []\n",
    "\n",
    "standard_scaler = StandardScaler()\n",
    "\n",
    "for k in range(1, 30, 2):\n",
    "    print(f\"k = {k}\")\n",
    "\n",
    "    knn_classifier = KNeighborsClassifier(n_neighbors=k, p=1)\n",
    "    \n",
    "    balanced_accuracy_scores = []\n",
    "    for ix, (train_index, test_index) in enumerate(indexes.split(X)):\n",
    "        # Scale train data\n",
    "        scaled_train = standard_scaler.fit_transform(X_preprocessed[train_index])\n",
    "        knn_classifier.fit(scaled_train, y[train_index])\n",
    "        \n",
    "        # Scale test data\n",
    "        scaled_test = standard_scaler.fit_transform(X_preprocessed[test_index])\n",
    "        y_predict_fold = knn_classifier.predict(scaled_test)\n",
    "        \n",
    "        # Compute score\n",
    "        balanced_accuracy = balanced_accuracy_score(y[test_index], y_predict_fold)\n",
    "        balanced_accuracy_scores.append(balanced_accuracy)\n",
    "        \n",
    "    balanced_accuracy_score_global.append(np.median(balanced_accuracy_scores))\n",
    "    print(f\"Median score: {round(np.median(balanced_accuracy_scores)*100, 2)}%\")"
   ]
  },
  {
   "cell_type": "code",
   "execution_count": 114,
   "id": "aeda2227",
   "metadata": {},
   "outputs": [
    {
     "name": "stdout",
     "output_type": "stream",
     "text": [
      "Accuracy: 79.57351290684625%\n",
      "Recall: 72.51461988304094%\n",
      "Precision: 73.80952380952381%\n"
     ]
    }
   ],
   "source": [
    "from sklearn.metrics import classification_report, accuracy_score, recall_score, precision_score\n",
    "\n",
    "min_max_scaler = MinMaxScaler()\n",
    "X_scaled = min_max_scaler.fit_transform(X_preprocessed)\n",
    "knn_classifier = KNeighborsClassifier(n_neighbors=25)\n",
    "knn_classifier.fit(X_scaled, y)\n",
    "y_pred = knn_classifier.predict(X_scaled)\n",
    "\n",
    "accuracy = accuracy_score(y, y_pred)\n",
    "recall = recall_score(y, y_pred)\n",
    "precision = precision_score(y, y_pred)\n",
    "print(f\"Accuracy: {accuracy * 100}%\")\n",
    "print(f\"Recall: {recall * 100}%\")\n",
    "print(f\"Precision: {precision * 100}%\")"
   ]
  },
  {
   "cell_type": "markdown",
   "id": "f2bc0f95",
   "metadata": {},
   "source": [
    "Après l'ensemble des étapes, j'en déduis la *pipeline* suivante \"optimale\":\n",
    "- On encode les variables selon un transformer dummy\n",
    "- On impute les valeurs manquantes avec un KNN avec k=1\n",
    "- On n'enlève aucune donnée extrême\n",
    "\n",
    "- On choisit le min-max scaler\n",
    "- On choisit k=25\n",
    "\n",
    "- On obtient le score total en accuracy moyen de 79\\%."
   ]
  }
 ],
 "metadata": {
  "kernelspec": {
   "display_name": "Python 3 (ipykernel)",
   "language": "python",
   "name": "python3"
  },
  "language_info": {
   "codemirror_mode": {
    "name": "ipython",
    "version": 3
   },
   "file_extension": ".py",
   "mimetype": "text/x-python",
   "name": "python",
   "nbconvert_exporter": "python",
   "pygments_lexer": "ipython3",
   "version": "3.10.6"
  }
 },
 "nbformat": 4,
 "nbformat_minor": 5
}
