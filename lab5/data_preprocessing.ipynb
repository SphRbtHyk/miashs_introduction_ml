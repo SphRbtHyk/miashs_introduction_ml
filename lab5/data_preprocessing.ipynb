{
 "cells": [
  {
   "cell_type": "markdown",
   "id": "3a35da26",
   "metadata": {},
   "source": [
    "# Data preprocessing\n",
    "\n",
    "**Requirement**: take the dataset of your project, *with* the missing values and the newly created variables."
   ]
  },
  {
   "cell_type": "code",
   "execution_count": 125,
   "id": "9f49bf39",
   "metadata": {},
   "outputs": [],
   "source": [
    "import pandas as pd\n",
    "import numpy as np\n",
    "from matplotlib import pyplot as plt\n",
    "import seaborn as sns\n",
    "\n",
    "df = pd.read_csv(\"../pokemon.csv\")"
   ]
  },
  {
   "cell_type": "code",
   "execution_count": 126,
   "id": "25aa9f44",
   "metadata": {},
   "outputs": [],
   "source": [
    "# My target is survived \n",
    "y = df.is_legendary.values\n",
    "# For demonstration, I'm taking only 4 columns\n",
    "categorical_variables = [\"type1\", \"type2\"]\n",
    "quantitative_variables = ['defense', 'experience_growth', 'height_m', 'hp',\n",
    "       'percentage_male']\n",
    "\n",
    "X = df[categorical_variables + quantitative_variables].values\n",
    "X_quantitative = df[quantitative_variables].values\n",
    "X_categorical = df[categorical_variables].values"
   ]
  },
  {
   "cell_type": "markdown",
   "id": "a477cb4f",
   "metadata": {},
   "source": [
    "## Encoding categorical variables"
   ]
  },
  {
   "cell_type": "markdown",
   "id": "e0701727",
   "metadata": {},
   "source": [
    "#### One-hot encoding\n",
    "For most ML algorithms, the categorical variables should be encoded using one-hot encoding. To do so, we can use `sklearn` one-hot-encoding class."
   ]
  },
  {
   "cell_type": "code",
   "execution_count": 127,
   "id": "89dace32",
   "metadata": {},
   "outputs": [],
   "source": [
    "from sklearn.preprocessing import OneHotEncoder"
   ]
  },
  {
   "cell_type": "code",
   "execution_count": 128,
   "id": "811cbdb4",
   "metadata": {},
   "outputs": [],
   "source": [
    "one_hot_encoder = OneHotEncoder()"
   ]
  },
  {
   "cell_type": "code",
   "execution_count": 129,
   "id": "de7287b5",
   "metadata": {},
   "outputs": [],
   "source": [
    "one_hot_encoder.fit(X_categorical)\n",
    "one_hot_encoded_X = one_hot_encoder.transform(X_categorical)"
   ]
  },
  {
   "cell_type": "markdown",
   "id": "1cc9cc88",
   "metadata": {},
   "source": [
    "`encoded_X` is returned as the sparse representation of the matrix, that has to be accessed with `toarray()`."
   ]
  },
  {
   "cell_type": "code",
   "execution_count": 130,
   "id": "6c987521",
   "metadata": {},
   "outputs": [
    {
     "data": {
      "text/plain": [
       "array([[0., 0., 0., ..., 0., 0., 0.],\n",
       "       [0., 0., 0., ..., 0., 0., 0.],\n",
       "       [0., 0., 0., ..., 0., 0., 0.],\n",
       "       ...,\n",
       "       [0., 1., 0., ..., 0., 0., 0.],\n",
       "       [0., 0., 0., ..., 0., 0., 1.],\n",
       "       [0., 0., 0., ..., 0., 0., 0.]])"
      ]
     },
     "execution_count": 130,
     "metadata": {},
     "output_type": "execute_result"
    }
   ],
   "source": [
    "one_hot_encoded_X.toarray()"
   ]
  },
  {
   "cell_type": "code",
   "execution_count": 131,
   "id": "4dc729c0",
   "metadata": {},
   "outputs": [
    {
     "data": {
      "text/plain": [
       "array(['x0_bug', 'x0_dark', 'x0_dragon', 'x0_electric', 'x0_fairy',\n",
       "       'x0_fighting', 'x0_fire', 'x0_flying', 'x0_ghost', 'x0_grass',\n",
       "       'x0_ground', 'x0_ice', 'x0_normal', 'x0_poison', 'x0_psychic',\n",
       "       'x0_rock', 'x0_steel', 'x0_water', 'x1_bug', 'x1_dark',\n",
       "       'x1_dragon', 'x1_electric', 'x1_fairy', 'x1_fighting', 'x1_fire',\n",
       "       'x1_flying', 'x1_ghost', 'x1_grass', 'x1_ground', 'x1_ice',\n",
       "       'x1_normal', 'x1_poison', 'x1_psychic', 'x1_rock', 'x1_steel',\n",
       "       'x1_water', 'x1_nan'], dtype=object)"
      ]
     },
     "execution_count": 131,
     "metadata": {},
     "output_type": "execute_result"
    }
   ],
   "source": [
    "one_hot_encoder.get_feature_names_out()"
   ]
  },
  {
   "cell_type": "code",
   "execution_count": 132,
   "id": "af409f5e",
   "metadata": {},
   "outputs": [
    {
     "data": {
      "text/plain": [
       "<801x37 sparse matrix of type '<class 'numpy.float64'>'\n",
       "\twith 1602 stored elements in Compressed Sparse Row format>"
      ]
     },
     "execution_count": 132,
     "metadata": {},
     "output_type": "execute_result"
    }
   ],
   "source": [
    "one_hot_encoded_X"
   ]
  },
  {
   "cell_type": "markdown",
   "id": "664f9204",
   "metadata": {},
   "source": [
    "**Questions**:\n",
    "1. What ML algorithm requires one-hot encoding ?\n",
    "2. Why do you think the matrix is stored as its sparse representation ?\n",
    "3. Apply one-hot encoding to every categorical variables in your dataset and show how many new columns have been generated.\n",
    "4. How does the one hot encoder behaves with missing values ?\n",
    "5. Merge new array with the remaining quantitative variables to create `X_encoded`."
   ]
  },
  {
   "cell_type": "markdown",
   "id": "7c24d767",
   "metadata": {},
   "source": [
    "#### Ordinal encoding\n",
    "Another way to encode categorical variables is through integer labels (**not recommended BUT sklearn requires it for some algorithms**). The class to do so is `LabelEncoder`.\n",
    "It needs to be applied on a **per array basis** and then concatenated."
   ]
  },
  {
   "cell_type": "code",
   "execution_count": 139,
   "id": "ce4b7e4c",
   "metadata": {},
   "outputs": [],
   "source": [
    "from sklearn.preprocessing import LabelEncoder"
   ]
  },
  {
   "cell_type": "code",
   "execution_count": 140,
   "id": "11110c34",
   "metadata": {},
   "outputs": [],
   "source": [
    "label_encoder = LabelEncoder()"
   ]
  },
  {
   "cell_type": "code",
   "execution_count": 141,
   "id": "850c4fd4",
   "metadata": {},
   "outputs": [
    {
     "name": "stdout",
     "output_type": "stream",
     "text": [
      "===== Encoded classes: ['bug' 'dark' 'dragon' 'electric' 'fairy' 'fighting' 'fire' 'flying'\n",
      " 'ghost' 'grass' 'ground' 'ice' 'normal' 'poison' 'psychic' 'rock' 'steel'\n",
      " 'water']\n",
      "===== Encoded classes: ['bug' 'dark' 'dragon' 'electric' 'fairy' 'fighting' 'fire' 'flying'\n",
      " 'ghost' 'grass' 'ground' 'ice' 'normal' 'poison' 'psychic' 'rock' 'steel'\n",
      " 'water' nan]\n"
     ]
    }
   ],
   "source": [
    "encoded_vars = []\n",
    "for categorical_var in X_categorical.T:\n",
    "    encoded_vars.append(label_encoder.fit_transform(categorical_var))\n",
    "    print(f\"===== Encoded classes: {label_encoder.classes_}\")"
   ]
  },
  {
   "cell_type": "code",
   "execution_count": 142,
   "id": "f5b96aa4",
   "metadata": {},
   "outputs": [],
   "source": [
    "X_categorical = np.array(encoded_vars).T"
   ]
  },
  {
   "cell_type": "code",
   "execution_count": 143,
   "id": "a1ef21ca",
   "metadata": {},
   "outputs": [
    {
     "data": {
      "text/plain": [
       "array([[ 9, 13],\n",
       "       [ 9, 13],\n",
       "       [ 9, 13],\n",
       "       ...,\n",
       "       [ 1,  2],\n",
       "       [14, 18],\n",
       "       [16,  4]])"
      ]
     },
     "execution_count": 143,
     "metadata": {},
     "output_type": "execute_result"
    }
   ],
   "source": [
    "X_categorical"
   ]
  },
  {
   "cell_type": "markdown",
   "id": "c797cae3",
   "metadata": {},
   "source": [
    "**Questions**:\n",
    "1. Apply the label encoder to every categorical variables in your dataset.\n",
    "2. Concatenate the categorical variables together into a numpy array `X_labelled_categories`.\n",
    "3. Concatenate `X_labelled_categories` to your other quantitative data."
   ]
  },
  {
   "cell_type": "markdown",
   "id": "1d9a8800",
   "metadata": {},
   "source": [
    "**1**. Le LabelEncoder permet d'étiquetter chaque catégorie en lui mettant un nombre entier incrémental.\n",
    "\n",
    "*Dans quel cas est-ce souhaitable ?* \n",
    "- Pour les variables ordinales\n",
    "- */!\\* il ne faut pas les confondre avec des variables ordinales !!!!"
   ]
  },
  {
   "cell_type": "markdown",
   "id": "22257553",
   "metadata": {},
   "source": [
    "## Imputing missing values\n",
    "*See more at*: https://scikit-learn.org/stable/modules/impute.html\n",
    "\n",
    "During class, we studied 2 main ways of dealing with missing values: static imputation and KNN imputation."
   ]
  },
  {
   "cell_type": "markdown",
   "id": "e5593c10",
   "metadata": {},
   "source": [
    "### Static imputation\n",
    "Previously, we used the `fillna` method of pandas.\n",
    "We can also use the class `SimpleImputer`.\n",
    "\n",
    "The idea behind sklearn processers are the same than classifiers:\n",
    "1. Call `fit` to \"train\" the preprocesser\n",
    "2. Call `transform` to \n",
    "(or call `fit_transform` to do both at the same time)."
   ]
  },
  {
   "cell_type": "code",
   "execution_count": 149,
   "id": "c2dcbd8a",
   "metadata": {},
   "outputs": [],
   "source": [
    "from sklearn.impute import SimpleImputer"
   ]
  },
  {
   "cell_type": "code",
   "execution_count": 150,
   "id": "4b789d96",
   "metadata": {},
   "outputs": [],
   "source": [
    "simple_imputer = SimpleImputer(strategy=\"mean\")\n",
    "simple_imputer.fit(X_quantitative)\n",
    "\n",
    "X_imputed = simple_imputer.transform(X_quantitative)"
   ]
  },
  {
   "cell_type": "code",
   "execution_count": 151,
   "id": "dcd1309c",
   "metadata": {},
   "outputs": [
    {
     "data": {
      "text/plain": [
       "array([[4.9000000e+01, 1.0598600e+06, 7.0000000e-01, 4.5000000e+01,\n",
       "        8.8100000e+01],\n",
       "       [6.3000000e+01, 1.0598600e+06, 1.0000000e+00, 6.0000000e+01,\n",
       "        8.8100000e+01],\n",
       "       [1.2300000e+02, 1.0598600e+06, 2.0000000e+00, 8.0000000e+01,\n",
       "        8.8100000e+01],\n",
       "       ...,\n",
       "       [5.3000000e+01, 1.2500000e+06, 5.5000000e+00, 2.2300000e+02,\n",
       "        5.5155761e+01],\n",
       "       [1.0100000e+02, 1.2500000e+06, 2.4000000e+00, 9.7000000e+01,\n",
       "        5.5155761e+01],\n",
       "       [1.1500000e+02, 1.2500000e+06, 1.0000000e+00, 8.0000000e+01,\n",
       "        5.5155761e+01]])"
      ]
     },
     "execution_count": 151,
     "metadata": {},
     "output_type": "execute_result"
    }
   ],
   "source": [
    "X_imputed"
   ]
  },
  {
   "cell_type": "markdown",
   "id": "22a45389",
   "metadata": {},
   "source": [
    "**Questions**:\n",
    "1. Use static imputation with mean and median for quantitative variables.\n",
    "2. Compute statistical estimators of the variables and show how filling N/A affects the distribution.\n",
    "3. Performs the same analysis using a plot.\n",
    "4. Try doing the same with qualitative variables... what is the problem ? Perform the imputation using the `most_frequent` strategy either on labeled data or one-hot-encoded data."
   ]
  },
  {
   "cell_type": "markdown",
   "id": "ce9810d7",
   "metadata": {},
   "source": [
    "### KNN imputation\n",
    "Another possibility is to use the `KNNImputer`, that uses only KNN."
   ]
  },
  {
   "cell_type": "code",
   "execution_count": 160,
   "id": "ed317501",
   "metadata": {},
   "outputs": [
    {
     "data": {
      "text/html": [
       "<style>#sk-container-id-3 {\n",
       "  /* Definition of color scheme common for light and dark mode */\n",
       "  --sklearn-color-text: black;\n",
       "  --sklearn-color-line: gray;\n",
       "  /* Definition of color scheme for unfitted estimators */\n",
       "  --sklearn-color-unfitted-level-0: #fff5e6;\n",
       "  --sklearn-color-unfitted-level-1: #f6e4d2;\n",
       "  --sklearn-color-unfitted-level-2: #ffe0b3;\n",
       "  --sklearn-color-unfitted-level-3: chocolate;\n",
       "  /* Definition of color scheme for fitted estimators */\n",
       "  --sklearn-color-fitted-level-0: #f0f8ff;\n",
       "  --sklearn-color-fitted-level-1: #d4ebff;\n",
       "  --sklearn-color-fitted-level-2: #b3dbfd;\n",
       "  --sklearn-color-fitted-level-3: cornflowerblue;\n",
       "\n",
       "  /* Specific color for light theme */\n",
       "  --sklearn-color-text-on-default-background: var(--sg-text-color, var(--theme-code-foreground, var(--jp-content-font-color1, black)));\n",
       "  --sklearn-color-background: var(--sg-background-color, var(--theme-background, var(--jp-layout-color0, white)));\n",
       "  --sklearn-color-border-box: var(--sg-text-color, var(--theme-code-foreground, var(--jp-content-font-color1, black)));\n",
       "  --sklearn-color-icon: #696969;\n",
       "\n",
       "  @media (prefers-color-scheme: dark) {\n",
       "    /* Redefinition of color scheme for dark theme */\n",
       "    --sklearn-color-text-on-default-background: var(--sg-text-color, var(--theme-code-foreground, var(--jp-content-font-color1, white)));\n",
       "    --sklearn-color-background: var(--sg-background-color, var(--theme-background, var(--jp-layout-color0, #111)));\n",
       "    --sklearn-color-border-box: var(--sg-text-color, var(--theme-code-foreground, var(--jp-content-font-color1, white)));\n",
       "    --sklearn-color-icon: #878787;\n",
       "  }\n",
       "}\n",
       "\n",
       "#sk-container-id-3 {\n",
       "  color: var(--sklearn-color-text);\n",
       "}\n",
       "\n",
       "#sk-container-id-3 pre {\n",
       "  padding: 0;\n",
       "}\n",
       "\n",
       "#sk-container-id-3 input.sk-hidden--visually {\n",
       "  border: 0;\n",
       "  clip: rect(1px 1px 1px 1px);\n",
       "  clip: rect(1px, 1px, 1px, 1px);\n",
       "  height: 1px;\n",
       "  margin: -1px;\n",
       "  overflow: hidden;\n",
       "  padding: 0;\n",
       "  position: absolute;\n",
       "  width: 1px;\n",
       "}\n",
       "\n",
       "#sk-container-id-3 div.sk-dashed-wrapped {\n",
       "  border: 1px dashed var(--sklearn-color-line);\n",
       "  margin: 0 0.4em 0.5em 0.4em;\n",
       "  box-sizing: border-box;\n",
       "  padding-bottom: 0.4em;\n",
       "  background-color: var(--sklearn-color-background);\n",
       "}\n",
       "\n",
       "#sk-container-id-3 div.sk-container {\n",
       "  /* jupyter's `normalize.less` sets `[hidden] { display: none; }`\n",
       "     but bootstrap.min.css set `[hidden] { display: none !important; }`\n",
       "     so we also need the `!important` here to be able to override the\n",
       "     default hidden behavior on the sphinx rendered scikit-learn.org.\n",
       "     See: https://github.com/scikit-learn/scikit-learn/issues/21755 */\n",
       "  display: inline-block !important;\n",
       "  position: relative;\n",
       "}\n",
       "\n",
       "#sk-container-id-3 div.sk-text-repr-fallback {\n",
       "  display: none;\n",
       "}\n",
       "\n",
       "div.sk-parallel-item,\n",
       "div.sk-serial,\n",
       "div.sk-item {\n",
       "  /* draw centered vertical line to link estimators */\n",
       "  background-image: linear-gradient(var(--sklearn-color-text-on-default-background), var(--sklearn-color-text-on-default-background));\n",
       "  background-size: 2px 100%;\n",
       "  background-repeat: no-repeat;\n",
       "  background-position: center center;\n",
       "}\n",
       "\n",
       "/* Parallel-specific style estimator block */\n",
       "\n",
       "#sk-container-id-3 div.sk-parallel-item::after {\n",
       "  content: \"\";\n",
       "  width: 100%;\n",
       "  border-bottom: 2px solid var(--sklearn-color-text-on-default-background);\n",
       "  flex-grow: 1;\n",
       "}\n",
       "\n",
       "#sk-container-id-3 div.sk-parallel {\n",
       "  display: flex;\n",
       "  align-items: stretch;\n",
       "  justify-content: center;\n",
       "  background-color: var(--sklearn-color-background);\n",
       "  position: relative;\n",
       "}\n",
       "\n",
       "#sk-container-id-3 div.sk-parallel-item {\n",
       "  display: flex;\n",
       "  flex-direction: column;\n",
       "}\n",
       "\n",
       "#sk-container-id-3 div.sk-parallel-item:first-child::after {\n",
       "  align-self: flex-end;\n",
       "  width: 50%;\n",
       "}\n",
       "\n",
       "#sk-container-id-3 div.sk-parallel-item:last-child::after {\n",
       "  align-self: flex-start;\n",
       "  width: 50%;\n",
       "}\n",
       "\n",
       "#sk-container-id-3 div.sk-parallel-item:only-child::after {\n",
       "  width: 0;\n",
       "}\n",
       "\n",
       "/* Serial-specific style estimator block */\n",
       "\n",
       "#sk-container-id-3 div.sk-serial {\n",
       "  display: flex;\n",
       "  flex-direction: column;\n",
       "  align-items: center;\n",
       "  background-color: var(--sklearn-color-background);\n",
       "  padding-right: 1em;\n",
       "  padding-left: 1em;\n",
       "}\n",
       "\n",
       "\n",
       "/* Toggleable style: style used for estimator/Pipeline/ColumnTransformer box that is\n",
       "clickable and can be expanded/collapsed.\n",
       "- Pipeline and ColumnTransformer use this feature and define the default style\n",
       "- Estimators will overwrite some part of the style using the `sk-estimator` class\n",
       "*/\n",
       "\n",
       "/* Pipeline and ColumnTransformer style (default) */\n",
       "\n",
       "#sk-container-id-3 div.sk-toggleable {\n",
       "  /* Default theme specific background. It is overwritten whether we have a\n",
       "  specific estimator or a Pipeline/ColumnTransformer */\n",
       "  background-color: var(--sklearn-color-background);\n",
       "}\n",
       "\n",
       "/* Toggleable label */\n",
       "#sk-container-id-3 label.sk-toggleable__label {\n",
       "  cursor: pointer;\n",
       "  display: block;\n",
       "  width: 100%;\n",
       "  margin-bottom: 0;\n",
       "  padding: 0.5em;\n",
       "  box-sizing: border-box;\n",
       "  text-align: center;\n",
       "}\n",
       "\n",
       "#sk-container-id-3 label.sk-toggleable__label-arrow:before {\n",
       "  /* Arrow on the left of the label */\n",
       "  content: \"▸\";\n",
       "  float: left;\n",
       "  margin-right: 0.25em;\n",
       "  color: var(--sklearn-color-icon);\n",
       "}\n",
       "\n",
       "#sk-container-id-3 label.sk-toggleable__label-arrow:hover:before {\n",
       "  color: var(--sklearn-color-text);\n",
       "}\n",
       "\n",
       "/* Toggleable content - dropdown */\n",
       "\n",
       "#sk-container-id-3 div.sk-toggleable__content {\n",
       "  max-height: 0;\n",
       "  max-width: 0;\n",
       "  overflow: hidden;\n",
       "  text-align: left;\n",
       "  /* unfitted */\n",
       "  background-color: var(--sklearn-color-unfitted-level-0);\n",
       "}\n",
       "\n",
       "#sk-container-id-3 div.sk-toggleable__content.fitted {\n",
       "  /* fitted */\n",
       "  background-color: var(--sklearn-color-fitted-level-0);\n",
       "}\n",
       "\n",
       "#sk-container-id-3 div.sk-toggleable__content pre {\n",
       "  margin: 0.2em;\n",
       "  border-radius: 0.25em;\n",
       "  color: var(--sklearn-color-text);\n",
       "  /* unfitted */\n",
       "  background-color: var(--sklearn-color-unfitted-level-0);\n",
       "}\n",
       "\n",
       "#sk-container-id-3 div.sk-toggleable__content.fitted pre {\n",
       "  /* unfitted */\n",
       "  background-color: var(--sklearn-color-fitted-level-0);\n",
       "}\n",
       "\n",
       "#sk-container-id-3 input.sk-toggleable__control:checked~div.sk-toggleable__content {\n",
       "  /* Expand drop-down */\n",
       "  max-height: 200px;\n",
       "  max-width: 100%;\n",
       "  overflow: auto;\n",
       "}\n",
       "\n",
       "#sk-container-id-3 input.sk-toggleable__control:checked~label.sk-toggleable__label-arrow:before {\n",
       "  content: \"▾\";\n",
       "}\n",
       "\n",
       "/* Pipeline/ColumnTransformer-specific style */\n",
       "\n",
       "#sk-container-id-3 div.sk-label input.sk-toggleable__control:checked~label.sk-toggleable__label {\n",
       "  color: var(--sklearn-color-text);\n",
       "  background-color: var(--sklearn-color-unfitted-level-2);\n",
       "}\n",
       "\n",
       "#sk-container-id-3 div.sk-label.fitted input.sk-toggleable__control:checked~label.sk-toggleable__label {\n",
       "  background-color: var(--sklearn-color-fitted-level-2);\n",
       "}\n",
       "\n",
       "/* Estimator-specific style */\n",
       "\n",
       "/* Colorize estimator box */\n",
       "#sk-container-id-3 div.sk-estimator input.sk-toggleable__control:checked~label.sk-toggleable__label {\n",
       "  /* unfitted */\n",
       "  background-color: var(--sklearn-color-unfitted-level-2);\n",
       "}\n",
       "\n",
       "#sk-container-id-3 div.sk-estimator.fitted input.sk-toggleable__control:checked~label.sk-toggleable__label {\n",
       "  /* fitted */\n",
       "  background-color: var(--sklearn-color-fitted-level-2);\n",
       "}\n",
       "\n",
       "#sk-container-id-3 div.sk-label label.sk-toggleable__label,\n",
       "#sk-container-id-3 div.sk-label label {\n",
       "  /* The background is the default theme color */\n",
       "  color: var(--sklearn-color-text-on-default-background);\n",
       "}\n",
       "\n",
       "/* On hover, darken the color of the background */\n",
       "#sk-container-id-3 div.sk-label:hover label.sk-toggleable__label {\n",
       "  color: var(--sklearn-color-text);\n",
       "  background-color: var(--sklearn-color-unfitted-level-2);\n",
       "}\n",
       "\n",
       "/* Label box, darken color on hover, fitted */\n",
       "#sk-container-id-3 div.sk-label.fitted:hover label.sk-toggleable__label.fitted {\n",
       "  color: var(--sklearn-color-text);\n",
       "  background-color: var(--sklearn-color-fitted-level-2);\n",
       "}\n",
       "\n",
       "/* Estimator label */\n",
       "\n",
       "#sk-container-id-3 div.sk-label label {\n",
       "  font-family: monospace;\n",
       "  font-weight: bold;\n",
       "  display: inline-block;\n",
       "  line-height: 1.2em;\n",
       "}\n",
       "\n",
       "#sk-container-id-3 div.sk-label-container {\n",
       "  text-align: center;\n",
       "}\n",
       "\n",
       "/* Estimator-specific */\n",
       "#sk-container-id-3 div.sk-estimator {\n",
       "  font-family: monospace;\n",
       "  border: 1px dotted var(--sklearn-color-border-box);\n",
       "  border-radius: 0.25em;\n",
       "  box-sizing: border-box;\n",
       "  margin-bottom: 0.5em;\n",
       "  /* unfitted */\n",
       "  background-color: var(--sklearn-color-unfitted-level-0);\n",
       "}\n",
       "\n",
       "#sk-container-id-3 div.sk-estimator.fitted {\n",
       "  /* fitted */\n",
       "  background-color: var(--sklearn-color-fitted-level-0);\n",
       "}\n",
       "\n",
       "/* on hover */\n",
       "#sk-container-id-3 div.sk-estimator:hover {\n",
       "  /* unfitted */\n",
       "  background-color: var(--sklearn-color-unfitted-level-2);\n",
       "}\n",
       "\n",
       "#sk-container-id-3 div.sk-estimator.fitted:hover {\n",
       "  /* fitted */\n",
       "  background-color: var(--sklearn-color-fitted-level-2);\n",
       "}\n",
       "\n",
       "/* Specification for estimator info (e.g. \"i\" and \"?\") */\n",
       "\n",
       "/* Common style for \"i\" and \"?\" */\n",
       "\n",
       ".sk-estimator-doc-link,\n",
       "a:link.sk-estimator-doc-link,\n",
       "a:visited.sk-estimator-doc-link {\n",
       "  float: right;\n",
       "  font-size: smaller;\n",
       "  line-height: 1em;\n",
       "  font-family: monospace;\n",
       "  background-color: var(--sklearn-color-background);\n",
       "  border-radius: 1em;\n",
       "  height: 1em;\n",
       "  width: 1em;\n",
       "  text-decoration: none !important;\n",
       "  margin-left: 1ex;\n",
       "  /* unfitted */\n",
       "  border: var(--sklearn-color-unfitted-level-1) 1pt solid;\n",
       "  color: var(--sklearn-color-unfitted-level-1);\n",
       "}\n",
       "\n",
       ".sk-estimator-doc-link.fitted,\n",
       "a:link.sk-estimator-doc-link.fitted,\n",
       "a:visited.sk-estimator-doc-link.fitted {\n",
       "  /* fitted */\n",
       "  border: var(--sklearn-color-fitted-level-1) 1pt solid;\n",
       "  color: var(--sklearn-color-fitted-level-1);\n",
       "}\n",
       "\n",
       "/* On hover */\n",
       "div.sk-estimator:hover .sk-estimator-doc-link:hover,\n",
       ".sk-estimator-doc-link:hover,\n",
       "div.sk-label-container:hover .sk-estimator-doc-link:hover,\n",
       ".sk-estimator-doc-link:hover {\n",
       "  /* unfitted */\n",
       "  background-color: var(--sklearn-color-unfitted-level-3);\n",
       "  color: var(--sklearn-color-background);\n",
       "  text-decoration: none;\n",
       "}\n",
       "\n",
       "div.sk-estimator.fitted:hover .sk-estimator-doc-link.fitted:hover,\n",
       ".sk-estimator-doc-link.fitted:hover,\n",
       "div.sk-label-container:hover .sk-estimator-doc-link.fitted:hover,\n",
       ".sk-estimator-doc-link.fitted:hover {\n",
       "  /* fitted */\n",
       "  background-color: var(--sklearn-color-fitted-level-3);\n",
       "  color: var(--sklearn-color-background);\n",
       "  text-decoration: none;\n",
       "}\n",
       "\n",
       "/* Span, style for the box shown on hovering the info icon */\n",
       ".sk-estimator-doc-link span {\n",
       "  display: none;\n",
       "  z-index: 9999;\n",
       "  position: relative;\n",
       "  font-weight: normal;\n",
       "  right: .2ex;\n",
       "  padding: .5ex;\n",
       "  margin: .5ex;\n",
       "  width: min-content;\n",
       "  min-width: 20ex;\n",
       "  max-width: 50ex;\n",
       "  color: var(--sklearn-color-text);\n",
       "  box-shadow: 2pt 2pt 4pt #999;\n",
       "  /* unfitted */\n",
       "  background: var(--sklearn-color-unfitted-level-0);\n",
       "  border: .5pt solid var(--sklearn-color-unfitted-level-3);\n",
       "}\n",
       "\n",
       ".sk-estimator-doc-link.fitted span {\n",
       "  /* fitted */\n",
       "  background: var(--sklearn-color-fitted-level-0);\n",
       "  border: var(--sklearn-color-fitted-level-3);\n",
       "}\n",
       "\n",
       ".sk-estimator-doc-link:hover span {\n",
       "  display: block;\n",
       "}\n",
       "\n",
       "/* \"?\"-specific style due to the `<a>` HTML tag */\n",
       "\n",
       "#sk-container-id-3 a.estimator_doc_link {\n",
       "  float: right;\n",
       "  font-size: 1rem;\n",
       "  line-height: 1em;\n",
       "  font-family: monospace;\n",
       "  background-color: var(--sklearn-color-background);\n",
       "  border-radius: 1rem;\n",
       "  height: 1rem;\n",
       "  width: 1rem;\n",
       "  text-decoration: none;\n",
       "  /* unfitted */\n",
       "  color: var(--sklearn-color-unfitted-level-1);\n",
       "  border: var(--sklearn-color-unfitted-level-1) 1pt solid;\n",
       "}\n",
       "\n",
       "#sk-container-id-3 a.estimator_doc_link.fitted {\n",
       "  /* fitted */\n",
       "  border: var(--sklearn-color-fitted-level-1) 1pt solid;\n",
       "  color: var(--sklearn-color-fitted-level-1);\n",
       "}\n",
       "\n",
       "/* On hover */\n",
       "#sk-container-id-3 a.estimator_doc_link:hover {\n",
       "  /* unfitted */\n",
       "  background-color: var(--sklearn-color-unfitted-level-3);\n",
       "  color: var(--sklearn-color-background);\n",
       "  text-decoration: none;\n",
       "}\n",
       "\n",
       "#sk-container-id-3 a.estimator_doc_link.fitted:hover {\n",
       "  /* fitted */\n",
       "  background-color: var(--sklearn-color-fitted-level-3);\n",
       "}\n",
       "</style><div id=\"sk-container-id-3\" class=\"sk-top-container\"><div class=\"sk-text-repr-fallback\"><pre>KNNImputer()</pre><b>In a Jupyter environment, please rerun this cell to show the HTML representation or trust the notebook. <br />On GitHub, the HTML representation is unable to render, please try loading this page with nbviewer.org.</b></div><div class=\"sk-container\" hidden><div class=\"sk-item\"><div class=\"sk-estimator fitted sk-toggleable\"><input class=\"sk-toggleable__control sk-hidden--visually\" id=\"sk-estimator-id-3\" type=\"checkbox\" checked><label for=\"sk-estimator-id-3\" class=\"sk-toggleable__label fitted sk-toggleable__label-arrow fitted\">&nbsp;&nbsp;KNNImputer<a class=\"sk-estimator-doc-link fitted\" rel=\"noreferrer\" target=\"_blank\" href=\"https://scikit-learn.org/1.4/modules/generated/sklearn.impute.KNNImputer.html\">?<span>Documentation for KNNImputer</span></a><span class=\"sk-estimator-doc-link fitted\">i<span>Fitted</span></span></label><div class=\"sk-toggleable__content fitted\"><pre>KNNImputer()</pre></div> </div></div></div></div>"
      ],
      "text/plain": [
       "KNNImputer()"
      ]
     },
     "execution_count": 160,
     "metadata": {},
     "output_type": "execute_result"
    }
   ],
   "source": [
    "from sklearn.impute import KNNImputer\n",
    "knn_imputer = KNNImputer(n_neighbors=5)\n",
    "knn_imputer.fit(X_quantitative)"
   ]
  },
  {
   "cell_type": "markdown",
   "id": "31db1dda",
   "metadata": {},
   "source": [
    "**Questions**:\n",
    "1. Use KNN imputation with $k=1$, $k=5$ and $k=1000$. \n",
    "2. How does the value of $k$ impact your imputation ? Analyze it using statistical estimators and graph.\n",
    "3. Try doing the same with qualitative variables... what is the problem ? How can you resolve it ?"
   ]
  },
  {
   "cell_type": "markdown",
   "id": "dda658df",
   "metadata": {},
   "source": [
    "Now, save your dataset as `X_preprocessed` and use it in the rest of the labs/in your project."
   ]
  },
  {
   "cell_type": "markdown",
   "id": "aa3b8eff",
   "metadata": {},
   "source": [
    "## Feature transformation\n",
    "\n",
    "In class, we saw two possible ways of reducing features:\n",
    "- Min-max scaling\n",
    "- Z-scaling/Standard-scaling\n",
    "\n",
    "Many scalers are available in sklearn: https://scikit-learn.org/stable/modules/preprocessing.html#preprocessing-scaler"
   ]
  },
  {
   "cell_type": "code",
   "execution_count": 165,
   "id": "e225bb06",
   "metadata": {},
   "outputs": [],
   "source": [
    "from sklearn.preprocessing import MinMaxScaler\n",
    "\n",
    "min_max_scaler = MinMaxScaler()\n",
    "min_max_scaler.fit(X_quantitative)\n",
    "scaled_quantitative = min_max_scaler.transform(X_quantitative)\n",
    "\n",
    "# Autre manière de calculer la matrice transformée:\n",
    "# scaled_quantitative = min_max_scaler.fit_transform(X_quantitative)"
   ]
  },
  {
   "cell_type": "code",
   "execution_count": 166,
   "id": "406f1747",
   "metadata": {},
   "outputs": [
    {
     "data": {
      "text/plain": [
       "Text(0.5, 1.0, 'Yellow = legendary, Purple = non legendary')"
      ]
     },
     "execution_count": 166,
     "metadata": {},
     "output_type": "execute_result"
    },
    {
     "data": {
      "image/png": "[encoded data removed]",
      "text/plain": [
       "<Figure size 640x480 with 1 Axes>"
      ]
     },
     "metadata": {},
     "output_type": "display_data"
    }
   ],
   "source": [
    "plt.scatter(X_quantitative[:,0], X_quantitative[:,1], c=y)\n",
    "plt.xlabel(\"Defense\")\n",
    "plt.ylabel(\"XP growth\")\n",
    "plt.title(\"Yellow = legendary, Purple = non legendary\")"
   ]
  },
  {
   "cell_type": "code",
   "execution_count": 167,
   "id": "baad93b5",
   "metadata": {},
   "outputs": [
    {
     "data": {
      "text/plain": [
       "Text(0.5, 1.0, 'Yellow = legendary, Purple = non legendary')"
      ]
     },
     "execution_count": 167,
     "metadata": {},
     "output_type": "execute_result"
    },
    {
     "data": {
      "image/png": "[encoded data removed]",
      "text/plain": [
       "<Figure size 640x480 with 1 Axes>"
      ]
     },
     "metadata": {},
     "output_type": "display_data"
    }
   ],
   "source": [
    "plt.scatter(scaled_quantitative[:,0], scaled_quantitative[:,1], c=y)\n",
    "plt.xlabel(\"Defense\")\n",
    "plt.ylabel(\"XP growth\")\n",
    "plt.title(\"Yellow = legendary, Purple = non legendary\")"
   ]
  },
  {
   "cell_type": "markdown",
   "id": "b374811b",
   "metadata": {},
   "source": [
    "**Questions**:\n",
    "1. Can you apply every kind of scaling to every kind of algorithm ?\n",
    "2. Apply min max scaling to your dataset and compare the repartition of the data on the parametric space.\n",
    "2. Go back to the full pipeline and perform train/test validation with and without scaling and see how it affects the results (**be careful about data leaks**)."
   ]
  },
  {
   "cell_type": "markdown",
   "id": "317a6b1b",
   "metadata": {},
   "source": [
    "## Pipeline globale:"
   ]
  },
  {
   "cell_type": "code",
   "execution_count": 173,
   "id": "30e32f1a",
   "metadata": {},
   "outputs": [],
   "source": [
    "# Analyse de données et compréhension des variables et de la problématique (cf: partiel)\n",
    "# Et choix d'un score pertinent\n",
    "\n",
    "# Etape 1: Preprocessing\n",
    "\n",
    "    # Transformer les variables qualitatives en \"quantitative\" \n",
    "        # Si jamais mon algorithme ne le prend pas nativement en compte, faire des variables dummy\n",
    "        # Si jamais l'implémentation de sklearn a besoin d'entier, utiliser le label encoder.\n",
    "        \n",
    "    # Gérer les données manquantes:\n",
    "        # Faire un bilan\n",
    "        # Choisir une méthode d'imputation en la justifiant\n",
    "    \n",
    "    # Trouver les valeurs aberrantes:\n",
    "        # Les analyser\n",
    "        # Soit les traiter comme des valeurs manquantes\n",
    "        # Soit les laisser\n",
    "        \n",
    "\n",
    "##### Fin de l'étape 1: un jeu de données propre !\n",
    "\n",
    "# Etape 2: Classification\n",
    "    # Faire un choix du classifieur que l'on souhaite utiliser (chacun ayant ses contraintes)\n",
    "    \n",
    "    # Faire un choix de la transformation des données qu'on va appliquer\n",
    "    \n",
    "    # Entraîner l'algorithme avec une approche soit:\n",
    "        # train - test (si imposée par les contraintes externes)\n",
    "        # validation croisée\n",
    "    # pour trouver les hyperparamètres optimaux\n",
    "    \n",
    "    # Une fois sélectionnés, on fait l'entraînement sur tout le jeu de données et on sort le score final\n",
    "    "
   ]
  },
  {
   "cell_type": "code",
   "execution_count": 174,
   "id": "4e5bcb97",
   "metadata": {},
   "outputs": [],
   "source": [
    "from sklearn.preprocessing import OneHotEncoder\n",
    "\n",
    "# On transforme les variables qualitatives en dummy (numérique)\n",
    "one_hot_encoder = OneHotEncoder()\n",
    "X_qualitative_dummy = one_hot_encoder.fit_transform(X_categorical)\n",
    "X_all = np.concatenate([X_quantitative, X_qualitative_dummy.toarray()], axis=1)\n",
    "\n",
    "# On part sur un KNNImputer, car nous avons montré dans la partie 2 que celui-ci est relativement\n",
    "# efficace \n",
    "# On prend k=1 car nous avons des variables qualitatives\n",
    "\n",
    "from sklearn.impute import KNNImputer\n",
    "\n",
    "knn_imputer = KNNImputer(n_neighbors=1)\n",
    "X_all_imputed = knn_imputer.fit_transform(X_all)\n",
    "\n",
    "# Regarder les valeurs aberrantes grâce à mes boxplots"
   ]
  },
  {
   "cell_type": "code",
   "execution_count": 175,
   "id": "f05f5ef0",
   "metadata": {},
   "outputs": [
    {
     "data": {
      "image/png": "[encoded data removed]",
      "text/plain": [
       "<Figure size 640x480 with 1 Axes>"
      ]
     },
     "metadata": {},
     "output_type": "display_data"
    },
    {
     "data": {
      "image/png": "[encoded data removed]",
      "text/plain": [
       "<Figure size 640x480 with 1 Axes>"
      ]
     },
     "metadata": {},
     "output_type": "display_data"
    },
    {
     "data": {
      "image/png": "[encoded data removed]",
      "text/plain": [
       "<Figure size 640x480 with 1 Axes>"
      ]
     },
     "metadata": {},
     "output_type": "display_data"
    },
    {
     "data": {
      "image/png": "[encoded data removed]",
      "text/plain": [
       "<Figure size 640x480 with 1 Axes>"
      ]
     },
     "metadata": {},
     "output_type": "display_data"
    },
    {
     "data": {
      "image/png": "[encoded data removed]",
      "text/plain": [
       "<Figure size 640x480 with 1 Axes>"
      ]
     },
     "metadata": {},
     "output_type": "display_data"
    }
   ],
   "source": [
    "for X_val in X_quantitative.T:\n",
    "    sns.boxplot(X_val)\n",
    "    plt.show()\n",
    "    \n",
    "# Après l'examen des boxplots, je ne vois pas de valeur aberrantes: il y a certes des passagers beaucoup plus âgés que \n",
    "# la répartition médiane, mais cela est porteur de sens pour la classification.\n",
    "# Idem pour le prix des billets: il n'est pas choquant qu'un bateau de luxe offre des billets extrêmement chers\n",
    "# et certains beaucoup moins."
   ]
  },
  {
   "cell_type": "code",
   "execution_count": 176,
   "id": "d2147f1d",
   "metadata": {},
   "outputs": [],
   "source": [
    "# Jeu de donnée propre à la fin de mon étape 1:\n",
    "X_preprocessed = X_all_imputed"
   ]
  },
  {
   "cell_type": "code",
   "execution_count": 177,
   "id": "d2168fa0",
   "metadata": {},
   "outputs": [],
   "source": [
    "# On choisit d'appliquer un KNN mais il nous faut décider du k.\n",
    "# On veut aussi savoir si jamais il est intéressant de scaler les données (car algorithme basé sur la distance).\n",
    "# On choisit une approche de validation croisée."
   ]
  },
  {
   "cell_type": "code",
   "execution_count": 178,
   "id": "cc9ed7ab",
   "metadata": {},
   "outputs": [
    {
     "name": "stdout",
     "output_type": "stream",
     "text": [
      "k = 1\n",
      "Model score: 91.25%\n",
      "k = 3\n",
      "Model score: 92.55%\n",
      "k = 5\n",
      "Model score: 93.75%\n",
      "k = 7\n",
      "Model score: 93.12%\n",
      "k = 9\n",
      "Model score: 93.75%\n",
      "k = 11\n",
      "Model score: 92.5%\n",
      "k = 13\n",
      "Model score: 92.55%\n",
      "k = 15\n",
      "Model score: 92.5%\n",
      "k = 17\n",
      "Model score: 92.5%\n",
      "k = 19\n",
      "Model score: 92.5%\n",
      "k = 21\n",
      "Model score: 92.5%\n",
      "k = 23\n",
      "Model score: 91.88%\n",
      "k = 25\n",
      "Model score: 91.88%\n",
      "k = 27\n",
      "Model score: 91.88%\n",
      "k = 29\n",
      "Model score: 91.88%\n"
     ]
    }
   ],
   "source": [
    "from sklearn.model_selection import cross_val_score\n",
    "from sklearn.neighbors import KNeighborsClassifier\n",
    "from sklearn.model_selection import KFold\n",
    "\n",
    "# Sans scaling\n",
    "for k in range(1, 30, 2):\n",
    "    print(f\"k = {k}\")\n",
    "    knn_classifier = KNeighborsClassifier(n_neighbors=k, p=1)\n",
    "    scores = cross_val_score(estimator=knn_classifier, X=X_preprocessed, y=y, scoring=\"accuracy\")\n",
    "    print(f\"Model score: {round(np.median(scores)*100, 2)}%\")\n"
   ]
  },
  {
   "cell_type": "code",
   "execution_count": 179,
   "id": "05d7d988",
   "metadata": {},
   "outputs": [
    {
     "name": "stdout",
     "output_type": "stream",
     "text": [
      "k = 1\n",
      "Median score: 65.95%\n",
      "k = 3\n",
      "Median score: 67.77%\n",
      "k = 5\n",
      "Median score: 63.94%\n",
      "k = 7\n",
      "Median score: 60.86%\n",
      "k = 9\n",
      "Median score: 56.46%\n",
      "k = 11\n",
      "Median score: 52.3%\n",
      "k = 13\n",
      "Median score: 57.69%\n",
      "k = 15\n",
      "Median score: 50.0%\n",
      "k = 17\n",
      "Median score: 50.0%\n",
      "k = 19\n",
      "Median score: 53.83%\n",
      "k = 21\n",
      "Median score: 50.0%\n",
      "k = 23\n",
      "Median score: 50.0%\n",
      "k = 25\n",
      "Median score: 50.0%\n",
      "k = 27\n",
      "Median score: 50.0%\n",
      "k = 29\n",
      "Median score: 50.0%\n"
     ]
    }
   ],
   "source": [
    "# Avec scaling\n",
    "from sklearn.metrics import balanced_accuracy_score\n",
    "NBR_FOLDS=5\n",
    "\n",
    "indexes = KFold(n_splits=NBR_FOLDS, shuffle=True)\n",
    "\n",
    "balanced_accuracy_score_global = []\n",
    "\n",
    "min_max_scaler = MinMaxScaler()\n",
    "\n",
    "for k in range(1, 30, 2):\n",
    "    print(f\"k = {k}\")\n",
    "\n",
    "    knn_classifier = KNeighborsClassifier(n_neighbors=k, p=1)\n",
    "    \n",
    "    balanced_accuracy_scores = []\n",
    "    for ix, (train_index, test_index) in enumerate(indexes.split(X)):\n",
    "        # Scale train data\n",
    "        scaled_train = min_max_scaler.fit_transform(X_preprocessed[train_index])\n",
    "        knn_classifier.fit(scaled_train, y[train_index])\n",
    "        \n",
    "        # Scale test data\n",
    "        scaled_test = min_max_scaler.fit_transform(X_preprocessed[test_index])\n",
    "        y_predict_fold = knn_classifier.predict(scaled_test)\n",
    "        \n",
    "        # Compute score\n",
    "        balanced_accuracy = balanced_accuracy_score(y[test_index], y_predict_fold)\n",
    "        balanced_accuracy_scores.append(balanced_accuracy)\n",
    "        \n",
    "    balanced_accuracy_score_global.append(np.median(balanced_accuracy_scores))\n",
    "    print(f\"Median score: {round(np.median(balanced_accuracy_scores)*100, 2)}%\")"
   ]
  },
  {
   "cell_type": "code",
   "execution_count": 180,
   "id": "d941e5f8",
   "metadata": {},
   "outputs": [
    {
     "name": "stdout",
     "output_type": "stream",
     "text": [
      "k = 1\n",
      "Median score: 68.74%\n",
      "k = 3\n",
      "Median score: 59.31%\n",
      "k = 5\n",
      "Median score: 54.17%\n",
      "k = 7\n",
      "Median score: 57.14%\n",
      "k = 9\n",
      "Median score: 53.33%\n",
      "k = 11\n",
      "Median score: 53.57%\n",
      "k = 13\n",
      "Median score: 53.57%\n",
      "k = 15\n",
      "Median score: 50.0%\n",
      "k = 17\n",
      "Median score: 53.57%\n",
      "k = 19\n",
      "Median score: 50.0%\n",
      "k = 21\n",
      "Median score: 50.0%\n",
      "k = 23\n",
      "Median score: 50.0%\n",
      "k = 25\n",
      "Median score: 50.0%\n",
      "k = 27\n",
      "Median score: 50.0%\n",
      "k = 29\n",
      "Median score: 50.0%\n"
     ]
    }
   ],
   "source": [
    "# Avec scaling\n",
    "from sklearn.metrics import balanced_accuracy_score\n",
    "from sklearn.preprocessing import StandardScaler\n",
    "NBR_FOLDS=5\n",
    "\n",
    "indexes = KFold(n_splits=NBR_FOLDS, shuffle=True)\n",
    "\n",
    "balanced_accuracy_score_global = []\n",
    "\n",
    "standard_scaler = StandardScaler()\n",
    "\n",
    "for k in range(1, 30, 2):\n",
    "    print(f\"k = {k}\")\n",
    "\n",
    "    knn_classifier = KNeighborsClassifier(n_neighbors=k, p=1)\n",
    "    \n",
    "    balanced_accuracy_scores = []\n",
    "    for ix, (train_index, test_index) in enumerate(indexes.split(X)):\n",
    "        # Scale train data\n",
    "        scaled_train = standard_scaler.fit_transform(X_preprocessed[train_index])\n",
    "        knn_classifier.fit(scaled_train, y[train_index])\n",
    "        \n",
    "        # Scale test data\n",
    "        scaled_test = standard_scaler.fit_transform(X_preprocessed[test_index])\n",
    "        y_predict_fold = knn_classifier.predict(scaled_test)\n",
    "        \n",
    "        # Compute score\n",
    "        balanced_accuracy = balanced_accuracy_score(y[test_index], y_predict_fold)\n",
    "        balanced_accuracy_scores.append(balanced_accuracy)\n",
    "        \n",
    "    balanced_accuracy_score_global.append(np.median(balanced_accuracy_scores))\n",
    "    print(f\"Median score: {round(np.median(balanced_accuracy_scores)*100, 2)}%\")"
   ]
  },
  {
   "cell_type": "code",
   "execution_count": 181,
   "id": "aeda2227",
   "metadata": {},
   "outputs": [
    {
     "name": "stdout",
     "output_type": "stream",
     "text": [
      "Accuracy: 91.38576779026218%\n",
      "Recall: 1.4285714285714286%\n",
      "Precision: 100.0%\n"
     ]
    }
   ],
   "source": [
    "from sklearn.metrics import classification_report, accuracy_score, recall_score, precision_score\n",
    "\n",
    "min_max_scaler = MinMaxScaler()\n",
    "X_scaled = min_max_scaler.fit_transform(X_preprocessed)\n",
    "knn_classifier = KNeighborsClassifier(n_neighbors=25)\n",
    "knn_classifier.fit(X_scaled, y)\n",
    "y_pred = knn_classifier.predict(X_scaled)\n",
    "\n",
    "accuracy = accuracy_score(y, y_pred)\n",
    "recall = recall_score(y, y_pred)\n",
    "precision = precision_score(y, y_pred)\n",
    "print(f\"Accuracy: {accuracy * 100}%\")\n",
    "print(f\"Recall: {recall * 100}%\")\n",
    "print(f\"Precision: {precision * 100}%\")"
   ]
  },
  {
   "cell_type": "markdown",
   "id": "f2bc0f95",
   "metadata": {},
   "source": [
    "Après l'ensemble des étapes, j'en déduis la *pipeline* suivante \"optimale\":\n",
    "\n"
   ]
  }
 ],
 "metadata": {
  "kernelspec": {
   "display_name": "Python 3 (ipykernel)",
   "language": "python",
   "name": "python3"
  },
  "language_info": {
   "codemirror_mode": {
    "name": "ipython",
    "version": 3
   },
   "file_extension": ".py",
   "mimetype": "text/x-python",
   "name": "python",
   "nbconvert_exporter": "python",
   "pygments_lexer": "ipython3",
   "version": "3.11.0"
  }
 },
 "nbformat": 4,
 "nbformat_minor": 5
}
