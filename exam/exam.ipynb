{
 "cells": [
  {
   "cell_type": "markdown",
   "id": "31a8196e",
   "metadata": {},
   "source": [
    "# Contrôle continu 1\n",
    "Complément de Math 2 - L3 MIASHS\n",
    "-----------------\n",
    "\n",
    "**Nom prénom no_etudiant**\n",
    "\n",
    "**Le code s'exécute** : 1 point\n",
    "\n",
    "**La rédaction est claire et bien formulée** : 1 point"
   ]
  },
  {
   "cell_type": "markdown",
   "id": "37e86dbc",
   "metadata": {},
   "source": [
    "# Chargement du jeu de données"
   ]
  },
  {
   "cell_type": "markdown",
   "id": "8bef9bd8",
   "metadata": {},
   "source": [
    "La description du jeu de données est disponible ici : https://www.kaggle.com/datasets/iammustafatz/diabetes-prediction-dataset?resource=download"
   ]
  },
  {
   "cell_type": "code",
   "execution_count": 2,
   "id": "b28897cd",
   "metadata": {},
   "outputs": [],
   "source": [
    "import pandas as pd\n",
    "import numpy as np\n",
    "\n",
    "\n",
    "df = pd.read_csv(\"https://raw.githubusercontent.com/SphRbtHyk/miashs_introduction_ml/main/exam/datasets/diabetes_prediction_dataset.csv\")"
   ]
  },
  {
   "cell_type": "markdown",
   "id": "69ca76ef",
   "metadata": {},
   "source": [
    "Si jamais pour des raisons de performance vous ne pouvez pas travailler avec l'ensemble du jeu de données, vous pouvez en prendre un sous-ensemble:"
   ]
  },
  {
   "cell_type": "code",
   "execution_count": 6,
   "id": "45014f96",
   "metadata": {},
   "outputs": [],
   "source": [
    "#df = df.sample(n=500, replace=False)"
   ]
  },
  {
   "cell_type": "markdown",
   "id": "2adc2f35",
   "metadata": {},
   "source": [
    "## Analyse univariée (5 points)\n",
    "\n",
    "**Question 1** (.5 point): Donner le nombre de lignes et de colonnes dans le jeu de données."
   ]
  },
  {
   "cell_type": "markdown",
   "id": "4b50f137-a949-45e2-82b0-7e47d3c93629",
   "metadata": {},
   "source": [
    "**Question 2** (0.5 point): Réalisez trois listes, une liste avec les variables qualitatives, une liste avec les variables quantitative, une liste avec la variable à prédire. Les variables ne doivent contenir que celles qui vous seront utiles pour votre analyse statistique."
   ]
  },
  {
   "cell_type": "markdown",
   "id": "59fd82a1-d6f1-4dd1-abc2-a02dc2c2ffaf",
   "metadata": {},
   "source": [
    "**Question 3** (1 point): Indexez la table d'entrée pour récupérer dans 3 DataFrame pandas `X_quantitative`, `X_qualitative` et `y_target`."
   ]
  },
  {
   "cell_type": "code",
   "execution_count": 2,
   "id": "1c5d85cc-ce76-4ce4-9a9a-10fb2dc978f9",
   "metadata": {},
   "outputs": [],
   "source": [
    "X_quantitative = ...\n",
    "X_qualitative = ...\n",
    "y_predict = ..."
   ]
  },
  {
   "cell_type": "markdown",
   "id": "1cccf129-744f-418a-85b2-e7c426ce11b2",
   "metadata": {},
   "source": [
    "**Question 4** (1 point): Calculez pour les tables `X_quantitative` et `X_qualitative` les indicateurs statistiques adaptés, en les justifiant."
   ]
  },
  {
   "cell_type": "markdown",
   "id": "38f389d5-38f3-468a-9922-81b51f6a402d",
   "metadata": {},
   "source": [
    "**Question 5** (1 point): Donnez le nombre d'individus diabétique et non-diabétique dans le jeu de données."
   ]
  },
  {
   "cell_type": "markdown",
   "id": "9fd0641b-ba0e-4458-b2f2-8e3dd9dcd1cc",
   "metadata": {},
   "source": [
    "**Question 6** (1 point): Réalisez par sous table les indicateurs graphiques adaptés, en les justifiant."
   ]
  },
  {
   "cell_type": "markdown",
   "id": "baef435c-de73-482e-ba11-fbae159d1bac",
   "metadata": {},
   "source": [
    "## Analyse multivariée (8 points)"
   ]
  },
  {
   "cell_type": "markdown",
   "id": "2d79febf-1622-4587-a448-6f0ab8ba4cd9",
   "metadata": {},
   "source": [
    "**Question 1**: (1 point) Calculez pour la sous-table appropriée les corrélations entre les variables."
   ]
  },
  {
   "cell_type": "markdown",
   "id": "85f37a30-c314-4489-81bb-ff7a3ed146a6",
   "metadata": {},
   "source": [
    "**Question 2** (1 point): Donnez pour la sous-table appropriée les corrélations des variables entre elles."
   ]
  },
  {
   "cell_type": "markdown",
   "id": "b1772479-1db7-4f8b-8661-f98559de203c",
   "metadata": {},
   "source": [
    "**Question 3** (2 point): Réalisez pour la sous-table appropriée des boîtes à moustache représentant les valeurs prises par les différents groupes de la target."
   ]
  },
  {
   "cell_type": "markdown",
   "id": "fcdd1403-1ecf-4030-96de-8ba7fc8f55ce",
   "metadata": {},
   "source": [
    "**Question 5** (2 points): Réalisez pour la sous-table appropriée des graphiques représentant le nombre d'individus par modalité de variables et par valeur de la target."
   ]
  },
  {
   "cell_type": "markdown",
   "id": "778857e4-cfa1-4e6e-aca0-c04ba3426be8",
   "metadata": {},
   "source": [
    "**Qestion 4** (2 point): Faire la liste des variables ayant le plus d'effet sur la target."
   ]
  },
  {
   "cell_type": "markdown",
   "id": "8aab6fcc-8826-47c4-8482-a51a7952d6bd",
   "metadata": {},
   "source": [
    "## K-plus proche voisin (5 points)"
   ]
  },
  {
   "cell_type": "markdown",
   "id": "37051027-8bb7-4b85-a98f-9203ae5bb381",
   "metadata": {},
   "source": [
    "**Question 1** (1 point): Réalisez une fonction permettant de calculer la distance de Manhattan entre un array numpy et une matrice numpy. "
   ]
  },
  {
   "cell_type": "code",
   "execution_count": 6,
   "id": "7d8c5385-7938-414e-a8b7-423331d5755c",
   "metadata": {},
   "outputs": [],
   "source": [
    "def manhattan_distance(individual: np.array, features: np.array):\n",
    "    \"\"\"Function that computes the manhattan distance between a numpy array and a numpy matrix.\n",
    "    Returns a list or an array of a distance.\n",
    "    \"\"\""
   ]
  },
  {
   "cell_type": "markdown",
   "id": "76c22209-1e46-4065-a711-ba43d6144161",
   "metadata": {},
   "source": [
    "**Question 2** (2 points): Réalisez une fonction qui étant donné un array numpy, une matrice numpy et un vecteur de label retourne le label majoritaire parmi les k plus proches éléments au sens de la distance de Manhattan (algorithme des k plus proches voisins)."
   ]
  },
  {
   "cell_type": "code",
   "execution_count": 19,
   "id": "53148674-9d0f-43e4-9dd6-effc1b2ff78a",
   "metadata": {},
   "outputs": [],
   "source": [
    "def nearest_neighbors(individual: np.array, features: np.array, label: np.array, number_of_neighbors: int) -> int:\n",
    "    \"\"\"\n",
    "    Returns the majority label within the number_of_neighbors for the individual individual.\n",
    "    \"\"\""
   ]
  },
  {
   "cell_type": "markdown",
   "id": "eb48eeee-0708-4491-9e9b-4bca6a90e6ba",
   "metadata": {},
   "source": [
    "**Question 3** (.5 point): Créez une fonction permettant de calculer l'accuracy entre deux array numpy binaire."
   ]
  },
  {
   "cell_type": "code",
   "execution_count": null,
   "id": "71dbc4bd-6722-4ee1-b347-b1461057504c",
   "metadata": {},
   "outputs": [],
   "source": [
    "def accuracy(y_pred: np.array, y_true: np.array) -> float:\n",
    "    \"\"\"Returns the accuracy between a prediction vector and a true vector.\n",
    "    \"\"\""
   ]
  },
  {
   "cell_type": "markdown",
   "id": "1c99a673-e16d-4a3f-b170-f1d9dfb9dcfa",
   "metadata": {},
   "source": [
    "**Question 4** (1 point): Trouvez le nombre de voisins optimaux au sens de l'accuracy."
   ]
  },
  {
   "cell_type": "markdown",
   "id": "25b133e9-f98e-4a8e-b268-c05f88a1b5c9",
   "metadata": {},
   "source": [
    "**Question 5** (.5 point) : Quelle est la limite de cette approche ?"
   ]
  }
 ],
 "metadata": {
  "kernelspec": {
   "display_name": "Python 3 (ipykernel)",
   "language": "python",
   "name": "python3"
  },
  "language_info": {
   "codemirror_mode": {
    "name": "ipython",
    "version": 3
   },
   "file_extension": ".py",
   "mimetype": "text/x-python",
   "name": "python",
   "nbconvert_exporter": "python",
   "pygments_lexer": "ipython3",
   "version": "3.11.0"
  }
 },
 "nbformat": 4,
 "nbformat_minor": 5
}
