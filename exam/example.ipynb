{
 "cells": [
  {
   "cell_type": "markdown",
   "id": "31a8196e",
   "metadata": {},
   "source": [
    "# Contrôle continu 1\n",
    "Complément de Math 2 - L3 MIASHS\n",
    "-----------------\n",
    "\n",
    "Groupe:\n",
    "1. **Nom prénom no_etudiant**\n",
    "2. **Nom prénom no_etudiant**"
   ]
  },
  {
   "cell_type": "markdown",
   "id": "37e86dbc",
   "metadata": {},
   "source": [
    "## Etape préliminaire\n",
    "J'ai choisi le jeu de données numéro x, à parce que les données de santé m'intéressent tout particulièrement. J'ai aussi envie d'essayer la classification déséquilibrée."
   ]
  },
  {
   "cell_type": "code",
   "execution_count": 3,
   "id": "b28897cd",
   "metadata": {},
   "outputs": [],
   "source": [
    "import pandas as pd\n",
    "\n",
    "df = pd.read_csv(\"https://raw.githubusercontent.com/SphRbtHyk/miashs_introduction_ml/main/hotel_reservations.csv\")"
   ]
  },
  {
   "cell_type": "markdown",
   "id": "2adc2f35",
   "metadata": {},
   "source": [
    "## Analyse univariée\n",
    "\n",
    "**Question 1**:\n",
    "\n",
    "a. Ma réponse est ......"
   ]
  },
  {
   "cell_type": "code",
   "execution_count": null,
   "id": "e7ee4223",
   "metadata": {},
   "outputs": [],
   "source": []
  }
 ],
 "metadata": {
  "kernelspec": {
   "display_name": "Python 3 (ipykernel)",
   "language": "python",
   "name": "python3"
  },
  "language_info": {
   "codemirror_mode": {
    "name": "ipython",
    "version": 3
   },
   "file_extension": ".py",
   "mimetype": "text/x-python",
   "name": "python",
   "nbconvert_exporter": "python",
   "pygments_lexer": "ipython3",
   "version": "3.10.6"
  }
 },
 "nbformat": 4,
 "nbformat_minor": 5
}
