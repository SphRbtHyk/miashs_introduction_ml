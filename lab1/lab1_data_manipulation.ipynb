{
 "cells": [
  {
   "cell_type": "markdown",
   "id": "4145ff60",
   "metadata": {},
   "source": [
    "# Datasets and variables using numpy, matplotlib and pandas"
   ]
  },
  {
   "cell_type": "markdown",
   "id": "1791910c",
   "metadata": {},
   "source": [
    "## Introduction to numpy\n",
    "\n",
    "Full documentation is available [here](https://numpy.org/) and introduction tutorials are available [here](https://numpy.org/learn/).\n",
    "\n",
    "NumPy’s main object is the homogeneous multidimensional array. It is a table of elements (usually numbers), all of the same type, indexed by **a tuple of non-negative integers**. In NumPy dimensions are called **axes**."
   ]
  },
  {
   "cell_type": "markdown",
   "id": "37193f73",
   "metadata": {},
   "source": [
    "### Arrays"
   ]
  },
  {
   "cell_type": "code",
   "execution_count": 21,
   "id": "00bc2459",
   "metadata": {},
   "outputs": [],
   "source": [
    "import numpy as np"
   ]
  },
  {
   "cell_type": "code",
   "execution_count": 19,
   "id": "c294f37e",
   "metadata": {},
   "outputs": [],
   "source": [
    "one_dimensional = np.array([1, 2, 3])\n",
    "two_dimensional = np.array([[1, 2, 3], [4, 5, 6]])"
   ]
  },
  {
   "cell_type": "markdown",
   "id": "c4f1f10e",
   "metadata": {},
   "source": [
    "Axes can be accessed by their index:"
   ]
  },
  {
   "cell_type": "code",
   "execution_count": 22,
   "id": "83094c6c",
   "metadata": {},
   "outputs": [
    {
     "name": "stdout",
     "output_type": "stream",
     "text": [
      "[4 5 6]\n",
      "[2 5]\n"
     ]
    }
   ],
   "source": [
    "# Row access\n",
    "print(two_dimensional[1,:])\n",
    "\n",
    "# Column access\n",
    "print(two_dimensional[:,1])"
   ]
  },
  {
   "cell_type": "markdown",
   "id": "f63cc2f5",
   "metadata": {},
   "source": [
    "#### Exercise:\n",
    "Write a function that returns the value at index `row_ix` for the row and `col_ix` for the column.\n"
   ]
  },
  {
   "cell_type": "code",
   "execution_count": 41,
   "id": "72549a2f",
   "metadata": {},
   "outputs": [],
   "source": [
    "def array_indexer(input_array, row_ix, col_ix):\n",
    "    \"\"\"Returns the value at row_ix and col_ix for input_array.\n",
    "    \"\"\""
   ]
  },
  {
   "cell_type": "markdown",
   "id": "5bd60a3b",
   "metadata": {},
   "source": [
    "### Masking\n",
    "Masking allows to select only values from an array according to an array of booleans."
   ]
  },
  {
   "cell_type": "code",
   "execution_count": 45,
   "id": "bdbc3c41",
   "metadata": {},
   "outputs": [
    {
     "data": {
      "text/plain": [
       "array([[False, False,  True],\n",
       "       [ True,  True,  True]])"
      ]
     },
     "execution_count": 45,
     "metadata": {},
     "output_type": "execute_result"
    }
   ],
   "source": [
    "# Compare array values to a set value\n",
    "mask = two_dimensional > 2\n",
    "mask"
   ]
  },
  {
   "cell_type": "code",
   "execution_count": 47,
   "id": "263273d5",
   "metadata": {},
   "outputs": [
    {
     "data": {
      "text/plain": [
       "array([3, 4, 5, 6])"
      ]
     },
     "execution_count": 47,
     "metadata": {},
     "output_type": "execute_result"
    }
   ],
   "source": [
    "# Get values of the array respecting this mask\n",
    "two_dimensional[mask]"
   ]
  },
  {
   "cell_type": "markdown",
   "id": "3ede226a",
   "metadata": {},
   "source": [
    "## Computing statistical indicators\n",
    "Numpy comes with lots of functions to compute statistical indicators, either overall the values, or overcolumns and rows."
   ]
  },
  {
   "cell_type": "code",
   "execution_count": 30,
   "id": "81f74264",
   "metadata": {},
   "outputs": [
    {
     "name": "stdout",
     "output_type": "stream",
     "text": [
      "[2. 5.]\n",
      "[2.5 3.5 4.5]\n",
      "3.5\n"
     ]
    }
   ],
   "source": [
    "# Over columns\n",
    "print(np.mean(two_dimensional, axis=1))\n",
    "\n",
    "# Over rows\n",
    "print(np.mean(two_dimensional, axis=0))\n",
    "\n",
    "# Overall\n",
    "print(np.mean(two_dimensional))"
   ]
  },
  {
   "cell_type": "markdown",
   "id": "318fb7de",
   "metadata": {},
   "source": [
    "### Exercices: \n",
    "Compute the standard error and the median for each row/column of the array `two_dimensional`."
   ]
  },
  {
   "cell_type": "markdown",
   "id": "5a90d884",
   "metadata": {},
   "source": [
    "## Plotting using matplotlib\n",
    "> Add the matplotlib library to your virtual environment `pip install matplotlib`\n",
    "\n",
    "Matplotlib is a module for generating 2D and 3D graphics. Documentation is available [here](https://matplotlib.org/api/pyplot_summary.html). A set of tutorials are available [here](https://matplotlib.org/stable/tutorials/index.html).\n",
    "\n",
    "Matplotlib is both **complex** and **very powerful**, so it may take a while for you to learn its full power."
   ]
  },
  {
   "cell_type": "code",
   "execution_count": 34,
   "id": "343e24c4",
   "metadata": {},
   "outputs": [],
   "source": [
    "# Generate a random vector for plotting\n",
    "random_vector = np.random.normal(0, 10, 1000)"
   ]
  },
  {
   "cell_type": "markdown",
   "id": "a64da478",
   "metadata": {},
   "source": [
    "### Plotting an histogram"
   ]
  },
  {
   "cell_type": "code",
   "execution_count": 38,
   "id": "1b0890ab",
   "metadata": {},
   "outputs": [],
   "source": [
    "from matplotlib import pyplot as plt"
   ]
  },
  {
   "cell_type": "code",
   "execution_count": 40,
   "id": "7016870c",
   "metadata": {},
   "outputs": [
    {
     "data": {
      "text/plain": [
       "Text(0.5, 1.0, 'Histogram of a random vector')"
      ]
     },
     "execution_count": 40,
     "metadata": {},
     "output_type": "execute_result"
    },
    {
     "data": {
      "image/png": "[encoded data removed]",
      "text/plain": [
       "<Figure size 640x480 with 1 Axes>"
      ]
     },
     "metadata": {},
     "output_type": "display_data"
    }
   ],
   "source": [
    "plt.hist(x=random_vector)\n",
    "plt.title(\"Histogram of a random vector\")"
   ]
  },
  {
   "cell_type": "markdown",
   "id": "feb5163e",
   "metadata": {},
   "source": [
    "#### Exercice:\n",
    "Add the labels for the x axis and the y axis on the above plot."
   ]
  },
  {
   "cell_type": "markdown",
   "id": "6c8931b3",
   "metadata": {},
   "source": [
    "### Plotting a boxplot"
   ]
  },
  {
   "cell_type": "code",
   "execution_count": 48,
   "id": "681d4c0f",
   "metadata": {},
   "outputs": [
    {
     "data": {
      "text/plain": [
       "Text(0.5, 1.0, 'Boxplot of a random vector')"
      ]
     },
     "execution_count": 48,
     "metadata": {},
     "output_type": "execute_result"
    },
    {
     "data": {
      "image/png": "[encoded data removed]",
      "text/plain": [
       "<Figure size 640x480 with 1 Axes>"
      ]
     },
     "metadata": {},
     "output_type": "display_data"
    }
   ],
   "source": [
    "plt.boxplot(x=random_vector)\n",
    "plt.title(\"Boxplot of a random vector\")"
   ]
  },
  {
   "cell_type": "markdown",
   "id": "56dc3798",
   "metadata": {},
   "source": [
    "#### Exercice:\n",
    "Using the same data vector, plot a [violin plot] and play with the different options (https://matplotlib.org/stable/api/_as_gen/matplotlib.pyplot.violinplot.html)."
   ]
  },
  {
   "cell_type": "markdown",
   "id": "a9830e80",
   "metadata": {},
   "source": [
    "### Scatter plots\n",
    "To plot the repartition of two numerical variables, **scatter plots** can be used."
   ]
  },
  {
   "cell_type": "code",
   "execution_count": 49,
   "id": "f9c7b0e4",
   "metadata": {},
   "outputs": [],
   "source": [
    "random_vector_1 = np.random.normal(0, 10, 1000)\n",
    "random_vector_2 = np.random.normal(0, 10, 1000)"
   ]
  },
  {
   "cell_type": "code",
   "execution_count": 53,
   "id": "dda64077",
   "metadata": {},
   "outputs": [
    {
     "data": {
      "text/plain": [
       "Text(0, 0.5, 'Vector 2')"
      ]
     },
     "execution_count": 53,
     "metadata": {},
     "output_type": "execute_result"
    },
    {
     "data": {
      "image/png": "[encoded data removed]",
      "text/plain": [
       "<Figure size 640x480 with 1 Axes>"
      ]
     },
     "metadata": {},
     "output_type": "display_data"
    }
   ],
   "source": [
    "plt.scatter(random_vector_1, random_vector_2)\n",
    "plt.title(\"Repartition of two numerical variables\")\n",
    "plt.xlabel(\"Vector 1\")\n",
    "plt.ylabel(\"Vector 2\")"
   ]
  },
  {
   "cell_type": "markdown",
   "id": "8c0fda76",
   "metadata": {},
   "source": [
    "## Introduction to pandas\n",
    "\n",
    "Pandas is a very easy to use library for data manipulation (but it can be tricky, because it's so easy to use you'll only rely on pandas afterwards even though it's **slower**).\n",
    "Full documentation of pandas is [here](https://pandas.pydata.org/) and introduction is [here](https://pandas.pydata.org/docs/user_guide/10min.html)."
   ]
  },
  {
   "cell_type": "markdown",
   "id": "d7490993",
   "metadata": {},
   "source": [
    "### Dataframes\n",
    "Dataframes (and Series, their one dimensional counterparts) is the pandas class that holds multi-dimensional data."
   ]
  },
  {
   "cell_type": "code",
   "execution_count": 61,
   "id": "e6fe61d4",
   "metadata": {},
   "outputs": [],
   "source": [
    "import pandas as pd\n",
    "\n",
    "df = pd.DataFrame([random_vector_1, random_vector_2], columns=['col_' + str(i) for i in range(1000)])"
   ]
  },
  {
   "cell_type": "code",
   "execution_count": 62,
   "id": "714c9d20",
   "metadata": {},
   "outputs": [
    {
     "data": {
      "text/html": [
       "<div>\n",
       "<style scoped>\n",
       "    .dataframe tbody tr th:only-of-type {\n",
       "        vertical-align: middle;\n",
       "    }\n",
       "\n",
       "    .dataframe tbody tr th {\n",
       "        vertical-align: top;\n",
       "    }\n",
       "\n",
       "    .dataframe thead th {\n",
       "        text-align: right;\n",
       "    }\n",
       "</style>\n",
       "<table border=\"1\" class=\"dataframe\">\n",
       "  <thead>\n",
       "    <tr style=\"text-align: right;\">\n",
       "      <th></th>\n",
       "      <th>col_0</th>\n",
       "      <th>col_1</th>\n",
       "      <th>col_2</th>\n",
       "      <th>col_3</th>\n",
       "      <th>col_4</th>\n",
       "      <th>col_5</th>\n",
       "      <th>col_6</th>\n",
       "      <th>col_7</th>\n",
       "      <th>col_8</th>\n",
       "      <th>col_9</th>\n",
       "      <th>...</th>\n",
       "      <th>col_990</th>\n",
       "      <th>col_991</th>\n",
       "      <th>col_992</th>\n",
       "      <th>col_993</th>\n",
       "      <th>col_994</th>\n",
       "      <th>col_995</th>\n",
       "      <th>col_996</th>\n",
       "      <th>col_997</th>\n",
       "      <th>col_998</th>\n",
       "      <th>col_999</th>\n",
       "    </tr>\n",
       "  </thead>\n",
       "  <tbody>\n",
       "    <tr>\n",
       "      <th>0</th>\n",
       "      <td>4.184257</td>\n",
       "      <td>10.194608</td>\n",
       "      <td>-7.751728</td>\n",
       "      <td>-13.757635</td>\n",
       "      <td>10.880547</td>\n",
       "      <td>1.990866</td>\n",
       "      <td>5.517750</td>\n",
       "      <td>-7.478442</td>\n",
       "      <td>5.967522</td>\n",
       "      <td>10.502741</td>\n",
       "      <td>...</td>\n",
       "      <td>1.682014</td>\n",
       "      <td>7.393530</td>\n",
       "      <td>2.483149</td>\n",
       "      <td>6.035907</td>\n",
       "      <td>8.741949</td>\n",
       "      <td>-3.070633</td>\n",
       "      <td>-0.772335</td>\n",
       "      <td>6.948730</td>\n",
       "      <td>9.429496</td>\n",
       "      <td>-2.541678</td>\n",
       "    </tr>\n",
       "    <tr>\n",
       "      <th>1</th>\n",
       "      <td>-4.831069</td>\n",
       "      <td>-0.963038</td>\n",
       "      <td>3.094039</td>\n",
       "      <td>13.336654</td>\n",
       "      <td>-11.325944</td>\n",
       "      <td>4.240541</td>\n",
       "      <td>-7.509878</td>\n",
       "      <td>23.215138</td>\n",
       "      <td>16.631844</td>\n",
       "      <td>5.275358</td>\n",
       "      <td>...</td>\n",
       "      <td>-4.387971</td>\n",
       "      <td>4.285775</td>\n",
       "      <td>-3.963431</td>\n",
       "      <td>-7.733111</td>\n",
       "      <td>5.773628</td>\n",
       "      <td>14.419666</td>\n",
       "      <td>-8.425689</td>\n",
       "      <td>2.785601</td>\n",
       "      <td>28.397904</td>\n",
       "      <td>14.051731</td>\n",
       "    </tr>\n",
       "  </tbody>\n",
       "</table>\n",
       "<p>2 rows × 1000 columns</p>\n",
       "</div>"
      ],
      "text/plain": [
       "      col_0      col_1     col_2      col_3      col_4     col_5     col_6  \\\n",
       "0  4.184257  10.194608 -7.751728 -13.757635  10.880547  1.990866  5.517750   \n",
       "1 -4.831069  -0.963038  3.094039  13.336654 -11.325944  4.240541 -7.509878   \n",
       "\n",
       "       col_7      col_8      col_9  ...   col_990   col_991   col_992  \\\n",
       "0  -7.478442   5.967522  10.502741  ...  1.682014  7.393530  2.483149   \n",
       "1  23.215138  16.631844   5.275358  ... -4.387971  4.285775 -3.963431   \n",
       "\n",
       "    col_993   col_994    col_995   col_996   col_997    col_998    col_999  \n",
       "0  6.035907  8.741949  -3.070633 -0.772335  6.948730   9.429496  -2.541678  \n",
       "1 -7.733111  5.773628  14.419666 -8.425689  2.785601  28.397904  14.051731  \n",
       "\n",
       "[2 rows x 1000 columns]"
      ]
     },
     "execution_count": 62,
     "metadata": {},
     "output_type": "execute_result"
    }
   ],
   "source": [
    "df"
   ]
  },
  {
   "cell_type": "code",
   "execution_count": 59,
   "id": "61060564",
   "metadata": {},
   "outputs": [
    {
     "data": {
      "text/plain": [
       "pandas.core.frame.DataFrame"
      ]
     },
     "execution_count": 59,
     "metadata": {},
     "output_type": "execute_result"
    }
   ],
   "source": [
    "type(df)"
   ]
  },
  {
   "cell_type": "markdown",
   "id": "39c19043",
   "metadata": {},
   "source": [
    "Dataframes can be indexed by its location or by its index."
   ]
  },
  {
   "cell_type": "code",
   "execution_count": 69,
   "id": "1bbe1235",
   "metadata": {},
   "outputs": [
    {
     "data": {
      "text/plain": [
       "0    4.184257\n",
       "1   -4.831069\n",
       "Name: col_0, dtype: float64"
      ]
     },
     "execution_count": 69,
     "metadata": {},
     "output_type": "execute_result"
    }
   ],
   "source": [
    "# By column name\n",
    "df[\"col_0\"]\n",
    "\n",
    "# By index of column\n",
    "df.iloc[:,0]"
   ]
  },
  {
   "cell_type": "markdown",
   "id": "d76901c8",
   "metadata": {},
   "source": [
    "The numpy array can be accessed using the `values` attribute (**it will be important for further labs and for matplotlib**)."
   ]
  },
  {
   "cell_type": "code",
   "execution_count": 71,
   "id": "b651e3c2",
   "metadata": {},
   "outputs": [
    {
     "data": {
      "text/plain": [
       "array([[ 4.18425652, 10.19460771, -7.75172817, ...,  6.94873027,\n",
       "         9.42949648, -2.5416776 ],\n",
       "       [-4.83106903, -0.96303831,  3.09403865, ...,  2.7856011 ,\n",
       "        28.39790406, 14.05173105]])"
      ]
     },
     "execution_count": 71,
     "metadata": {},
     "output_type": "execute_result"
    }
   ],
   "source": [
    "df.values"
   ]
  },
  {
   "cell_type": "markdown",
   "id": "ce7414e3",
   "metadata": {},
   "source": [
    "### Computing statistical indicators\n",
    "\n",
    "A generic describes method is available to compute at once all the statistical estimators on a dataset."
   ]
  },
  {
   "cell_type": "code",
   "execution_count": 72,
   "id": "d197536e",
   "metadata": {},
   "outputs": [
    {
     "data": {
      "text/html": [
       "<div>\n",
       "<style scoped>\n",
       "    .dataframe tbody tr th:only-of-type {\n",
       "        vertical-align: middle;\n",
       "    }\n",
       "\n",
       "    .dataframe tbody tr th {\n",
       "        vertical-align: top;\n",
       "    }\n",
       "\n",
       "    .dataframe thead th {\n",
       "        text-align: right;\n",
       "    }\n",
       "</style>\n",
       "<table border=\"1\" class=\"dataframe\">\n",
       "  <thead>\n",
       "    <tr style=\"text-align: right;\">\n",
       "      <th></th>\n",
       "      <th>col_0</th>\n",
       "      <th>col_1</th>\n",
       "      <th>col_2</th>\n",
       "      <th>col_3</th>\n",
       "      <th>col_4</th>\n",
       "      <th>col_5</th>\n",
       "      <th>col_6</th>\n",
       "      <th>col_7</th>\n",
       "      <th>col_8</th>\n",
       "      <th>col_9</th>\n",
       "      <th>...</th>\n",
       "      <th>col_990</th>\n",
       "      <th>col_991</th>\n",
       "      <th>col_992</th>\n",
       "      <th>col_993</th>\n",
       "      <th>col_994</th>\n",
       "      <th>col_995</th>\n",
       "      <th>col_996</th>\n",
       "      <th>col_997</th>\n",
       "      <th>col_998</th>\n",
       "      <th>col_999</th>\n",
       "    </tr>\n",
       "  </thead>\n",
       "  <tbody>\n",
       "    <tr>\n",
       "      <th>count</th>\n",
       "      <td>2.000000</td>\n",
       "      <td>2.000000</td>\n",
       "      <td>2.000000</td>\n",
       "      <td>2.000000</td>\n",
       "      <td>2.000000</td>\n",
       "      <td>2.000000</td>\n",
       "      <td>2.000000</td>\n",
       "      <td>2.000000</td>\n",
       "      <td>2.000000</td>\n",
       "      <td>2.000000</td>\n",
       "      <td>...</td>\n",
       "      <td>2.000000</td>\n",
       "      <td>2.000000</td>\n",
       "      <td>2.000000</td>\n",
       "      <td>2.000000</td>\n",
       "      <td>2.000000</td>\n",
       "      <td>2.000000</td>\n",
       "      <td>2.000000</td>\n",
       "      <td>2.000000</td>\n",
       "      <td>2.000000</td>\n",
       "      <td>2.000000</td>\n",
       "    </tr>\n",
       "    <tr>\n",
       "      <th>mean</th>\n",
       "      <td>-0.323406</td>\n",
       "      <td>4.615785</td>\n",
       "      <td>-2.328845</td>\n",
       "      <td>-0.210490</td>\n",
       "      <td>-0.222699</td>\n",
       "      <td>3.115704</td>\n",
       "      <td>-0.996064</td>\n",
       "      <td>7.868348</td>\n",
       "      <td>11.299683</td>\n",
       "      <td>7.889050</td>\n",
       "      <td>...</td>\n",
       "      <td>-1.352978</td>\n",
       "      <td>5.839653</td>\n",
       "      <td>-0.740141</td>\n",
       "      <td>-0.848602</td>\n",
       "      <td>7.257789</td>\n",
       "      <td>5.674516</td>\n",
       "      <td>-4.599012</td>\n",
       "      <td>4.867166</td>\n",
       "      <td>18.913700</td>\n",
       "      <td>5.755027</td>\n",
       "    </tr>\n",
       "    <tr>\n",
       "      <th>std</th>\n",
       "      <td>6.374798</td>\n",
       "      <td>7.889647</td>\n",
       "      <td>7.669115</td>\n",
       "      <td>19.158556</td>\n",
       "      <td>15.702361</td>\n",
       "      <td>1.590760</td>\n",
       "      <td>9.211924</td>\n",
       "      <td>21.703638</td>\n",
       "      <td>7.540814</td>\n",
       "      <td>3.696318</td>\n",
       "      <td>...</td>\n",
       "      <td>4.292127</td>\n",
       "      <td>2.197515</td>\n",
       "      <td>4.558420</td>\n",
       "      <td>9.736166</td>\n",
       "      <td>2.098920</td>\n",
       "      <td>12.367509</td>\n",
       "      <td>5.411738</td>\n",
       "      <td>2.943777</td>\n",
       "      <td>13.412690</td>\n",
       "      <td>11.733312</td>\n",
       "    </tr>\n",
       "    <tr>\n",
       "      <th>min</th>\n",
       "      <td>-4.831069</td>\n",
       "      <td>-0.963038</td>\n",
       "      <td>-7.751728</td>\n",
       "      <td>-13.757635</td>\n",
       "      <td>-11.325944</td>\n",
       "      <td>1.990866</td>\n",
       "      <td>-7.509878</td>\n",
       "      <td>-7.478442</td>\n",
       "      <td>5.967522</td>\n",
       "      <td>5.275358</td>\n",
       "      <td>...</td>\n",
       "      <td>-4.387971</td>\n",
       "      <td>4.285775</td>\n",
       "      <td>-3.963431</td>\n",
       "      <td>-7.733111</td>\n",
       "      <td>5.773628</td>\n",
       "      <td>-3.070633</td>\n",
       "      <td>-8.425689</td>\n",
       "      <td>2.785601</td>\n",
       "      <td>9.429496</td>\n",
       "      <td>-2.541678</td>\n",
       "    </tr>\n",
       "    <tr>\n",
       "      <th>25%</th>\n",
       "      <td>-2.577238</td>\n",
       "      <td>1.826373</td>\n",
       "      <td>-5.040286</td>\n",
       "      <td>-6.984063</td>\n",
       "      <td>-5.774321</td>\n",
       "      <td>2.553285</td>\n",
       "      <td>-4.252971</td>\n",
       "      <td>0.194953</td>\n",
       "      <td>8.633602</td>\n",
       "      <td>6.582204</td>\n",
       "      <td>...</td>\n",
       "      <td>-2.870474</td>\n",
       "      <td>5.062714</td>\n",
       "      <td>-2.351786</td>\n",
       "      <td>-4.290856</td>\n",
       "      <td>6.515708</td>\n",
       "      <td>1.301942</td>\n",
       "      <td>-6.512350</td>\n",
       "      <td>3.826383</td>\n",
       "      <td>14.171598</td>\n",
       "      <td>1.606675</td>\n",
       "    </tr>\n",
       "    <tr>\n",
       "      <th>50%</th>\n",
       "      <td>-0.323406</td>\n",
       "      <td>4.615785</td>\n",
       "      <td>-2.328845</td>\n",
       "      <td>-0.210490</td>\n",
       "      <td>-0.222699</td>\n",
       "      <td>3.115704</td>\n",
       "      <td>-0.996064</td>\n",
       "      <td>7.868348</td>\n",
       "      <td>11.299683</td>\n",
       "      <td>7.889050</td>\n",
       "      <td>...</td>\n",
       "      <td>-1.352978</td>\n",
       "      <td>5.839653</td>\n",
       "      <td>-0.740141</td>\n",
       "      <td>-0.848602</td>\n",
       "      <td>7.257789</td>\n",
       "      <td>5.674516</td>\n",
       "      <td>-4.599012</td>\n",
       "      <td>4.867166</td>\n",
       "      <td>18.913700</td>\n",
       "      <td>5.755027</td>\n",
       "    </tr>\n",
       "    <tr>\n",
       "      <th>75%</th>\n",
       "      <td>1.930425</td>\n",
       "      <td>7.405196</td>\n",
       "      <td>0.382597</td>\n",
       "      <td>6.563082</td>\n",
       "      <td>5.328924</td>\n",
       "      <td>3.678122</td>\n",
       "      <td>2.260843</td>\n",
       "      <td>15.541743</td>\n",
       "      <td>13.965763</td>\n",
       "      <td>9.195895</td>\n",
       "      <td>...</td>\n",
       "      <td>0.164518</td>\n",
       "      <td>6.616591</td>\n",
       "      <td>0.871504</td>\n",
       "      <td>2.593653</td>\n",
       "      <td>7.999869</td>\n",
       "      <td>10.047091</td>\n",
       "      <td>-2.685674</td>\n",
       "      <td>5.907948</td>\n",
       "      <td>23.655802</td>\n",
       "      <td>9.903379</td>\n",
       "    </tr>\n",
       "    <tr>\n",
       "      <th>max</th>\n",
       "      <td>4.184257</td>\n",
       "      <td>10.194608</td>\n",
       "      <td>3.094039</td>\n",
       "      <td>13.336654</td>\n",
       "      <td>10.880547</td>\n",
       "      <td>4.240541</td>\n",
       "      <td>5.517750</td>\n",
       "      <td>23.215138</td>\n",
       "      <td>16.631844</td>\n",
       "      <td>10.502741</td>\n",
       "      <td>...</td>\n",
       "      <td>1.682014</td>\n",
       "      <td>7.393530</td>\n",
       "      <td>2.483149</td>\n",
       "      <td>6.035907</td>\n",
       "      <td>8.741949</td>\n",
       "      <td>14.419666</td>\n",
       "      <td>-0.772335</td>\n",
       "      <td>6.948730</td>\n",
       "      <td>28.397904</td>\n",
       "      <td>14.051731</td>\n",
       "    </tr>\n",
       "  </tbody>\n",
       "</table>\n",
       "<p>8 rows × 1000 columns</p>\n",
       "</div>"
      ],
      "text/plain": [
       "          col_0      col_1     col_2      col_3      col_4     col_5  \\\n",
       "count  2.000000   2.000000  2.000000   2.000000   2.000000  2.000000   \n",
       "mean  -0.323406   4.615785 -2.328845  -0.210490  -0.222699  3.115704   \n",
       "std    6.374798   7.889647  7.669115  19.158556  15.702361  1.590760   \n",
       "min   -4.831069  -0.963038 -7.751728 -13.757635 -11.325944  1.990866   \n",
       "25%   -2.577238   1.826373 -5.040286  -6.984063  -5.774321  2.553285   \n",
       "50%   -0.323406   4.615785 -2.328845  -0.210490  -0.222699  3.115704   \n",
       "75%    1.930425   7.405196  0.382597   6.563082   5.328924  3.678122   \n",
       "max    4.184257  10.194608  3.094039  13.336654  10.880547  4.240541   \n",
       "\n",
       "          col_6      col_7      col_8      col_9  ...   col_990   col_991  \\\n",
       "count  2.000000   2.000000   2.000000   2.000000  ...  2.000000  2.000000   \n",
       "mean  -0.996064   7.868348  11.299683   7.889050  ... -1.352978  5.839653   \n",
       "std    9.211924  21.703638   7.540814   3.696318  ...  4.292127  2.197515   \n",
       "min   -7.509878  -7.478442   5.967522   5.275358  ... -4.387971  4.285775   \n",
       "25%   -4.252971   0.194953   8.633602   6.582204  ... -2.870474  5.062714   \n",
       "50%   -0.996064   7.868348  11.299683   7.889050  ... -1.352978  5.839653   \n",
       "75%    2.260843  15.541743  13.965763   9.195895  ...  0.164518  6.616591   \n",
       "max    5.517750  23.215138  16.631844  10.502741  ...  1.682014  7.393530   \n",
       "\n",
       "        col_992   col_993   col_994    col_995   col_996   col_997    col_998  \\\n",
       "count  2.000000  2.000000  2.000000   2.000000  2.000000  2.000000   2.000000   \n",
       "mean  -0.740141 -0.848602  7.257789   5.674516 -4.599012  4.867166  18.913700   \n",
       "std    4.558420  9.736166  2.098920  12.367509  5.411738  2.943777  13.412690   \n",
       "min   -3.963431 -7.733111  5.773628  -3.070633 -8.425689  2.785601   9.429496   \n",
       "25%   -2.351786 -4.290856  6.515708   1.301942 -6.512350  3.826383  14.171598   \n",
       "50%   -0.740141 -0.848602  7.257789   5.674516 -4.599012  4.867166  18.913700   \n",
       "75%    0.871504  2.593653  7.999869  10.047091 -2.685674  5.907948  23.655802   \n",
       "max    2.483149  6.035907  8.741949  14.419666 -0.772335  6.948730  28.397904   \n",
       "\n",
       "         col_999  \n",
       "count   2.000000  \n",
       "mean    5.755027  \n",
       "std    11.733312  \n",
       "min    -2.541678  \n",
       "25%     1.606675  \n",
       "50%     5.755027  \n",
       "75%     9.903379  \n",
       "max    14.051731  \n",
       "\n",
       "[8 rows x 1000 columns]"
      ]
     },
     "execution_count": 72,
     "metadata": {},
     "output_type": "execute_result"
    }
   ],
   "source": [
    "df.describe()"
   ]
  },
  {
   "cell_type": "markdown",
   "id": "2b9d9a6a",
   "metadata": {},
   "source": [
    "#### Exercice:\n",
    "Compute all the estimators available using pandas `describe` method with `numpy`."
   ]
  }
 ],
 "metadata": {
  "kernelspec": {
   "display_name": "Python 3 (ipykernel)",
   "language": "python",
   "name": "python3"
  },
  "language_info": {
   "codemirror_mode": {
    "name": "ipython",
    "version": 3
   },
   "file_extension": ".py",
   "mimetype": "text/x-python",
   "name": "python",
   "nbconvert_exporter": "python",
   "pygments_lexer": "ipython3",
   "version": "3.10.6"
  }
 },
 "nbformat": 4,
 "nbformat_minor": 5
}
