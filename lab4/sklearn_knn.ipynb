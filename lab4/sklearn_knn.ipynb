{
 "cells": [
  {
   "cell_type": "markdown",
   "id": "7030d7ca",
   "metadata": {},
   "source": [
    "# Introduction to supervised learning using sklearn"
   ]
  },
  {
   "cell_type": "markdown",
   "id": "bd7aee7c",
   "metadata": {},
   "source": [
    "Installing skicit learn: `pip install scikit-learn` "
   ]
  },
  {
   "cell_type": "markdown",
   "id": "4b1012dc",
   "metadata": {},
   "source": [
    "## Pre-requisite\n",
    "Take as a starting point your \"cleaned dataset\":\n",
    "- You should only have variables that contain useful information\n",
    "- You should have a solution for your N/A values (to go beyond simple value replacing: https://scikit-learn.org/stable/modules/impute.html)\n",
    "- You should know your quantitative and qualitative variables\n",
    "- You should have an idea **of the score you want to optimize**.\n",
    "\n",
    "If you have a dataset with qualitative variables that you cannot drop, you should transform them using: one-hot encoding (https://scikit-learn.org/stable/modules/generated/sklearn.preprocessing.OneHotEncoder.html).\n",
    "\n",
    "> For this lab, if you are short on time, you can directly use only your **quantitative variables**, that you can store in `quantitative_df`."
   ]
  },
  {
   "cell_type": "code",
   "execution_count": 36,
   "id": "0dffd804",
   "metadata": {},
   "outputs": [],
   "source": [
    "# Load my demonstration dataset (you should use the dataset you will use for the project)\n",
    "import pandas as pd\n",
    "import numpy as np\n",
    "import seaborn as sns\n",
    "import matplotlib.pyplot as plt\n",
    "df = pd.read_csv(\"../pokemon.csv\")"
   ]
  },
  {
   "cell_type": "markdown",
   "id": "ce736fe6",
   "metadata": {},
   "source": [
    "## Introduction to sklearn\n",
    "`sklearn` (https://scikit-learn.org/stable/index.html) is one of the most popular library for Machine Learning in Python and is a must know for any data scientist.\n",
    "It provides plenty of different utilities for Machine Learning:\n",
    "- Preprocessing\n",
    "- Dimensionality reduction\n",
    "- Clustering algorithm\n",
    "- Classification algorithms\n",
    "\n",
    "Today we will learn the basic of using sklearn for **classification on the dataset you have chosen**.\n",
    "\n",
    "### Sklearn basics for classification\n",
    "\n",
    "`sklearn` relies on using classes to create classifiers. A classifier is any class with a method `.fit` and `.predict`:\n",
    "- `.fit`: trains the model on the dataset.\n",
    "- `.predict`: predicts the score on an input vector.\n",
    "\n",
    "Each of these methods take as input `numpy.array` (to transform a `pandas.DataFrame` into a numpy array use the `values` method).\n",
    "\n",
    "### Example for a random classifier on the Pokemon dataset"
   ]
  },
  {
   "cell_type": "code",
   "execution_count": 37,
   "id": "7cfce6ff",
   "metadata": {},
   "outputs": [],
   "source": [
    "from sklearn.dummy import DummyClassifier"
   ]
  },
  {
   "cell_type": "code",
   "execution_count": 38,
   "id": "7db36c3e",
   "metadata": {},
   "outputs": [],
   "source": [
    "# My target is legendary \n",
    "\n",
    "y = df.is_legendary.values\n",
    "\n",
    "X = df[['against_bug', 'against_dark', 'against_dragon',\n",
    "       'against_electric', 'against_fairy', 'against_fight', 'against_fire',\n",
    "       'against_flying', 'against_ghost', 'against_grass', 'against_ground',\n",
    "       'against_ice', 'against_normal', 'against_poison', 'against_psychic',\n",
    "       'against_rock', 'against_steel', 'against_water', 'attack',\n",
    "       'base_egg_steps', 'base_happiness', 'base_total', 'capture_rate',\n",
    "        'defense', 'experience_growth', 'height_m', 'hp',\n",
    "       'percentage_male',\n",
    "       'sp_attack', 'sp_defense', 'speed', 'weight_kg',\n",
    "       'generation']]\n",
    "X = X.fillna(X.mean()).values\n"
   ]
  },
  {
   "cell_type": "code",
   "execution_count": 40,
   "id": "ed82d8da",
   "metadata": {},
   "outputs": [
    {
     "data": {
      "text/html": [
       "<style>#sk-container-id-3 {\n",
       "  /* Definition of color scheme common for light and dark mode */\n",
       "  --sklearn-color-text: black;\n",
       "  --sklearn-color-line: gray;\n",
       "  /* Definition of color scheme for unfitted estimators */\n",
       "  --sklearn-color-unfitted-level-0: #fff5e6;\n",
       "  --sklearn-color-unfitted-level-1: #f6e4d2;\n",
       "  --sklearn-color-unfitted-level-2: #ffe0b3;\n",
       "  --sklearn-color-unfitted-level-3: chocolate;\n",
       "  /* Definition of color scheme for fitted estimators */\n",
       "  --sklearn-color-fitted-level-0: #f0f8ff;\n",
       "  --sklearn-color-fitted-level-1: #d4ebff;\n",
       "  --sklearn-color-fitted-level-2: #b3dbfd;\n",
       "  --sklearn-color-fitted-level-3: cornflowerblue;\n",
       "\n",
       "  /* Specific color for light theme */\n",
       "  --sklearn-color-text-on-default-background: var(--sg-text-color, var(--theme-code-foreground, var(--jp-content-font-color1, black)));\n",
       "  --sklearn-color-background: var(--sg-background-color, var(--theme-background, var(--jp-layout-color0, white)));\n",
       "  --sklearn-color-border-box: var(--sg-text-color, var(--theme-code-foreground, var(--jp-content-font-color1, black)));\n",
       "  --sklearn-color-icon: #696969;\n",
       "\n",
       "  @media (prefers-color-scheme: dark) {\n",
       "    /* Redefinition of color scheme for dark theme */\n",
       "    --sklearn-color-text-on-default-background: var(--sg-text-color, var(--theme-code-foreground, var(--jp-content-font-color1, white)));\n",
       "    --sklearn-color-background: var(--sg-background-color, var(--theme-background, var(--jp-layout-color0, #111)));\n",
       "    --sklearn-color-border-box: var(--sg-text-color, var(--theme-code-foreground, var(--jp-content-font-color1, white)));\n",
       "    --sklearn-color-icon: #878787;\n",
       "  }\n",
       "}\n",
       "\n",
       "#sk-container-id-3 {\n",
       "  color: var(--sklearn-color-text);\n",
       "}\n",
       "\n",
       "#sk-container-id-3 pre {\n",
       "  padding: 0;\n",
       "}\n",
       "\n",
       "#sk-container-id-3 input.sk-hidden--visually {\n",
       "  border: 0;\n",
       "  clip: rect(1px 1px 1px 1px);\n",
       "  clip: rect(1px, 1px, 1px, 1px);\n",
       "  height: 1px;\n",
       "  margin: -1px;\n",
       "  overflow: hidden;\n",
       "  padding: 0;\n",
       "  position: absolute;\n",
       "  width: 1px;\n",
       "}\n",
       "\n",
       "#sk-container-id-3 div.sk-dashed-wrapped {\n",
       "  border: 1px dashed var(--sklearn-color-line);\n",
       "  margin: 0 0.4em 0.5em 0.4em;\n",
       "  box-sizing: border-box;\n",
       "  padding-bottom: 0.4em;\n",
       "  background-color: var(--sklearn-color-background);\n",
       "}\n",
       "\n",
       "#sk-container-id-3 div.sk-container {\n",
       "  /* jupyter's `normalize.less` sets `[hidden] { display: none; }`\n",
       "     but bootstrap.min.css set `[hidden] { display: none !important; }`\n",
       "     so we also need the `!important` here to be able to override the\n",
       "     default hidden behavior on the sphinx rendered scikit-learn.org.\n",
       "     See: https://github.com/scikit-learn/scikit-learn/issues/21755 */\n",
       "  display: inline-block !important;\n",
       "  position: relative;\n",
       "}\n",
       "\n",
       "#sk-container-id-3 div.sk-text-repr-fallback {\n",
       "  display: none;\n",
       "}\n",
       "\n",
       "div.sk-parallel-item,\n",
       "div.sk-serial,\n",
       "div.sk-item {\n",
       "  /* draw centered vertical line to link estimators */\n",
       "  background-image: linear-gradient(var(--sklearn-color-text-on-default-background), var(--sklearn-color-text-on-default-background));\n",
       "  background-size: 2px 100%;\n",
       "  background-repeat: no-repeat;\n",
       "  background-position: center center;\n",
       "}\n",
       "\n",
       "/* Parallel-specific style estimator block */\n",
       "\n",
       "#sk-container-id-3 div.sk-parallel-item::after {\n",
       "  content: \"\";\n",
       "  width: 100%;\n",
       "  border-bottom: 2px solid var(--sklearn-color-text-on-default-background);\n",
       "  flex-grow: 1;\n",
       "}\n",
       "\n",
       "#sk-container-id-3 div.sk-parallel {\n",
       "  display: flex;\n",
       "  align-items: stretch;\n",
       "  justify-content: center;\n",
       "  background-color: var(--sklearn-color-background);\n",
       "  position: relative;\n",
       "}\n",
       "\n",
       "#sk-container-id-3 div.sk-parallel-item {\n",
       "  display: flex;\n",
       "  flex-direction: column;\n",
       "}\n",
       "\n",
       "#sk-container-id-3 div.sk-parallel-item:first-child::after {\n",
       "  align-self: flex-end;\n",
       "  width: 50%;\n",
       "}\n",
       "\n",
       "#sk-container-id-3 div.sk-parallel-item:last-child::after {\n",
       "  align-self: flex-start;\n",
       "  width: 50%;\n",
       "}\n",
       "\n",
       "#sk-container-id-3 div.sk-parallel-item:only-child::after {\n",
       "  width: 0;\n",
       "}\n",
       "\n",
       "/* Serial-specific style estimator block */\n",
       "\n",
       "#sk-container-id-3 div.sk-serial {\n",
       "  display: flex;\n",
       "  flex-direction: column;\n",
       "  align-items: center;\n",
       "  background-color: var(--sklearn-color-background);\n",
       "  padding-right: 1em;\n",
       "  padding-left: 1em;\n",
       "}\n",
       "\n",
       "\n",
       "/* Toggleable style: style used for estimator/Pipeline/ColumnTransformer box that is\n",
       "clickable and can be expanded/collapsed.\n",
       "- Pipeline and ColumnTransformer use this feature and define the default style\n",
       "- Estimators will overwrite some part of the style using the `sk-estimator` class\n",
       "*/\n",
       "\n",
       "/* Pipeline and ColumnTransformer style (default) */\n",
       "\n",
       "#sk-container-id-3 div.sk-toggleable {\n",
       "  /* Default theme specific background. It is overwritten whether we have a\n",
       "  specific estimator or a Pipeline/ColumnTransformer */\n",
       "  background-color: var(--sklearn-color-background);\n",
       "}\n",
       "\n",
       "/* Toggleable label */\n",
       "#sk-container-id-3 label.sk-toggleable__label {\n",
       "  cursor: pointer;\n",
       "  display: block;\n",
       "  width: 100%;\n",
       "  margin-bottom: 0;\n",
       "  padding: 0.5em;\n",
       "  box-sizing: border-box;\n",
       "  text-align: center;\n",
       "}\n",
       "\n",
       "#sk-container-id-3 label.sk-toggleable__label-arrow:before {\n",
       "  /* Arrow on the left of the label */\n",
       "  content: \"▸\";\n",
       "  float: left;\n",
       "  margin-right: 0.25em;\n",
       "  color: var(--sklearn-color-icon);\n",
       "}\n",
       "\n",
       "#sk-container-id-3 label.sk-toggleable__label-arrow:hover:before {\n",
       "  color: var(--sklearn-color-text);\n",
       "}\n",
       "\n",
       "/* Toggleable content - dropdown */\n",
       "\n",
       "#sk-container-id-3 div.sk-toggleable__content {\n",
       "  max-height: 0;\n",
       "  max-width: 0;\n",
       "  overflow: hidden;\n",
       "  text-align: left;\n",
       "  /* unfitted */\n",
       "  background-color: var(--sklearn-color-unfitted-level-0);\n",
       "}\n",
       "\n",
       "#sk-container-id-3 div.sk-toggleable__content.fitted {\n",
       "  /* fitted */\n",
       "  background-color: var(--sklearn-color-fitted-level-0);\n",
       "}\n",
       "\n",
       "#sk-container-id-3 div.sk-toggleable__content pre {\n",
       "  margin: 0.2em;\n",
       "  border-radius: 0.25em;\n",
       "  color: var(--sklearn-color-text);\n",
       "  /* unfitted */\n",
       "  background-color: var(--sklearn-color-unfitted-level-0);\n",
       "}\n",
       "\n",
       "#sk-container-id-3 div.sk-toggleable__content.fitted pre {\n",
       "  /* unfitted */\n",
       "  background-color: var(--sklearn-color-fitted-level-0);\n",
       "}\n",
       "\n",
       "#sk-container-id-3 input.sk-toggleable__control:checked~div.sk-toggleable__content {\n",
       "  /* Expand drop-down */\n",
       "  max-height: 200px;\n",
       "  max-width: 100%;\n",
       "  overflow: auto;\n",
       "}\n",
       "\n",
       "#sk-container-id-3 input.sk-toggleable__control:checked~label.sk-toggleable__label-arrow:before {\n",
       "  content: \"▾\";\n",
       "}\n",
       "\n",
       "/* Pipeline/ColumnTransformer-specific style */\n",
       "\n",
       "#sk-container-id-3 div.sk-label input.sk-toggleable__control:checked~label.sk-toggleable__label {\n",
       "  color: var(--sklearn-color-text);\n",
       "  background-color: var(--sklearn-color-unfitted-level-2);\n",
       "}\n",
       "\n",
       "#sk-container-id-3 div.sk-label.fitted input.sk-toggleable__control:checked~label.sk-toggleable__label {\n",
       "  background-color: var(--sklearn-color-fitted-level-2);\n",
       "}\n",
       "\n",
       "/* Estimator-specific style */\n",
       "\n",
       "/* Colorize estimator box */\n",
       "#sk-container-id-3 div.sk-estimator input.sk-toggleable__control:checked~label.sk-toggleable__label {\n",
       "  /* unfitted */\n",
       "  background-color: var(--sklearn-color-unfitted-level-2);\n",
       "}\n",
       "\n",
       "#sk-container-id-3 div.sk-estimator.fitted input.sk-toggleable__control:checked~label.sk-toggleable__label {\n",
       "  /* fitted */\n",
       "  background-color: var(--sklearn-color-fitted-level-2);\n",
       "}\n",
       "\n",
       "#sk-container-id-3 div.sk-label label.sk-toggleable__label,\n",
       "#sk-container-id-3 div.sk-label label {\n",
       "  /* The background is the default theme color */\n",
       "  color: var(--sklearn-color-text-on-default-background);\n",
       "}\n",
       "\n",
       "/* On hover, darken the color of the background */\n",
       "#sk-container-id-3 div.sk-label:hover label.sk-toggleable__label {\n",
       "  color: var(--sklearn-color-text);\n",
       "  background-color: var(--sklearn-color-unfitted-level-2);\n",
       "}\n",
       "\n",
       "/* Label box, darken color on hover, fitted */\n",
       "#sk-container-id-3 div.sk-label.fitted:hover label.sk-toggleable__label.fitted {\n",
       "  color: var(--sklearn-color-text);\n",
       "  background-color: var(--sklearn-color-fitted-level-2);\n",
       "}\n",
       "\n",
       "/* Estimator label */\n",
       "\n",
       "#sk-container-id-3 div.sk-label label {\n",
       "  font-family: monospace;\n",
       "  font-weight: bold;\n",
       "  display: inline-block;\n",
       "  line-height: 1.2em;\n",
       "}\n",
       "\n",
       "#sk-container-id-3 div.sk-label-container {\n",
       "  text-align: center;\n",
       "}\n",
       "\n",
       "/* Estimator-specific */\n",
       "#sk-container-id-3 div.sk-estimator {\n",
       "  font-family: monospace;\n",
       "  border: 1px dotted var(--sklearn-color-border-box);\n",
       "  border-radius: 0.25em;\n",
       "  box-sizing: border-box;\n",
       "  margin-bottom: 0.5em;\n",
       "  /* unfitted */\n",
       "  background-color: var(--sklearn-color-unfitted-level-0);\n",
       "}\n",
       "\n",
       "#sk-container-id-3 div.sk-estimator.fitted {\n",
       "  /* fitted */\n",
       "  background-color: var(--sklearn-color-fitted-level-0);\n",
       "}\n",
       "\n",
       "/* on hover */\n",
       "#sk-container-id-3 div.sk-estimator:hover {\n",
       "  /* unfitted */\n",
       "  background-color: var(--sklearn-color-unfitted-level-2);\n",
       "}\n",
       "\n",
       "#sk-container-id-3 div.sk-estimator.fitted:hover {\n",
       "  /* fitted */\n",
       "  background-color: var(--sklearn-color-fitted-level-2);\n",
       "}\n",
       "\n",
       "/* Specification for estimator info (e.g. \"i\" and \"?\") */\n",
       "\n",
       "/* Common style for \"i\" and \"?\" */\n",
       "\n",
       ".sk-estimator-doc-link,\n",
       "a:link.sk-estimator-doc-link,\n",
       "a:visited.sk-estimator-doc-link {\n",
       "  float: right;\n",
       "  font-size: smaller;\n",
       "  line-height: 1em;\n",
       "  font-family: monospace;\n",
       "  background-color: var(--sklearn-color-background);\n",
       "  border-radius: 1em;\n",
       "  height: 1em;\n",
       "  width: 1em;\n",
       "  text-decoration: none !important;\n",
       "  margin-left: 1ex;\n",
       "  /* unfitted */\n",
       "  border: var(--sklearn-color-unfitted-level-1) 1pt solid;\n",
       "  color: var(--sklearn-color-unfitted-level-1);\n",
       "}\n",
       "\n",
       ".sk-estimator-doc-link.fitted,\n",
       "a:link.sk-estimator-doc-link.fitted,\n",
       "a:visited.sk-estimator-doc-link.fitted {\n",
       "  /* fitted */\n",
       "  border: var(--sklearn-color-fitted-level-1) 1pt solid;\n",
       "  color: var(--sklearn-color-fitted-level-1);\n",
       "}\n",
       "\n",
       "/* On hover */\n",
       "div.sk-estimator:hover .sk-estimator-doc-link:hover,\n",
       ".sk-estimator-doc-link:hover,\n",
       "div.sk-label-container:hover .sk-estimator-doc-link:hover,\n",
       ".sk-estimator-doc-link:hover {\n",
       "  /* unfitted */\n",
       "  background-color: var(--sklearn-color-unfitted-level-3);\n",
       "  color: var(--sklearn-color-background);\n",
       "  text-decoration: none;\n",
       "}\n",
       "\n",
       "div.sk-estimator.fitted:hover .sk-estimator-doc-link.fitted:hover,\n",
       ".sk-estimator-doc-link.fitted:hover,\n",
       "div.sk-label-container:hover .sk-estimator-doc-link.fitted:hover,\n",
       ".sk-estimator-doc-link.fitted:hover {\n",
       "  /* fitted */\n",
       "  background-color: var(--sklearn-color-fitted-level-3);\n",
       "  color: var(--sklearn-color-background);\n",
       "  text-decoration: none;\n",
       "}\n",
       "\n",
       "/* Span, style for the box shown on hovering the info icon */\n",
       ".sk-estimator-doc-link span {\n",
       "  display: none;\n",
       "  z-index: 9999;\n",
       "  position: relative;\n",
       "  font-weight: normal;\n",
       "  right: .2ex;\n",
       "  padding: .5ex;\n",
       "  margin: .5ex;\n",
       "  width: min-content;\n",
       "  min-width: 20ex;\n",
       "  max-width: 50ex;\n",
       "  color: var(--sklearn-color-text);\n",
       "  box-shadow: 2pt 2pt 4pt #999;\n",
       "  /* unfitted */\n",
       "  background: var(--sklearn-color-unfitted-level-0);\n",
       "  border: .5pt solid var(--sklearn-color-unfitted-level-3);\n",
       "}\n",
       "\n",
       ".sk-estimator-doc-link.fitted span {\n",
       "  /* fitted */\n",
       "  background: var(--sklearn-color-fitted-level-0);\n",
       "  border: var(--sklearn-color-fitted-level-3);\n",
       "}\n",
       "\n",
       ".sk-estimator-doc-link:hover span {\n",
       "  display: block;\n",
       "}\n",
       "\n",
       "/* \"?\"-specific style due to the `<a>` HTML tag */\n",
       "\n",
       "#sk-container-id-3 a.estimator_doc_link {\n",
       "  float: right;\n",
       "  font-size: 1rem;\n",
       "  line-height: 1em;\n",
       "  font-family: monospace;\n",
       "  background-color: var(--sklearn-color-background);\n",
       "  border-radius: 1rem;\n",
       "  height: 1rem;\n",
       "  width: 1rem;\n",
       "  text-decoration: none;\n",
       "  /* unfitted */\n",
       "  color: var(--sklearn-color-unfitted-level-1);\n",
       "  border: var(--sklearn-color-unfitted-level-1) 1pt solid;\n",
       "}\n",
       "\n",
       "#sk-container-id-3 a.estimator_doc_link.fitted {\n",
       "  /* fitted */\n",
       "  border: var(--sklearn-color-fitted-level-1) 1pt solid;\n",
       "  color: var(--sklearn-color-fitted-level-1);\n",
       "}\n",
       "\n",
       "/* On hover */\n",
       "#sk-container-id-3 a.estimator_doc_link:hover {\n",
       "  /* unfitted */\n",
       "  background-color: var(--sklearn-color-unfitted-level-3);\n",
       "  color: var(--sklearn-color-background);\n",
       "  text-decoration: none;\n",
       "}\n",
       "\n",
       "#sk-container-id-3 a.estimator_doc_link.fitted:hover {\n",
       "  /* fitted */\n",
       "  background-color: var(--sklearn-color-fitted-level-3);\n",
       "}\n",
       "</style><div id=\"sk-container-id-3\" class=\"sk-top-container\"><div class=\"sk-text-repr-fallback\"><pre>DummyClassifier(constant=0, strategy=&#x27;constant&#x27;)</pre><b>In a Jupyter environment, please rerun this cell to show the HTML representation or trust the notebook. <br />On GitHub, the HTML representation is unable to render, please try loading this page with nbviewer.org.</b></div><div class=\"sk-container\" hidden><div class=\"sk-item\"><div class=\"sk-estimator fitted sk-toggleable\"><input class=\"sk-toggleable__control sk-hidden--visually\" id=\"sk-estimator-id-3\" type=\"checkbox\" checked><label for=\"sk-estimator-id-3\" class=\"sk-toggleable__label fitted sk-toggleable__label-arrow fitted\">&nbsp;&nbsp;DummyClassifier<a class=\"sk-estimator-doc-link fitted\" rel=\"noreferrer\" target=\"_blank\" href=\"https://scikit-learn.org/1.4/modules/generated/sklearn.dummy.DummyClassifier.html\">?<span>Documentation for DummyClassifier</span></a><span class=\"sk-estimator-doc-link fitted\">i<span>Fitted</span></span></label><div class=\"sk-toggleable__content fitted\"><pre>DummyClassifier(constant=0, strategy=&#x27;constant&#x27;)</pre></div> </div></div></div></div>"
      ],
      "text/plain": [
       "DummyClassifier(constant=0, strategy='constant')"
      ]
     },
     "execution_count": 40,
     "metadata": {},
     "output_type": "execute_result"
    }
   ],
   "source": [
    "# I create an object of class DummyClassifier\n",
    "dummy_classifier = DummyClassifier(strategy=\"constant\", constant=0)\n",
    "\n",
    "# I train it\n",
    "dummy_classifier.fit(X, y)"
   ]
  },
  {
   "cell_type": "markdown",
   "id": "ed25bbc2",
   "metadata": {},
   "source": [
    "I can use the `predict` method to predict on my features `X`."
   ]
  },
  {
   "cell_type": "code",
   "execution_count": 41,
   "id": "742ac921",
   "metadata": {},
   "outputs": [],
   "source": [
    "prediction = dummy_classifier.predict(X)"
   ]
  },
  {
   "cell_type": "markdown",
   "id": "e1c816e1",
   "metadata": {},
   "source": [
    "I can then compute the accuracy score of my model (for a list of all available scores on sklearn read: https://scikit-learn.org/stable/modules/model_evaluation.html), by comparing my vector `prediction` and my ground truth vector `y`."
   ]
  },
  {
   "cell_type": "code",
   "execution_count": 42,
   "id": "652b8905",
   "metadata": {},
   "outputs": [],
   "source": [
    "from sklearn.metrics import accuracy_score"
   ]
  },
  {
   "cell_type": "code",
   "execution_count": 43,
   "id": "bec4312a",
   "metadata": {},
   "outputs": [],
   "source": [
    "accuracy = accuracy_score(y, prediction)"
   ]
  },
  {
   "cell_type": "code",
   "execution_count": 44,
   "id": "a22c06d3",
   "metadata": {},
   "outputs": [
    {
     "name": "stdout",
     "output_type": "stream",
     "text": [
      "========= Accuracy of dummy classifier ============\n",
      "0.9126092384519351\n"
     ]
    }
   ],
   "source": [
    "print(\"========= Accuracy of dummy classifier ============\")\n",
    "print(accuracy)"
   ]
  },
  {
   "cell_type": "markdown",
   "id": "61fb78cc",
   "metadata": {},
   "source": [
    "I can also perform further analysis on my classification, for example by plotting the results side by side."
   ]
  },
  {
   "cell_type": "code",
   "execution_count": 45,
   "id": "63ec5922",
   "metadata": {},
   "outputs": [
    {
     "data": {
      "text/plain": [
       "Text(0, 0.5, 'Speed')"
      ]
     },
     "execution_count": 45,
     "metadata": {},
     "output_type": "execute_result"
    },
    {
     "data": {
      "image/png": "[encoded data removed]",
      "text/plain": [
       "<Figure size 640x480 with 2 Axes>"
      ]
     },
     "metadata": {},
     "output_type": "display_data"
    }
   ],
   "source": [
    "fig, ax =plt.subplots(1,2)\n",
    "\n",
    "sns.scatterplot(x=X[:,0], y=X[:,1], hue=y, ax=ax[0])\n",
    "ax[0].set_title(\"Ground truth\")\n",
    "ax[0].set_xlabel(\"Attack\")\n",
    "ax[0].set_ylabel(\"Speed\")\n",
    "\n",
    "sns.scatterplot(x=X[:,0], y=X[:,1], hue=prediction, ax=ax[1])\n",
    "ax[1].set_title(\"Prediction\")\n",
    "ax[0].set_xlabel(\"Attack\")\n",
    "ax[0].set_ylabel(\"Speed\")"
   ]
  },
  {
   "cell_type": "markdown",
   "id": "d18dc5e9",
   "metadata": {},
   "source": [
    "**Exercice**: \n",
    "- Compute the *recall* and the *precision* on the prediction of the dummy classifier and conclude regarding the importance of using several scoring metrics. What is your remark regarding the precision and how can you explain it ?\n",
    "- *Bonus*: re-code the *recall*, *accuracy*, *precision* (good for you if you want to revise the course!)\n",
    "- *Bonus*: What are your remarks concerning a 91% accuracy score for a dummy classifier ? What can you compare it to ?"
   ]
  },
  {
   "cell_type": "code",
   "execution_count": 46,
   "id": "b41bd36f",
   "metadata": {},
   "outputs": [
    {
     "name": "stdout",
     "output_type": "stream",
     "text": [
      "0.0\n",
      "0.0\n"
     ]
    },
    {
     "name": "stderr",
     "output_type": "stream",
     "text": [
      "/Users/sophrobhayek/Documents/dev/miashs_introduction_ml/venv/lib/python3.11/site-packages/sklearn/metrics/_classification.py:1509: UndefinedMetricWarning: Recall is ill-defined and being set to 0.0 due to no true samples. Use `zero_division` parameter to control this behavior.\n",
      "  _warn_prf(average, modifier, f\"{metric.capitalize()} is\", len(result))\n"
     ]
    }
   ],
   "source": [
    "from sklearn.metrics import recall_score, precision_score\n",
    "\n",
    "y_predict = dummy_classifier.predict(X)\n",
    "print(recall_score(y_predict, y))\n",
    "print(precision_score(y_predict, y))"
   ]
  },
  {
   "cell_type": "markdown",
   "id": "caa18d44",
   "metadata": {},
   "source": [
    "## Using K-nearest neigbhor classifier\n",
    "\n",
    "**Exercice**:\n",
    "Using the class `KNeighborsClassifier` (https://scikit-learn.org/stable/modules/generated/sklearn.neighbors.KNeighborsClassifier.html) (**read the doc beforehand!**), run:\n",
    "- A KNeighborsClassifier with $k \\in \\{1, 3, 5, 7, 9\\}$ and $dist \\in {euclidean, manhattan}$\n",
    "\n",
    "- *Bonus*: Test other distances, **and be critical about it!**, especially if you have qualitative variable.\n",
    "- *Bonus++*: Create your own distance, especially if you're working with a mix of quantitative/qualitative/ordinal variables. \n",
    "\n",
    "- Plot on the same plot the *accuracy* score, the *recall* score, the *precision* score, as a function of $k$ for each distance (and put them side by side).\n",
    "\n",
    "- \"Conclude\" regarding:\n",
    "    - The performance of knn in general on your dataset\n",
    "    - The best $k$ to select\n",
    "    - The best distance to select\n",
    "- *Bonus*: perform a deeper analysis of your classifier, using graphical and statistical tools to analyze the records that were misclassified, and try explaining the results.\n",
    "\n",
    "**Question**: why is what we just did not sufficient to conclude ?"
   ]
  },
  {
   "cell_type": "code",
   "execution_count": 47,
   "id": "03341c12-d46d-4313-b9db-b12edf100a68",
   "metadata": {},
   "outputs": [],
   "source": [
    "from sklearn.neighbors import KNeighborsClassifier"
   ]
  },
  {
   "cell_type": "code",
   "execution_count": 48,
   "id": "3bca531b-adb9-4c99-86f5-1af8ad54b585",
   "metadata": {},
   "outputs": [
    {
     "name": "stdout",
     "output_type": "stream",
     "text": [
      "k = 1\n",
      "======= Train KNN\n",
      "======= Predict on training data\n",
      "k = 3\n",
      "======= Train KNN\n",
      "======= Predict on training data\n",
      "k = 5\n",
      "======= Train KNN\n",
      "======= Predict on training data\n",
      "k = 7\n",
      "======= Train KNN\n",
      "======= Predict on training data\n",
      "k = 9\n",
      "======= Train KNN\n",
      "======= Predict on training data\n",
      "k = 1\n",
      "======= Train KNN\n",
      "======= Predict on training data\n",
      "k = 3\n",
      "======= Train KNN\n",
      "======= Predict on training data\n",
      "k = 5\n",
      "======= Train KNN\n",
      "======= Predict on training data\n",
      "k = 7\n",
      "======= Train KNN\n",
      "======= Predict on training data\n",
      "k = 9\n",
      "======= Train KNN\n",
      "======= Predict on training data\n"
     ]
    }
   ],
   "source": [
    "accuracy_scores_euc = []\n",
    "precision_scores_euc = []\n",
    "recall_scores_euc = []\n",
    "\n",
    "for k in [1, 3, 5, 7, 9]:\n",
    "    print(f\"k = {k}\")\n",
    "    knn = KNeighborsClassifier(n_neighbors=k, p=2)\n",
    "    print(\"======= Train KNN\")\n",
    "    knn.fit(X, y)\n",
    "    print(\"======= Predict on training data\")\n",
    "    prediction = knn.predict(X)\n",
    "    accuracy_scores_euc.append(accuracy_score(prediction, y))\n",
    "    precision_scores_euc.append(precision_score(prediction, y))\n",
    "    recall_scores_euc.append(recall_score(prediction, y))\n",
    "    \n",
    "accuracy_scores_man = []\n",
    "precision_scores_man = []\n",
    "recall_scores_man = []\n",
    "\n",
    "neighbors = [1, 3, 5, 7, 9]\n",
    "\n",
    "for k in neighbors:\n",
    "    print(f\"k = {k}\")\n",
    "    knn = KNeighborsClassifier(n_neighbors=k, p=1)\n",
    "    print(\"======= Train KNN\")\n",
    "    knn.fit(X, y)\n",
    "    print(\"======= Predict on training data\")\n",
    "    prediction = knn.predict(X)\n",
    "    accuracy_scores_man.append(accuracy_score(prediction, y))\n",
    "    precision_scores_man.append(precision_score(prediction, y))\n",
    "    recall_scores_man.append(recall_score(prediction, y))"
   ]
  },
  {
   "cell_type": "code",
   "execution_count": 49,
   "id": "767e449d-7c81-498f-adf5-61f6a9e89c8c",
   "metadata": {},
   "outputs": [
    {
     "data": {
      "text/plain": [
       "[1.0,\n",
       " 0.9962546816479401,\n",
       " 0.9937578027465668,\n",
       " 0.9875156054931336,\n",
       " 0.9862671660424469]"
      ]
     },
     "execution_count": 49,
     "metadata": {},
     "output_type": "execute_result"
    }
   ],
   "source": [
    "accuracy_scores_man"
   ]
  },
  {
   "cell_type": "code",
   "execution_count": 51,
   "id": "43981880-5912-4f1c-ad54-cd98dfb1f603",
   "metadata": {},
   "outputs": [
    {
     "data": {
      "image/png": "[encoded data removed]",
      "text/plain": [
       "<Figure size 640x480 with 1 Axes>"
      ]
     },
     "metadata": {},
     "output_type": "display_data"
    },
    {
     "data": {
      "image/png": "[encoded data removed]",
      "text/plain": [
       "<Figure size 640x480 with 1 Axes>"
      ]
     },
     "metadata": {},
     "output_type": "display_data"
    },
    {
     "data": {
      "image/png": "[encoded data removed]",
      "text/plain": [
       "<Figure size 640x480 with 1 Axes>"
      ]
     },
     "metadata": {},
     "output_type": "display_data"
    }
   ],
   "source": [
    "plt.plot(neighbors, accuracy_scores_euc)\n",
    "plt.title(\"Evolution of the accuracy score as a function of the number of neighbors (dist = euclidean)\")\n",
    "plt.show()\n",
    "\n",
    "plt.plot(neighbors, precision_scores_euc)\n",
    "plt.title(\"Evolution of the precision score as a function of the number of neighbors (dist = euclidean)\")\n",
    "\n",
    "plt.show()\n",
    "\n",
    "plt.plot(neighbors, recall_scores_euc)\n",
    "plt.title(\"Evolution of the recall score as a function of the number of neighbors (dist = euclidean)\")\n",
    "\n",
    "plt.show()"
   ]
  },
  {
   "cell_type": "markdown",
   "id": "5bf0cedd",
   "metadata": {},
   "source": [
    "## Splitting into train and test\n",
    "It is impossible to conclude regarding the efficiency of a classification algorithms without at least splitting into **train and test**!\n",
    "\n",
    "We will use the utilities provided by `sklearn`: https://scikit-learn.org/stable/modules/cross_validation.html."
   ]
  },
  {
   "cell_type": "code",
   "execution_count": 52,
   "id": "5e5d6bd7",
   "metadata": {},
   "outputs": [],
   "source": [
    "from sklearn.model_selection import train_test_split"
   ]
  },
  {
   "cell_type": "code",
   "execution_count": 53,
   "id": "f62e9c7a",
   "metadata": {},
   "outputs": [],
   "source": [
    "# Split intro 4 datasets: X_train, y_train, X_test, y_test, with a 70% / 30%\n",
    "X_train, X_test, y_train, y_test = train_test_split(X, y, test_size=0.3)"
   ]
  },
  {
   "cell_type": "markdown",
   "id": "5b058881",
   "metadata": {},
   "source": [
    "**Exercice**: \n",
    "- Compute the accuracy, recall, precision on the train and test datasets and compare.\n",
    "- Vary the values of $k$ and of the distance and select the best combination.\n",
    "- Conclude regarding the performance of KNN on your dataset by running it on the whole dataset once a gain.\n",
    "- *Bonus*: perform the same exercice, but this time using **stratified splits** (`stratify` argument set to the `y` values). What is the point of using `stratified` splits ? Does this make sense to solve your own problem ?\n",
    "\n",
    "**Question**: what are the limits of train/test split ?"
   ]
  },
  {
   "cell_type": "code",
   "execution_count": 54,
   "id": "6a269223-3fc6-4517-aa4a-308ab28caec8",
   "metadata": {},
   "outputs": [
    {
     "name": "stdout",
     "output_type": "stream",
     "text": [
      "k=1\n",
      "Accuracy: 0.9875518672199171\n",
      "k=2\n",
      "Accuracy: 0.975103734439834\n",
      "k=3\n",
      "Accuracy: 0.975103734439834\n",
      "k=4\n",
      "Accuracy: 0.975103734439834\n",
      "k=5\n",
      "Accuracy: 0.975103734439834\n",
      "k=6\n",
      "Accuracy: 0.979253112033195\n",
      "k=7\n",
      "Accuracy: 0.983402489626556\n",
      "k=8\n",
      "Accuracy: 0.975103734439834\n",
      "k=9\n",
      "Accuracy: 0.975103734439834\n"
     ]
    }
   ],
   "source": [
    "from sklearn.model_selection import train_test_split\n",
    "\n",
    "X_train, X_test, y_train, y_test = train_test_split(X, y, test_size=0.3, stratify=y)\n",
    "\n",
    "split_accuracy = []\n",
    "split_precision = []\n",
    "for i in range(1, 10, 1):\n",
    "    knn = KNeighborsClassifier(n_neighbors=i, p=2)\n",
    "    knn.fit(X_train, y_train)\n",
    "    print(f\"k={i}\")\n",
    "    prediction = knn.predict(X_test)\n",
    "    print(f\"Accuracy: {accuracy_score(y_test, prediction)}\")\n",
    "    split_accuracy.append(accuracy_score(y_test, prediction))\n",
    "    split_precision.append(precision_score(y_test, prediction))"
   ]
  },
  {
   "cell_type": "code",
   "execution_count": 55,
   "id": "afb662e9-7634-4135-a160-daa44134b38f",
   "metadata": {},
   "outputs": [
    {
     "data": {
      "text/plain": [
       "<matplotlib.legend.Legend at 0x2bff04690>"
      ]
     },
     "execution_count": 55,
     "metadata": {},
     "output_type": "execute_result"
    },
    {
     "data": {
      "image/png": "[encoded data removed]",
      "text/plain": [
       "<Figure size 640x480 with 1 Axes>"
      ]
     },
     "metadata": {},
     "output_type": "display_data"
    }
   ],
   "source": [
    "plt.plot(split_accuracy, label=\"Accuracy\")\n",
    "plt.plot(split_precision, label=\"Precision\")\n",
    "plt.legend()"
   ]
  },
  {
   "cell_type": "markdown",
   "id": "f0407e38-1f2e-4762-97b5-64a3cd805642",
   "metadata": {},
   "source": [
    "Le jeu de données étant très déséquilibré, la précision est le score le plus approprié, nous pouvons donc choisir **k=6** comme meilleur hyperparamètre."
   ]
  },
  {
   "cell_type": "markdown",
   "id": "9c3ad4b1",
   "metadata": {},
   "source": [
    "## Cross validation\n",
    "To overcome the limits of a simple train/test split, cross-validation is a solution. We will use *k-fold* cross validation, using the function `cross_val_score` on the `DummyClassifier`, and compute the accuracy."
   ]
  },
  {
   "cell_type": "code",
   "execution_count": 59,
   "id": "451a53b2",
   "metadata": {},
   "outputs": [],
   "source": [
    "from sklearn.model_selection import cross_val_score"
   ]
  },
  {
   "cell_type": "code",
   "execution_count": 60,
   "id": "24ad3f17",
   "metadata": {},
   "outputs": [
    {
     "name": "stderr",
     "output_type": "stream",
     "text": [
      "/Users/sophrobhayek/Documents/dev/miashs_introduction_ml/venv/lib/python3.11/site-packages/sklearn/metrics/_classification.py:1509: UndefinedMetricWarning: Precision is ill-defined and being set to 0.0 due to no predicted samples. Use `zero_division` parameter to control this behavior.\n",
      "  _warn_prf(average, modifier, f\"{metric.capitalize()} is\", len(result))\n",
      "/Users/sophrobhayek/Documents/dev/miashs_introduction_ml/venv/lib/python3.11/site-packages/sklearn/metrics/_classification.py:1509: UndefinedMetricWarning: Precision is ill-defined and being set to 0.0 due to no predicted samples. Use `zero_division` parameter to control this behavior.\n",
      "  _warn_prf(average, modifier, f\"{metric.capitalize()} is\", len(result))\n",
      "/Users/sophrobhayek/Documents/dev/miashs_introduction_ml/venv/lib/python3.11/site-packages/sklearn/metrics/_classification.py:1509: UndefinedMetricWarning: Precision is ill-defined and being set to 0.0 due to no predicted samples. Use `zero_division` parameter to control this behavior.\n",
      "  _warn_prf(average, modifier, f\"{metric.capitalize()} is\", len(result))\n",
      "/Users/sophrobhayek/Documents/dev/miashs_introduction_ml/venv/lib/python3.11/site-packages/sklearn/metrics/_classification.py:1509: UndefinedMetricWarning: Precision is ill-defined and being set to 0.0 due to no predicted samples. Use `zero_division` parameter to control this behavior.\n",
      "  _warn_prf(average, modifier, f\"{metric.capitalize()} is\", len(result))\n",
      "/Users/sophrobhayek/Documents/dev/miashs_introduction_ml/venv/lib/python3.11/site-packages/sklearn/metrics/_classification.py:1509: UndefinedMetricWarning: Precision is ill-defined and being set to 0.0 due to no predicted samples. Use `zero_division` parameter to control this behavior.\n",
      "  _warn_prf(average, modifier, f\"{metric.capitalize()} is\", len(result))\n"
     ]
    }
   ],
   "source": [
    "cross_val_accuracy = cross_val_score(estimator=dummy_classifier, X=X, y=y, scoring=\"accuracy\")\n",
    "cross_val_precision = cross_val_score(estimator=dummy_classifier, X=X, y=y, scoring=\"precision\")"
   ]
  },
  {
   "cell_type": "code",
   "execution_count": 61,
   "id": "c4ea8418",
   "metadata": {},
   "outputs": [
    {
     "name": "stdout",
     "output_type": "stream",
     "text": [
      "========================================\n",
      "=== Average accuracy: 0.912608695652174\n",
      "=== Median accuracy: 0.9125\n",
      "========================================\n",
      "========================================\n",
      "=== Average precision: 0.0\n",
      "=== Median precision: 0.0\n",
      "========================================\n"
     ]
    }
   ],
   "source": [
    "print(\"========================================\")\n",
    "print(f\"=== Average accuracy: {np.mean(cross_val_accuracy)}\")\n",
    "print(f\"=== Median accuracy: {np.median(cross_val_accuracy)}\")\n",
    "print(\"========================================\")\n",
    "print(\"========================================\")\n",
    "\n",
    "print(f\"=== Average precision: {np.mean(cross_val_precision)}\")\n",
    "print(f\"=== Median precision: {np.median(cross_val_precision)}\")\n",
    "print(\"========================================\")\n"
   ]
  },
  {
   "cell_type": "markdown",
   "id": "77a0e14f",
   "metadata": {},
   "source": [
    "**Exercice**:\n",
    "- Perform $k$ fold validation on the K-Neighbors Classifier\n",
    "- Compute the mean accuracy, precision and recall on your $k-fold$ and plot it as a function of $k$ and of the distance.\n",
    "- Select the new best value of $k$ and of the distance.\n",
    "- Train your final model.\n",
    "- *Bonus+*: perform stratified k-fold validation. "
   ]
  },
  {
   "cell_type": "code",
   "execution_count": 69,
   "id": "9872c32c-cafa-4f9f-ad38-1d1faf4533ea",
   "metadata": {},
   "outputs": [
    {
     "name": "stdout",
     "output_type": "stream",
     "text": [
      "======== Score on fold\n",
      "Average error on fold: 0.06943530120508577\n",
      "Standard error on fold: 0.06943530120508577\n",
      "======== Score on fold\n",
      "Average error on fold: 0.07226890756302523\n",
      "Standard error on fold: 0.07226890756302523\n",
      "======== Score on fold\n",
      "Average error on fold: 0.07238251336003564\n",
      "Standard error on fold: 0.07238251336003564\n",
      "======== Score on fold\n",
      "Average error on fold: 0.06489864715921612\n",
      "Standard error on fold: 0.06489864715921612\n",
      "======== Score on fold\n",
      "Average error on fold: 0.09077406001610948\n",
      "Standard error on fold: 0.09077406001610948\n",
      "======== Score on fold\n",
      "Average error on fold: 0.07060488903853837\n",
      "Standard error on fold: 0.07060488903853837\n",
      "======== Score on fold\n",
      "Average error on fold: 0.06935081125556825\n",
      "Standard error on fold: 0.06935081125556825\n",
      "======== Score on fold\n",
      "Average error on fold: 0.05450391899727761\n",
      "Standard error on fold: 0.05450391899727761\n",
      "======== Score on fold\n",
      "Average error on fold: 0.06771957651288069\n",
      "Standard error on fold: 0.06771957651288069\n"
     ]
    }
   ],
   "source": [
    "# Pour un jeu de données \n",
    "\n",
    "cross_val_accuracies = []\n",
    "cross_val_accuracies_std = []\n",
    "for k_neighbor in range(1, 10, 1):\n",
    "    knn = KNeighborsClassifier(n_neighbors=k_neighbor)\n",
    "    print(\"======== Score on fold\")\n",
    "    cross_val_accuracy = np.mean(cross_val_score(estimator=knn, X=X, y=y, scoring=\"precision\", cv=5))\n",
    "    cross_val_accuracy_std = np.std(cross_val_score(estimator=knn, X=X, y=y, scoring=\"precision\", cv=5))\n",
    "    print(f\"Average error on fold: {cross_val_accuracy_std}\")\n",
    "    print(f\"Standard error on fold: {cross_val_accuracy_std}\")\n",
    "    cross_val_accuracies.append(cross_val_accuracy)\n",
    "    cross_val_accuracies_std.append(cross_val_accuracy_std)"
   ]
  },
  {
   "cell_type": "code",
   "execution_count": 70,
   "id": "88ebd837-d880-48f1-a58d-9e8ced125111",
   "metadata": {},
   "outputs": [
    {
     "data": {
      "text/plain": [
       "[<matplotlib.lines.Line2D at 0x2de236510>]"
      ]
     },
     "execution_count": 70,
     "metadata": {},
     "output_type": "execute_result"
    },
    {
     "data": {
      "image/png": "[encoded data removed]",
      "text/plain": [
       "<Figure size 640x480 with 1 Axes>"
      ]
     },
     "metadata": {},
     "output_type": "display_data"
    }
   ],
   "source": [
    "plt.plot(cross_val_accuracies)"
   ]
  },
  {
   "cell_type": "markdown",
   "id": "489d7ed1-b4bd-476a-bc1c-28c7a60b1296",
   "metadata": {},
   "source": [
    "On peut donc choisir **k=7**."
   ]
  },
  {
   "cell_type": "markdown",
   "id": "02cd4f56",
   "metadata": {},
   "source": [
    "## Bonus: Playing with the features\n",
    "During the data analysis phase, you had different insight regarding features (and may have dropped some). \n",
    "\n",
    "You can now test your intuition (at least using KNN):\n",
    "\n",
    "For different distances and different values of $k$,\n",
    "- Start with 0 feature and find the 1 with the best score (**using the score you have chosen**)\n",
    "- Iteratively add the feature that maximizes the score.\n",
    "- Stop when the score does not improve / decreases and keep the set of feature.\n",
    "\n",
    "\n",
    "\n",
    "*Bonus+*: run it again with different scores and conclude.\n",
    "\n",
    "> *If you want to go further than we probably will in class, see: https://scikit-learn.org/stable/modules/feature_selection.html*"
   ]
  },
  {
   "cell_type": "markdown",
   "id": "cd5d9e2d",
   "metadata": {},
   "source": [
    "## Conclusion\n",
    "You can already work on your project, by cleaning up the results you obtained and redacting your experiments. **Even failed experiments (i.e. you are not happy with the score you have with this method) are interesting experiments and will show your expertise !**\n",
    "\n",
    "Ask yourselves the following questions:\n",
    "- Am I happy with the current encoding of my variables ?\n",
    "- Am I happy with the score I selected and I want to maximize ?\n",
    "- Do I understand well what we did today and why we did it ?\n",
    "- What are the limits of the approach you took today with KNN (in terms of distance, hyperparameters...) ? Do you think this is a good approach for your dataset ?"
   ]
  }
 ],
 "metadata": {
  "kernelspec": {
   "display_name": "Python 3 (ipykernel)",
   "language": "python",
   "name": "python3"
  },
  "language_info": {
   "codemirror_mode": {
    "name": "ipython",
    "version": 3
   },
   "file_extension": ".py",
   "mimetype": "text/x-python",
   "name": "python",
   "nbconvert_exporter": "python",
   "pygments_lexer": "ipython3",
   "version": "3.11.0"
  }
 },
 "nbformat": 4,
 "nbformat_minor": 5
}
