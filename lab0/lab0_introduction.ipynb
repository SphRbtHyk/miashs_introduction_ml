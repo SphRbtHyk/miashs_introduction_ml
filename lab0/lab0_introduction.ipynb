{
 "cells": [
  {
   "cell_type": "markdown",
   "id": "cd793590",
   "metadata": {},
   "source": [
    "# Overview of the basics of programming in Python\n",
    "This is a very quick introduction to Python, enough to move on with data manipulation and Machine Learning.\n",
    "\n",
    "To go further than that, I highly recommend you go through the Python [tutorial](https://docs.python.org/3/tutorial).\n",
    "\n",
    "**Pre-requisite**:\n",
    "- A working installation of Python>=3.8\n",
    "- A working installation of the corresponding version of pip\n",
    "\n",
    "> Note that throughout this tutorial you need to use the correct Python executable on your system"
   ]
  },
  {
   "cell_type": "markdown",
   "id": "7f33dc57",
   "metadata": {},
   "source": [
    "## Creating a virtual environment and running jupyter notebook\n",
    "\n",
    "All of the labs in this course will be done using Python and [Jupyter](https://jupyter.org/), a Web-based interactive development environment.\n",
    "\n",
    "\n",
    "To install Jupyter notebook, follow the following steps in your terminal:\n",
    "\n",
    "0. Go to the folder where you downloaded the prog_basics folder.\n",
    "\n",
    "\n",
    "1. Create a virtual environment (a self-contained directory tree that contains a Python installation for a particular version of Python, plus a number of additional packages.)\n",
    "\n",
    ">```python -m venv venv```\n",
    "\n",
    "2. Activate virtual environment\n",
    ">```source venv/bin/activate```\n",
    "or\n",
    ">```./venv/Scripts/activate```\n",
    "\n",
    "3. Install Jupyter\n",
    "> ```pip install jupyter```\n",
    "\n",
    "4. Launch the jupyter notebook for today\n",
    "> ```jupyter notebook prog_basics.ipynb```"
   ]
  },
  {
   "cell_type": "markdown",
   "id": "26aa4fdc",
   "metadata": {},
   "source": [
    "### Practice: installing your own package\n",
    "Install the **numpy** package in your environment and check that the import work by running:"
   ]
  },
  {
   "cell_type": "code",
   "execution_count": null,
   "id": "2626e202",
   "metadata": {},
   "outputs": [],
   "source": [
    "import numpy as np"
   ]
  },
  {
   "cell_type": "markdown",
   "id": "933c1807",
   "metadata": {},
   "source": [
    "### Practice: play around with jupyter and the shortcuts\n",
    "- Create a new cell\n",
    "- Remove cell\n",
    "- Run cell"
   ]
  },
  {
   "cell_type": "markdown",
   "id": "d50e3031",
   "metadata": {},
   "source": [
    "## Python Syntax - Indentation\n",
    "\n",
    "Indentation is very important in Python, it impacts the meaning of your instructions.\n",
    "For example, the first instruction is correct whereas the second will throw a syntax error: \n"
   ]
  },
  {
   "cell_type": "code",
   "execution_count": null,
   "id": "24f5e82c",
   "metadata": {},
   "outputs": [],
   "source": [
    "if 5 > 2:\n",
    "  print(\"Five is greater than two!\")"
   ]
  },
  {
   "cell_type": "code",
   "execution_count": null,
   "id": "902a6a0b",
   "metadata": {},
   "outputs": [],
   "source": [
    "if 5 > 2:\n",
    "print(\"Five is greater than two!\")"
   ]
  },
  {
   "cell_type": "markdown",
   "id": "9a163a9a",
   "metadata": {},
   "source": [
    "## Pyhton syntax - Comments\n",
    "You may need to explain things in between your lines of codes, for this you can use comments.\n"
   ]
  },
  {
   "cell_type": "code",
   "execution_count": null,
   "id": "f8a530c3",
   "metadata": {},
   "outputs": [],
   "source": [
    "\n",
    "#This is a comment.\n",
    "print(\"Hello, World!\")\n",
    "\n",
    "print(\"Hello, World!\") #This is a comment.\n",
    "\n",
    "\"\"\"this\n",
    "is a \n",
    "multi lines\n",
    "comment\n",
    "\"\"\"\n",
    "print(\"Hello, World!\")"
   ]
  },
  {
   "cell_type": "markdown",
   "id": "1ff6ad8b",
   "metadata": {},
   "source": [
    "## Variables\n",
    "Variables are used to store data values. In Python you simply use the \"=\" sign.\n",
    "\n",
    "A variable can have a short name (like x and y) or a more descriptive name (age, firstname, total_volume). Rules for Python variables:\n",
    "\n",
    "- A variable name must start **with a letter or the underscore character**\n",
    "- A variable name cannot **start with a number**\n",
    "- A variable name can only contain **alpha-numeric characters and underscores** (A-z, 0-9, and _ )\n",
    "- A variable name is **case-sensitive** (age, Age and AGE are three different variables)\n",
    "- A variable name **cannot be any of the Python keywords**.\n"
   ]
  },
  {
   "cell_type": "code",
   "execution_count": null,
   "id": "f31c4705",
   "metadata": {},
   "outputs": [],
   "source": [
    "x = 5\n",
    "y = \"Jane\"\n",
    "print(x)\n",
    "print(y)"
   ]
  },
  {
   "cell_type": "markdown",
   "id": "953c7860",
   "metadata": {},
   "source": [
    "\n",
    "In this case, \n",
    "- \"x\" will be recognized as an integer (int)\n",
    "- \"y\" will be recognized as a string (str).\n",
    "\n",
    "There are several kinds of types in Python."
   ]
  },
  {
   "cell_type": "markdown",
   "id": "e3d92dfb",
   "metadata": {},
   "source": [
    "## Data types in Python\n",
    "\n",
    "Python comes with the following built-in types:\n",
    "\n",
    "- Text Type:\t`str`\n",
    "\n",
    "- Numeric Types:\t`int, float, complex`\n",
    "\n",
    "- Sequence Types:\t`list, tuple, range`\n",
    "\n",
    "- Mapping Type:\t`dict`\n",
    "\n",
    "- Set Types:\t`set, frozenset`\n",
    "\n",
    "- Boolean Type:\t`bool`\n",
    "\n",
    "- Binary Types:\t`bytes, bytearray, memoryview`\n",
    "\n",
    "- None Type:\t`NoneType`\n",
    "\n",
    "To access the type of an object, call the `type` function on this object."
   ]
  },
  {
   "cell_type": "code",
   "execution_count": null,
   "id": "539bdb53",
   "metadata": {},
   "outputs": [],
   "source": [
    "my_string = \"string\"\n",
    "print(type(my_string))\n",
    "\n",
    "my_int = 5\n",
    "print(type(my_int))"
   ]
  },
  {
   "cell_type": "markdown",
   "id": "8fb9b27b",
   "metadata": {},
   "source": [
    "## Operators\n",
    "\n",
    "Operators are used to perform operations on variables and values.\n",
    "\n",
    "**Arithmetic operators**: +, -, *, /, %, **, //\n",
    "\n",
    "**Assignment operators**: =, +=, -=, *=, etc...\n",
    "\n",
    "**Comparison operators**: ==, !=, >, <, >=, <=\n",
    "\n",
    "\n",
    "**Logical operators**:\n",
    "- and : returns true if both statements are true (ex: x < 5 and  x < 10)\n",
    "- or : returns True if one of the statements is true (ex: x < 5 or x < 4)\n",
    "- not : Reverse the result, returns False if the result is true (ex: not(x < 5 and x < 10))"
   ]
  },
  {
   "cell_type": "code",
   "execution_count": null,
   "id": "69bf80d0",
   "metadata": {},
   "outputs": [],
   "source": [
    "print (3 + 5)"
   ]
  },
  {
   "cell_type": "code",
   "execution_count": null,
   "id": "22e2532c",
   "metadata": {},
   "outputs": [],
   "source": [
    "x = 4\n",
    "print(x)\n",
    "x += 3\n",
    "print(x)"
   ]
  },
  {
   "cell_type": "code",
   "execution_count": null,
   "id": "111b5d1c",
   "metadata": {},
   "outputs": [],
   "source": [
    "if x == 7:\n",
    "  print(\"you win!\")\n",
    "if x != 7:\n",
    "  print(\"you loose!\")"
   ]
  },
  {
   "cell_type": "markdown",
   "id": "7dd9a917",
   "metadata": {},
   "source": [
    "## if / else\n",
    "You can use this statement to test a condition and execute an instruction depending on the result"
   ]
  },
  {
   "cell_type": "code",
   "execution_count": null,
   "id": "1d97ba64",
   "metadata": {},
   "outputs": [],
   "source": [
    "a = 33\n",
    "b = 200\n",
    "if b > a:\n",
    "  print(\"b is greater than a\")\n",
    "elif a == b:\n",
    "  print(\"a and b are equal\")\n",
    "else:\n",
    "  print(\"a is greater than b\")\n"
   ]
  },
  {
   "cell_type": "markdown",
   "id": "1f37ee82",
   "metadata": {},
   "source": [
    "### Exercise:\n",
    "- print \"bazinga !\" if a and b are positive numbers but also less than 500\n",
    "- print \"too bad !\" if not\n",
    "- play with the values of a and b to change the outcome of your code"
   ]
  },
  {
   "cell_type": "markdown",
   "id": "87efad6a",
   "metadata": {},
   "source": [
    "## loops\n",
    "\n",
    "### While loops\n",
    "\n",
    "With the while loop we can execute a set of statements as long as a condition is true.\n",
    "\n"
   ]
  },
  {
   "cell_type": "code",
   "execution_count": null,
   "id": "ff1e6bd6",
   "metadata": {},
   "outputs": [],
   "source": [
    "i = 1\n",
    "while i < 6:\n",
    "  print(i)\n",
    "  i += 1"
   ]
  },
  {
   "cell_type": "markdown",
   "id": "17ae8728",
   "metadata": {},
   "source": [
    "With the break statement we can stop the loop even if the while condition is true:"
   ]
  },
  {
   "cell_type": "code",
   "execution_count": null,
   "id": "9e3d5fbc",
   "metadata": {},
   "outputs": [],
   "source": [
    "i = 1\n",
    "while i < 6:\n",
    "  print(i)\n",
    "  if i == 3:\n",
    "    break\n",
    "  i += 1"
   ]
  },
  {
   "cell_type": "markdown",
   "id": "13d01bee",
   "metadata": {},
   "source": [
    "### Exercise:\n",
    "print the numbers between 20 and 5 in the descending order"
   ]
  },
  {
   "cell_type": "code",
   "execution_count": null,
   "id": "05c7a1c2",
   "metadata": {},
   "outputs": [],
   "source": []
  },
  {
   "cell_type": "markdown",
   "id": "0d875f21",
   "metadata": {},
   "source": [
    "### For loops\n",
    "A for loop is used for iterating over a sequence (that is either a list, a tuple, a dictionary, a set, or a string).\n",
    "With the for loop we can execute a set of statements, once for each item in a list, tuple, set etc."
   ]
  },
  {
   "cell_type": "code",
   "execution_count": null,
   "id": "2098c4db",
   "metadata": {},
   "outputs": [],
   "source": [
    "fruits = [\"apple\", \"banana\", \"cherry\"]\n",
    "for x in fruits:\n",
    "  print(x)\n",
    "\n",
    "for x in \"banana\":\n",
    "  print(x)"
   ]
  },
  {
   "cell_type": "markdown",
   "id": "69c3b2bf",
   "metadata": {},
   "source": [
    "With the break statement we can stop the loop before it has looped through all the items"
   ]
  },
  {
   "cell_type": "code",
   "execution_count": null,
   "id": "0eb9ab6f",
   "metadata": {},
   "outputs": [],
   "source": [
    "fruits = [\"apple\", \"banana\", \"cherry\"]\n",
    "for x in fruits:\n",
    "  print(x)\n",
    "  if x == \"banana\":\n",
    "    break"
   ]
  },
  {
   "cell_type": "markdown",
   "id": "458177c3",
   "metadata": {},
   "source": [
    "Using the range() function"
   ]
  },
  {
   "cell_type": "code",
   "execution_count": null,
   "id": "7af5cfe1",
   "metadata": {},
   "outputs": [],
   "source": [
    "for x in range(6):\n",
    "  print(x)"
   ]
  },
  {
   "cell_type": "markdown",
   "id": "fd5e14db",
   "metadata": {},
   "source": [
    "## Creating functions\n",
    "Learn more about functions in Python [here](https://docs.python.org/3/tutorial/controlflow.html#defining-functions).\n",
    "\n",
    "In Python a function is defined using the `def` keyword. "
   ]
  },
  {
   "cell_type": "code",
   "execution_count": null,
   "id": "39700e42",
   "metadata": {},
   "outputs": [],
   "source": [
    "def print_hello_world():\n",
    "    print(\"Hello world !\")"
   ]
  },
  {
   "cell_type": "markdown",
   "id": "bc3b50b8",
   "metadata": {},
   "source": [
    "To call a function, use the function name followed by parenthesis."
   ]
  },
  {
   "cell_type": "code",
   "execution_count": null,
   "id": "0116947f",
   "metadata": {},
   "outputs": [],
   "source": [
    "print_hello_world()"
   ]
  },
  {
   "cell_type": "markdown",
   "id": "5611733c",
   "metadata": {},
   "source": [
    "The return of a function is specified using the `return` keyword."
   ]
  },
  {
   "cell_type": "code",
   "execution_count": null,
   "id": "e7a07804",
   "metadata": {},
   "outputs": [],
   "source": [
    "def return_hello_world():\n",
    "    return \"hello world !\"\n",
    "\n",
    "hello_world = return_hello_world()\n",
    "print(hello_world)"
   ]
  },
  {
   "cell_type": "markdown",
   "id": "4c8c508c",
   "metadata": {},
   "source": [
    "Arguments are specified after the function name, inside the parentheses. You can add as many arguments as you want, just separate them with a comma."
   ]
  },
  {
   "cell_type": "code",
   "execution_count": null,
   "id": "9964099b",
   "metadata": {},
   "outputs": [],
   "source": [
    "def how_many_fingers(nb_of_hands: int):\n",
    "    return f\"you have {nb_of_hands * 5} fingers in total\"\n",
    "\n",
    "print(how_many_fingers(nb_of_hands=2))"
   ]
  },
  {
   "cell_type": "markdown",
   "id": "6d7837ac",
   "metadata": {},
   "source": [
    "### Exercise:\n",
    "\n",
    "1. Create a function that takes 2 integers and return a string that says which one is greater than the other or if they are equal\n",
    "\n",
    "\n",
    "2. Create a function the multiplies by a given integer of a given input float.\n",
    "\n",
    "\n",
    "3. Create a function that returns the sum of two floats.\n"
   ]
  },
  {
   "cell_type": "code",
   "execution_count": null,
   "id": "0f5e7860",
   "metadata": {},
   "outputs": [],
   "source": [
    "# Create a function that takes 2 integers and return a string that says which one is greater than the other or if they are equal\n",
    "\n",
    "def which_is_greater(x: int, y:int) -> str:\n",
    "    \"\"\"Functions that returns True if x is greater than y, otherwise False.\n",
    "    \"\"\"\n"
   ]
  },
  {
   "cell_type": "code",
   "execution_count": null,
   "id": "424ede33",
   "metadata": {},
   "outputs": [],
   "source": [
    "# Create the double function.\n",
    "\n",
    "def multiply_by_ratio(x: float, ratio: int) -> float:\n",
    "    \"\"\"Function that returns the x input and multiplied by the ratio int.\n",
    "    \"\"\"\n"
   ]
  },
  {
   "cell_type": "code",
   "execution_count": null,
   "id": "10243279",
   "metadata": {},
   "outputs": [],
   "source": [
    "# Create a function that returns the sum of two floats.\n",
    "\n",
    "def sum_floats(a: float, b: float) -> float:\n",
    "    \"\"\"Function that returns the sum of two floats a and b.\n",
    "    \"\"\""
   ]
  },
  {
   "cell_type": "markdown",
   "id": "c2495a68",
   "metadata": {},
   "source": [
    "## Basic data structures\n",
    "Learn more about data structures [here](https://docs.python.org/3/tutorial/datastructures.html#)."
   ]
  },
  {
   "cell_type": "markdown",
   "id": "b9a3e3fd",
   "metadata": {},
   "source": [
    "### Lists: A built-in Python sequence\n",
    "Lists are used to store multiple items in a single variable.\n",
    "\n",
    "List items are ordered, changeable, and allow duplicate values.\n",
    "\n",
    "List items are indexed, the first item has index [0], the second item has index [1] etc (different from R where indexing starts at 0!)"
   ]
  },
  {
   "cell_type": "code",
   "execution_count": null,
   "id": "5389383a",
   "metadata": {},
   "outputs": [],
   "source": [
    "my_list = [\"test\", 1, \"titi\"]\n",
    "\n",
    "print(my_list[0])\n",
    "print(my_list[2])"
   ]
  },
  {
   "cell_type": "markdown",
   "id": "a0bb6e46",
   "metadata": {},
   "source": [
    "\n",
    "Negative indexing means start from the end\n",
    "-1 refers to the last item, -2 refers to the second last item etc."
   ]
  },
  {
   "cell_type": "code",
   "execution_count": null,
   "id": "dc82137a",
   "metadata": {},
   "outputs": [],
   "source": [
    "my_list = [\"pears\", \"apples\", \"bananas\"]\n",
    "\n",
    "print(my_list[-1])\n",
    "print(my_list[-2])"
   ]
  },
  {
   "cell_type": "markdown",
   "id": "2490c860",
   "metadata": {},
   "source": [
    "\n",
    "Range of Indexes\n",
    "\n",
    "You can specify a range of indexes by specifying where to start and where to end the range.\n",
    "When specifying a range, the return value will be a new list with the specified items."
   ]
  },
  {
   "cell_type": "code",
   "execution_count": null,
   "id": "a361d77b",
   "metadata": {},
   "outputs": [],
   "source": [
    "\n",
    "my_list = [\"apple\", \"banana\", \"cherry\", \"orange\", \"kiwi\", \"melon\", \"mango\"]\n",
    "\n",
    "print(my_list[2:5])\n",
    "print(my_list[:4])\n",
    "print(my_list[2:])"
   ]
  },
  {
   "cell_type": "markdown",
   "id": "8e216d72",
   "metadata": {},
   "source": [
    "\n",
    "Check if an item exists in the list: "
   ]
  },
  {
   "cell_type": "code",
   "execution_count": null,
   "id": "bbad83c1",
   "metadata": {},
   "outputs": [],
   "source": [
    "\n",
    "my_list = [\"apple\", \"banana\", \"cherry\"]\n",
    "if \"apple\" in my_list:\n",
    "  print(\"Yes, 'apple' is in the fruits list\")"
   ]
  },
  {
   "cell_type": "markdown",
   "id": "98f5a9c4",
   "metadata": {},
   "source": [
    "\n",
    "Find the length of a list"
   ]
  },
  {
   "cell_type": "code",
   "execution_count": null,
   "id": "4ab6c14b",
   "metadata": {},
   "outputs": [],
   "source": [
    "print(len(my_list))"
   ]
  },
  {
   "cell_type": "markdown",
   "id": "891906d6",
   "metadata": {},
   "source": [
    "\n",
    "Change an item value:"
   ]
  },
  {
   "cell_type": "code",
   "execution_count": null,
   "id": "284dfb3c",
   "metadata": {},
   "outputs": [],
   "source": [
    "\n",
    "my_list = [\"apple\", \"banana\", \"cherry\"]\n",
    "my_list[1] = \"blackcurrant\"\n",
    "print(my_list)"
   ]
  },
  {
   "cell_type": "markdown",
   "id": "eea39281",
   "metadata": {},
   "source": [
    "\n",
    "Insert items:"
   ]
  },
  {
   "cell_type": "code",
   "execution_count": null,
   "id": "ed9e3b2b",
   "metadata": {},
   "outputs": [],
   "source": [
    "\n",
    "my_list = [\"apple\", \"banana\", \"cherry\"]\n",
    "my_list.insert(2, \"watermelon\")\n",
    "print(my_list)"
   ]
  },
  {
   "cell_type": "markdown",
   "id": "cdd535db",
   "metadata": {},
   "source": [
    "\n",
    "Append items:"
   ]
  },
  {
   "cell_type": "code",
   "execution_count": null,
   "id": "3e2e396a",
   "metadata": {},
   "outputs": [],
   "source": [
    "\n",
    "\n",
    "my_list = [\"apple\", \"banana\", \"cherry\"]\n",
    "my_list.append(\"orange\")\n",
    "print(my_list)"
   ]
  },
  {
   "cell_type": "markdown",
   "id": "c0cb7aec",
   "metadata": {},
   "source": [
    "Remove items:"
   ]
  },
  {
   "cell_type": "code",
   "execution_count": null,
   "id": "46fd5190",
   "metadata": {},
   "outputs": [],
   "source": [
    "\n",
    "my_list = [\"apple\", \"banana\", \"cherry\"]\n",
    "my_list.remove(\"banana\")\n",
    "print(my_list)\n",
    "my_list = [\"apple\", \"banana\", \"cherry\"]\n",
    "my_list.pop(2)\n",
    "print(my_list)"
   ]
  },
  {
   "cell_type": "markdown",
   "id": "ba694b04",
   "metadata": {},
   "source": [
    "\n",
    "Loop through a list:"
   ]
  },
  {
   "cell_type": "code",
   "execution_count": null,
   "id": "26d4a1c6",
   "metadata": {},
   "outputs": [],
   "source": [
    "my_list = [\"apple\", \"banana\", \"cherry\", \"mango\", \"lemon\", \"orange\"]\n",
    "for x in my_list:\n",
    "  print(x)\n",
    "print(\"--------\")\n",
    "for i in range(1,4):\n",
    "  print(my_list[i])"
   ]
  },
  {
   "cell_type": "markdown",
   "id": "89cd8af8",
   "metadata": {},
   "source": [
    "#### Exercise\n",
    "Read the first paragraph on list of [data structures](https://docs.python.org/3/tutorial/datastructures.html#), and:\n",
    "\n",
    "1. Create a function that returns the multiplication of each value in a list by a given number.\n",
    "**Bonus**: *Use the previous function multiply_by_ratio that you created earlier.*\n",
    "2. Create a function that removes the first and last element of a list."
   ]
  },
  {
   "cell_type": "code",
   "execution_count": null,
   "id": "53bd3d1b",
   "metadata": {},
   "outputs": [],
   "source": [
    "from typing import List\n",
    "\n",
    "def list_multiply(input_list: List[float], ratio: int):\n",
    "    \"\"\"\n",
    "    Gets as input a list of numerical values and outputs the list of its items multiplied by the ratio.\n",
    "    \n",
    "    Example:\n",
    "    list_multiply([1, 3, 4], 2) outputs [2, 6, 8]\n",
    "    \"\"\"\n"
   ]
  },
  {
   "cell_type": "code",
   "execution_count": null,
   "id": "2f771990",
   "metadata": {},
   "outputs": [],
   "source": [
    "def crop_list(input_list):\n",
    "    \"\"\"Gets as input a list of values and outputs the list without the first and last elements.\n",
    "    \n",
    "    Example:\n",
    "    crop_list([1, \"hello\", 3, 4, \"world\"]) outputs [\"hello\", 3, 4])\n",
    "    \"\"\"\n",
    "    "
   ]
  },
  {
   "cell_type": "markdown",
   "id": "c8c116d1",
   "metadata": {},
   "source": [
    "### Dictionaries\n",
    "\n",
    "Dictionaries are used to store data values in key:value pairs.\n",
    "\n",
    "A dictionary is a collection which is ordered, changeable and do not allow duplicates.\n",
    "\n",
    "Dictionaries are written with curly brackets, and have keys and values."
   ]
  },
  {
   "cell_type": "code",
   "execution_count": null,
   "id": "d709a23e",
   "metadata": {},
   "outputs": [],
   "source": [
    "my_dict = {\n",
    "    \"apple\": 1, # apple is the key, 1 is the value\n",
    "    \"banana\": 3,\n",
    "    \"pear\": 4\n",
    "}\n",
    "\n",
    "# Get a specific value\n",
    "print(\"I have\", my_dict[\"pear\"], \"pears\")\n",
    "\n",
    "# Assign new value\n",
    "my_dict[\"peach\"] = 7\n",
    "\n",
    "print(my_dict)\n",
    "\n",
    "# Change existing value\n",
    "my_dict[\"banana\"] = 5\n",
    "\n",
    "print(my_dict)\n",
    "\n",
    "# Loop a dictionary\n",
    "for x in my_dict:\n",
    "  print(x)\n",
    "\n",
    "for x, y in my_dict.items():\n",
    "  print(x, y)"
   ]
  },
  {
   "cell_type": "markdown",
   "id": "e71ee79c",
   "metadata": {},
   "source": [
    "#### Practice: \n",
    "Read the paragraph concerning dictionaries [here](https://docs.python.org/3/tutorial/datastructures.html#dictionaries) and solve the following exercices:\n",
    "\n",
    "1. Create a function that adds +1 to every value in a dictionary\n",
    "2. Create a function that inverts every key of a dictionary."
   ]
  },
  {
   "cell_type": "code",
   "execution_count": null,
   "id": "7106f63e",
   "metadata": {},
   "outputs": [],
   "source": [
    "def add_one_to_dict(input_dict):\n",
    "    \"\"\"Gets as input a dict with numerical values and adds + 1 to every value.\n",
    "    \n",
    "    Example:\n",
    "    {\"banana\": 2, \"peach\": 3} outputs {\"banana\": 3, \"peach\": 4}\n",
    "    \"\"\"\n"
   ]
  },
  {
   "cell_type": "code",
   "execution_count": null,
   "id": "3b7f8fe6",
   "metadata": {},
   "outputs": [],
   "source": [
    "def invert_dict_key(input_dict):\n",
    "    \"\"\"Inverts the key of a dictionary.\n",
    "    \n",
    "    Example:\n",
    "    {\"banana\": 2, \"peach\": 3} outputs {\"ananab\": 2, \"hcaep\": 3}\n",
    "    \"\"\"\n"
   ]
  },
  {
   "cell_type": "markdown",
   "id": "b9926e35",
   "metadata": {},
   "source": [
    "### Sets"
   ]
  },
  {
   "cell_type": "markdown",
   "id": "872bb566",
   "metadata": {},
   "source": [
    "A set is an unordered collection with no duplicate elements\n",
    "\n",
    "Set objects also support mathematical operations like union, intersection, difference, and symmetric difference."
   ]
  },
  {
   "cell_type": "code",
   "execution_count": null,
   "id": "10ccd42c",
   "metadata": {},
   "outputs": [],
   "source": [
    "my_set = {\"banana\", \"banana\", \"apple\"}\n",
    "print(my_set)"
   ]
  },
  {
   "cell_type": "markdown",
   "id": "f6a9382e",
   "metadata": {},
   "source": [
    "#### Practice\n",
    "Read the paragraph regarding sets [here](https://docs.python.org/3/tutorial/datastructures.html#sets) and complete the following exercice:\n",
    "\n",
    "1. Create a function that computes the number of distinct letters within two words"
   ]
  },
  {
   "cell_type": "code",
   "execution_count": null,
   "id": "9503eef4",
   "metadata": {},
   "outputs": [],
   "source": [
    "def compute_distinct(word_1, word_2):\n",
    "    \"\"\"Compute the number of unique letters of word_1 and word_2.\n",
    "    \n",
    "    Example:\n",
    "    compute_distinct(banana, apple) = 6\n",
    "    \"\"\"\n"
   ]
  },
  {
   "cell_type": "markdown",
   "id": "e2ae1b3e",
   "metadata": {},
   "source": [
    "## Basic OOP\n",
    "Learn more about OOP with Python [here](https://docs.python.org/3/tutorial/classes.html).\n",
    "\n",
    "Classes provide a means of bundling data and functionality together. \n",
    "\n",
    "Creating a new class creates a new type of object, allowing new instances of that type to be made. \n",
    "\n",
    "Each class instance can have attributes attached to it for maintaining its state. \n",
    "\n",
    "Class instances can also have methods. A method is a programmed procedure that is defined as part of a class and is available to any object instantiated from that class. https://en.wikipedia.org/wiki/Method_(computer_programming) "
   ]
  },
  {
   "cell_type": "code",
   "execution_count": null,
   "id": "aa8cd1d6",
   "metadata": {},
   "outputs": [],
   "source": [
    "class MyExample:\n",
    "    \"\"\"\n",
    "    Example class.\n",
    "    \"\"\"\n",
    "    def __init__(self, attribute_example):\n",
    "        \"\"\"\n",
    "        Initialize an object of class MyExample.\n",
    "        \"\"\"\n",
    "        self.attribute_example = attribute_example\n",
    "        \n",
    "    def demo_method(self):\n",
    "        \"\"\"\n",
    "        Demonstration method.\n",
    "        \"\"\"\n",
    "        print(\"this is a demonstration !\")\n",
    "        \n"
   ]
  },
  {
   "cell_type": "code",
   "execution_count": null,
   "id": "95c6bfb3",
   "metadata": {},
   "outputs": [],
   "source": [
    "example_object = MyExample(attribute_example=2)\n",
    "example_object.demo_method()"
   ]
  },
  {
   "cell_type": "markdown",
   "id": "1efc424b",
   "metadata": {},
   "source": [
    "### Practice\n",
    "Using the OOP tutorial [here](https://docs.python.org/3/tutorial/classes.html), write a class:\n",
    "- Called `Human` \n",
    "- With an attribute `age` and `name` \n",
    "- With a method `speak` that prints an input string.\n"
   ]
  },
  {
   "cell_type": "code",
   "execution_count": null,
   "id": "44da009f",
   "metadata": {},
   "outputs": [],
   "source": [
    "class Human:\n",
    "    \"\"\"\n",
    "    Human class, with attributes name and age and a method speak.\n",
    "    \"\"\""
   ]
  }
 ],
 "metadata": {
  "kernelspec": {
   "display_name": "Python 3 (ipykernel)",
   "language": "python",
   "name": "python3"
  },
  "language_info": {
   "codemirror_mode": {
    "name": "ipython",
    "version": 3
   },
   "file_extension": ".py",
   "mimetype": "text/x-python",
   "name": "python",
   "nbconvert_exporter": "python",
   "pygments_lexer": "ipython3",
   "version": "3.9.6"
  }
 },
 "nbformat": 4,
 "nbformat_minor": 5
}
