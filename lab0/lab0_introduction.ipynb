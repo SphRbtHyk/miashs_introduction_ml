{
 "cells": [
  {
   "cell_type": "markdown",
   "id": "cd793590",
   "metadata": {},
   "source": [
    "# Lab 0: quick introduction to Python\n",
    "This is a very quick introduction to Python, enough to move on with data manipulation and Machine Learning.\n",
    "\n",
    "To go further than that, I highly recommend you go through the Python [tutorial](https://docs.python.org/3/tutorial).\n",
    "\n",
    "**Pre-requisite**:\n",
    "- A working installation of Python>=3.8\n",
    "- A working installation of the corresponding version of pip\n",
    "\n",
    "> Note that throughout this tutorial you need to use the correct Python executable on your system"
   ]
  },
  {
   "cell_type": "markdown",
   "id": "7f33dc57",
   "metadata": {},
   "source": [
    "## Creating a virtual environment and running jupyter notebook\n",
    "\n",
    "All of the labs in this course will be done using Python and [Jupyter](https://jupyter.org/), a Web-based interactive development environment.\n",
    "\n",
    "\n",
    "To install Jupyter notebook, follow the following steps in your terminal:\n",
    "\n",
    "0. Go to the folder where you pulled the code using *git*.\n",
    "\n",
    "\n",
    "1. Install virtualenv to create a virtual environment (a self-contained directory tree that contains a Python installation for a particular version of Python, plus a number of additional packages.)\n",
    "\n",
    ">```python3 -m pip install virtualenv```\n",
    "\n",
    "2. Create a virtual environment.\n",
    "> ```virtualenv venv```\n",
    "\n",
    "3. Activate virtual environment\n",
    ">```source venv/bin/activate```\n",
    "\n",
    "4. Install required package for the session\n",
    "> ```pip install jupyter ipykernel```\n",
    "\n",
    "5. Create new kernel for jupyter\n",
    "> ```python -m ipykernel install --user --name math2_venv --display-name \"Introduction to IA\"```\n",
    "\n",
    "6. Launch jupyter notebook\n",
    "> ```jupyter notebook```"
   ]
  },
  {
   "cell_type": "markdown",
   "id": "26aa4fdc",
   "metadata": {},
   "source": [
    "### Exercice: installing your own package\n",
    "Install the **numpy** package in your environment and check that the import work by running:"
   ]
  },
  {
   "cell_type": "code",
   "execution_count": 4,
   "id": "2626e202",
   "metadata": {},
   "outputs": [],
   "source": [
    "import numpy"
   ]
  },
  {
   "cell_type": "markdown",
   "id": "933c1807",
   "metadata": {},
   "source": [
    "### Exercice: play around with jupyter and the shortcuts\n",
    "- Create a new cell\n",
    "- Remove cell\n",
    "- Run cell"
   ]
  },
  {
   "cell_type": "markdown",
   "id": "e3d92dfb",
   "metadata": {},
   "source": [
    "## Data types in Python\n",
    "\n",
    "Python comes with the following built-in types:\n",
    "\n",
    "- Text Type:\t`str`\n",
    "\n",
    "- Numeric Types:\t`int, float, complex`\n",
    "\n",
    "- Sequence Types:\t`list, tuple, range`\n",
    "\n",
    "- Mapping Type:\t`dict`\n",
    "\n",
    "- Set Types:\t`set, frozenset`\n",
    "\n",
    "- Boolean Type:\t`bool`\n",
    "\n",
    "- Binary Types:\t`bytes, bytearray, memoryview`\n",
    "\n",
    "- None Type:\t`NoneType`\n",
    "\n",
    "To access the type of an object, call the `type` function on this object."
   ]
  },
  {
   "cell_type": "code",
   "execution_count": 37,
   "id": "539bdb53",
   "metadata": {},
   "outputs": [
    {
     "name": "stdout",
     "output_type": "stream",
     "text": [
      "<class 'str'>\n",
      "<class 'int'>\n"
     ]
    }
   ],
   "source": [
    "my_string = \"string\"\n",
    "print(type(my_string))\n",
    "\n",
    "my_int = 5\n",
    "print(type(my_int))"
   ]
  },
  {
   "cell_type": "markdown",
   "id": "fd5e14db",
   "metadata": {},
   "source": [
    "## Creating functions\n",
    "Learn more about functions in Python [here](https://docs.python.org/3/tutorial/controlflow.html#defining-functions).\n",
    "\n",
    "In Python a function is defined using the `def` keyword. "
   ]
  },
  {
   "cell_type": "code",
   "execution_count": 6,
   "id": "39700e42",
   "metadata": {},
   "outputs": [],
   "source": [
    "def print_hello_world():\n",
    "    print(\"Hello world !\")"
   ]
  },
  {
   "cell_type": "markdown",
   "id": "bc3b50b8",
   "metadata": {},
   "source": [
    "To call a function, use the function name followed by parenthesis."
   ]
  },
  {
   "cell_type": "code",
   "execution_count": 7,
   "id": "0116947f",
   "metadata": {},
   "outputs": [
    {
     "name": "stdout",
     "output_type": "stream",
     "text": [
      "Hello world !\n"
     ]
    }
   ],
   "source": [
    "print_hello_world()"
   ]
  },
  {
   "cell_type": "markdown",
   "id": "5611733c",
   "metadata": {},
   "source": [
    "The return of a function is specified using the `return` keyword."
   ]
  },
  {
   "cell_type": "code",
   "execution_count": 9,
   "id": "e7a07804",
   "metadata": {},
   "outputs": [
    {
     "name": "stdout",
     "output_type": "stream",
     "text": [
      "hello world !\n"
     ]
    }
   ],
   "source": [
    "def return_hello_world():\n",
    "    return \"hello world !\"\n",
    "\n",
    "hello_world = return_hello_world()\n",
    "print(hello_world)"
   ]
  },
  {
   "cell_type": "markdown",
   "id": "4c8c508c",
   "metadata": {},
   "source": [
    "Arguments are specified after the function name, inside the parentheses. You can add as many arguments as you want, just separate them with a comma."
   ]
  },
  {
   "cell_type": "markdown",
   "id": "6d7837ac",
   "metadata": {},
   "source": [
    "### Exercices:\n",
    "\n",
    "1. Create the square root function.\n",
    "\n",
    "\n",
    "2. Create a function that returns the sum of two floats."
   ]
  },
  {
   "cell_type": "markdown",
   "id": "c2495a68",
   "metadata": {},
   "source": [
    "## Basic data structures\n",
    "Learn more about data structures [here](https://docs.python.org/3/tutorial/datastructures.html#)."
   ]
  },
  {
   "cell_type": "markdown",
   "id": "b9a3e3fd",
   "metadata": {},
   "source": [
    "### Lists: A built-in Python sequence\n",
    "Lists are used to store multiple items in a single variable.\n",
    "\n",
    "List items are ordered, changeable, and allow duplicate values.\n",
    "\n",
    "List items are indexed, the first item has index [0], the second item has index [1] etc."
   ]
  },
  {
   "cell_type": "code",
   "execution_count": 10,
   "id": "5389383a",
   "metadata": {},
   "outputs": [
    {
     "name": "stdout",
     "output_type": "stream",
     "text": [
      "test\n",
      "titi\n"
     ]
    }
   ],
   "source": [
    "my_list = [\"test\", 1, \"titi\"]\n",
    "\n",
    "print(my_list[0])\n",
    "print(my_list[2])"
   ]
  },
  {
   "cell_type": "markdown",
   "id": "89cd8af8",
   "metadata": {},
   "source": [
    "#### Exercices\n",
    "Read the first paragraph on list of [data structures](https://docs.python.org/3/tutorial/datastructures.html#), and:\n",
    "\n",
    "1. Create a function that returns the square root of each value in a list.\n",
    "2. Create a list inversion function."
   ]
  },
  {
   "cell_type": "code",
   "execution_count": 12,
   "id": "53bd3d1b",
   "metadata": {},
   "outputs": [],
   "source": [
    "def sqrt_root(input_list):\n",
    "    \"\"\"Gets as input a list of numerical values and outputs the list of its square root value.\n",
    "    \n",
    "    Example:\n",
    "    sqrt_root([1, 3, 4]) outputs [1, 9, 16]\n",
    "    \"\"\""
   ]
  },
  {
   "cell_type": "code",
   "execution_count": 15,
   "id": "2f771990",
   "metadata": {},
   "outputs": [],
   "source": [
    "def invert_list(input_list):\n",
    "    \"\"\"Gets as input a list of values and outputs the list in its opposite order.\n",
    "    \n",
    "    Example:\n",
    "    invert_list([1, 3, 4]) outputs [4, 3, 1])\n",
    "    \"\"\"\n",
    "    "
   ]
  },
  {
   "cell_type": "markdown",
   "id": "c8c116d1",
   "metadata": {},
   "source": [
    "### Dictionaries\n",
    "\n",
    "Dictionaries are used to store data values in key:value pairs.\n",
    "\n",
    "A dictionary is a collection which is ordered, changeable and do not allow duplicates.\n",
    "\n",
    "Dictionaries are written with curly brackets, and have keys and values."
   ]
  },
  {
   "cell_type": "code",
   "execution_count": 19,
   "id": "d709a23e",
   "metadata": {},
   "outputs": [
    {
     "name": "stdout",
     "output_type": "stream",
     "text": [
      "{'apple': 1, 'banana': 3, 'pear': 4, 'peach': 4}\n",
      "{'apple': 1, 'banana': 5, 'pear': 4, 'peach': 4}\n"
     ]
    }
   ],
   "source": [
    "my_dict = {\n",
    "    \"apple\": 1, # apple is the key, 1 is the value\n",
    "    \"banana\": 3,\n",
    "    \"pear\": 4\n",
    "}\n",
    "# Assign new value\n",
    "my_dict[\"peach\"] = 4\n",
    "\n",
    "print(my_dict)\n",
    "\n",
    "# Change existing value\n",
    "my_dict[\"banana\"] = 5\n",
    "\n",
    "print(my_dict)"
   ]
  },
  {
   "cell_type": "markdown",
   "id": "e71ee79c",
   "metadata": {},
   "source": [
    "#### Exercices: \n",
    "Read the paragraph concerning dictionaries [here](https://docs.python.org/3/tutorial/datastructures.html#dictionaries) and solve the following exercices:\n",
    "\n",
    "1. Create a function that adds +1 to every value in a dictionary\n",
    "2. Create a function that inverts every key of a dictionary."
   ]
  },
  {
   "cell_type": "code",
   "execution_count": 21,
   "id": "7106f63e",
   "metadata": {},
   "outputs": [],
   "source": [
    "def add_one_to_dict(input_dict):\n",
    "    \"\"\"Gets as input a dict with numerical values and adds + 1 to every value.\n",
    "    \n",
    "    Example:\n",
    "    {\"banana\": 2, \"peach\": 3} outputs {\"banana\": 3, \"peach\": 4}\n",
    "    \"\"\"\n",
    "    "
   ]
  },
  {
   "cell_type": "code",
   "execution_count": 22,
   "id": "3b7f8fe6",
   "metadata": {},
   "outputs": [],
   "source": [
    "def invert_dict_key(input_dict):\n",
    "    \"\"\"Gets as input a dict with numerical values and adds + 1 to every value.\n",
    "    \n",
    "    Example:\n",
    "    {\"banana\": 2, \"peach\": 3} outputs {\"ananab\": 2, \"hcaep\": 3}\n",
    "    \"\"\""
   ]
  },
  {
   "cell_type": "markdown",
   "id": "850b7f0a",
   "metadata": {},
   "source": [
    "### Tuples\n",
    "A tuple consists of a number of values separated by commas.\n",
    "\n",
    "Tuples are immutable, and usually contain a heterogeneous sequence of elements that are accessed via unpacking."
   ]
  },
  {
   "cell_type": "code",
   "execution_count": 23,
   "id": "85b91452",
   "metadata": {},
   "outputs": [
    {
     "name": "stdout",
     "output_type": "stream",
     "text": [
      "1\n",
      "2\n",
      "3\n"
     ]
    }
   ],
   "source": [
    "x, y, z = (1, 2, 3)\n",
    "print(x)\n",
    "print(y)\n",
    "print(z)"
   ]
  },
  {
   "cell_type": "markdown",
   "id": "b9926e35",
   "metadata": {},
   "source": [
    "### Sets"
   ]
  },
  {
   "cell_type": "markdown",
   "id": "872bb566",
   "metadata": {},
   "source": [
    "A set is an unordered collection with no duplicate elements\n",
    "\n",
    "Set objects also support mathematical operations like union, intersection, difference, and symmetric difference."
   ]
  },
  {
   "cell_type": "code",
   "execution_count": 26,
   "id": "10ccd42c",
   "metadata": {},
   "outputs": [
    {
     "name": "stdout",
     "output_type": "stream",
     "text": [
      "{'apple', 'banana'}\n"
     ]
    }
   ],
   "source": [
    "my_set = {\"banana\", \"banana\", \"apple\"}\n",
    "print(my_set)"
   ]
  },
  {
   "cell_type": "markdown",
   "id": "f6a9382e",
   "metadata": {},
   "source": [
    "#### Exercices\n",
    "Read the paragraph regarding sets [here](https://docs.python.org/3/tutorial/datastructures.html#sets) and complete the following exercice:\n",
    "\n",
    "1. Create a function that computes the number of distinct letters within two words"
   ]
  },
  {
   "cell_type": "code",
   "execution_count": 4,
   "id": "9503eef4",
   "metadata": {},
   "outputs": [],
   "source": [
    "def invert_compute_distinct(word_1, word_2):\n",
    "    \"\"\"Compute the distinct number of letters of word_1 and word_2.\n",
    "    \n",
    "    Example:\n",
    "    invert_compute_distinct(banana, apple) = 6\n",
    "    \"\"\""
   ]
  },
  {
   "cell_type": "markdown",
   "id": "e2ae1b3e",
   "metadata": {},
   "source": [
    "## Basic OOP\n",
    "Learn more about OOP with Python [here](https://docs.python.org/3/tutorial/classes.html).\n",
    "\n",
    "Classes provide a means of bundling data and functionality together. Creating a new class creates a new type of object, allowing new instances of that type to be made. Each class instance can have attributes attached to it for maintaining its state. Class instances can also have methods (defined by its class) for modifying its state."
   ]
  },
  {
   "cell_type": "code",
   "execution_count": 33,
   "id": "aa8cd1d6",
   "metadata": {},
   "outputs": [],
   "source": [
    "class MyExample:\n",
    "    \"\"\"\n",
    "    Example class.\n",
    "    \"\"\"\n",
    "    def __init__(self):\n",
    "        \"\"\"\n",
    "        Initialize an object of class MyExample.\n",
    "        \"\"\"\n",
    "        self.attribute_example = MyExample()\n",
    "\n",
    "    def demo_method(self):\n",
    "        \"\"\"\n",
    "        Demonstration method.\n",
    "        \"\"\"\n",
    "        print(\"this is a demonstration !\")"
   ]
  },
  {
   "cell_type": "code",
   "execution_count": 32,
   "id": "95c6bfb3",
   "metadata": {},
   "outputs": [
    {
     "name": "stdout",
     "output_type": "stream",
     "text": [
      "this is a demonstration !\n"
     ]
    }
   ],
   "source": [
    "example_object = MyExample()\n",
    "example_object.demo_method()"
   ]
  },
  {
   "cell_type": "markdown",
   "id": "1efc424b",
   "metadata": {},
   "source": [
    "### Exercices\n",
    "Using the OOP tutorial [here](https://docs.python.org/3/tutorial/classes.html), write a class:\n",
    "- Called `Human` \n",
    "- With an attribute `age` and `name` \n",
    "- With a method `speak` that prints an input string.\n"
   ]
  },
  {
   "cell_type": "code",
   "execution_count": 34,
   "id": "44da009f",
   "metadata": {},
   "outputs": [],
   "source": [
    "class Human:\n",
    "    \"\"\"Human class.\n",
    "    \"\"\""
   ]
  }
 ],
 "metadata": {
  "kernelspec": {
   "display_name": "Python 3 (ipykernel)",
   "language": "python",
   "name": "python3"
  },
  "language_info": {
   "codemirror_mode": {
    "name": "ipython",
    "version": 3
   },
   "file_extension": ".py",
   "mimetype": "text/x-python",
   "name": "python",
   "nbconvert_exporter": "python",
   "pygments_lexer": "ipython3",
   "version": "3.10.6"
  }
 },
 "nbformat": 4,
 "nbformat_minor": 5
}
