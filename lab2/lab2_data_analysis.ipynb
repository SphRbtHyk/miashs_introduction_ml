{
 "cells": [
  {
   "cell_type": "markdown",
   "id": "89c74f56",
   "metadata": {},
   "source": [
    "# Data analysis\n",
    "Throughout all the following labs, we will work on the following problem: **could AI have predicted who died and who survived the Titanic disaster ?**"
   ]
  }
 ],
 "metadata": {
  "kernelspec": {
   "display_name": "Python 3 (ipykernel)",
   "language": "python",
   "name": "python3"
  },
  "language_info": {
   "codemirror_mode": {
    "name": "ipython",
    "version": 3
   },
   "file_extension": ".py",
   "mimetype": "text/x-python",
   "name": "python",
   "nbconvert_exporter": "python",
   "pygments_lexer": "ipython3",
   "version": "3.10.6"
  }
 },
 "nbformat": 4,
 "nbformat_minor": 5
}
