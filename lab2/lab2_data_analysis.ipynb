{
 "cells": [
  {
   "cell_type": "markdown",
   "id": "229314f5",
   "metadata": {},
   "source": [
    "# Lab2: Data analysis\n",
    "\n",
    "Throughout all the following labs, we will work on the following problem: \n",
    "\n",
    "**could AI have predicted who died and who survived the Titanic disaster ?**\n",
    "\n",
    "We will begin by analyzing it using `pandas` and plot the data using `matplotlib` and `seaborn`."
   ]
  },
  {
   "cell_type": "code",
   "execution_count": 4,
   "id": "8d8b6bc6",
   "metadata": {},
   "outputs": [],
   "source": [
    "from matplotlib import pyplot as plt\n",
    "import pandas as pd\n",
    "import seaborn as sns"
   ]
  },
  {
   "cell_type": "markdown",
   "id": "56386563",
   "metadata": {},
   "source": [
    "## Load dataset\n",
    "The dataset is available in its `csv` format."
   ]
  },
  {
   "cell_type": "code",
   "execution_count": 5,
   "id": "33e02d50",
   "metadata": {},
   "outputs": [
    {
     "data": {
      "text/plain": [
       "(891, 12)"
      ]
     },
     "execution_count": 5,
     "metadata": {},
     "output_type": "execute_result"
    }
   ],
   "source": [
    "df = pd.read_csv(\"../titanic.csv\")\n",
    "df.shape"
   ]
  },
  {
   "cell_type": "markdown",
   "id": "51f88f87",
   "metadata": {},
   "source": [
    "## Identify rows and columns\n",
    "1. Find the number of rows and the number of columns"
   ]
  },
  {
   "cell_type": "markdown",
   "id": "b61ff153",
   "metadata": {},
   "source": [
    "2. List every column name and give a brief description of the data"
   ]
  },
  {
   "cell_type": "markdown",
   "id": "7ef65902",
   "metadata": {},
   "source": [
    "3. Specify for each column the data type and create a list `quantitative_vars` that will contain the names of the quantitative variables and `qualitative_vars` that will contain the names of the qualitative variables."
   ]
  },
  {
   "cell_type": "markdown",
   "id": "ab050358",
   "metadata": {},
   "source": [
    "4. What column are we trying to predict ? Store it into a list `target`."
   ]
  },
  {
   "cell_type": "markdown",
   "id": "51b978b4",
   "metadata": {},
   "source": [
    "5. Infer what columns will be used for prediction and what column you can omit immediately. Create the corresponding list `features` and update `quantitative_vars` and `qualitative_vars`."
   ]
  },
  {
   "cell_type": "markdown",
   "id": "ba1b8e78",
   "metadata": {},
   "source": [
    "6. Give the repartition of the target to predict using the `value_counts` method. How many people died in the Titanic disaster ? How many survived ?"
   ]
  },
  {
   "cell_type": "markdown",
   "id": "d912d2af",
   "metadata": {},
   "source": [
    "## Univariate analysis"
   ]
  },
  {
   "cell_type": "markdown",
   "id": "020fa73f",
   "metadata": {},
   "source": [
    "1. For each **quantitative variables** (that you should have stored in the variable `quantitative_vars`), give the main statistical estimators: mean, median, standard error.\n",
    "\n"
   ]
  },
  {
   "cell_type": "markdown",
   "id": "025e503e",
   "metadata": {},
   "source": [
    "\n",
    "\n",
    "2. For each **quantitative variables** (that you should have stored in the variable `quantitative_vars`), plot the variable repartitions using `sns.histplot` and `sns.violinplot`. Deduce for each variable a possible distribution.\n",
    "\n"
   ]
  },
  {
   "cell_type": "markdown",
   "id": "b23e0254",
   "metadata": {},
   "source": [
    "3. For each **qualitative variables** (that you should have stored in the variable `qualititative_vars`), provide the different values that can be taken by the variable and count the number of individuals per category."
   ]
  },
  {
   "cell_type": "markdown",
   "id": "9c902c3a",
   "metadata": {},
   "source": [
    "## Multivariate analysis"
   ]
  },
  {
   "cell_type": "markdown",
   "id": "f64e2bca",
   "metadata": {},
   "source": [
    "### Correlation of variables"
   ]
  },
  {
   "cell_type": "markdown",
   "id": "a468a4f3",
   "metadata": {},
   "source": [
    "1] Using the `.corr()` method, find and analyze correlations between features. What can you deduce regarding the use of these two dependent features ?"
   ]
  },
  {
   "cell_type": "markdown",
   "id": "e4e39d34",
   "metadata": {},
   "source": [
    "2] Plot the correlogram and perform a quick analysis of relationship between qualitative variables using `sns.pairplot`. Understand graph per graph what is represented and deduce from it the relationship between features and what feature seems to be important for prediction."
   ]
  },
  {
   "cell_type": "markdown",
   "id": "d741b20a",
   "metadata": {},
   "source": [
    "### Impact of variables/features on target\n",
    "\n",
    "The goal of our study is to **predict the target Survived**, so we need to analyze the relationship between this target and the features."
   ]
  },
  {
   "cell_type": "markdown",
   "id": "75c839f6",
   "metadata": {},
   "source": [
    "1] Find the statistical repartition of **quantitative variables** (that you should have stored in the variable `quantitative_vars`) for survivors and non-survivors and plot it using `sns.boxplot()`. "
   ]
  },
  {
   "cell_type": "markdown",
   "id": "fabe7cb1",
   "metadata": {},
   "source": [
    "2] Find the statistical repartition of survivors for each **categorical variable** (that you should have stored in the variable `qualitative_vars`) and plot it using the `sns.barplot()` function."
   ]
  },
  {
   "cell_type": "markdown",
   "id": "fc49e84f",
   "metadata": {},
   "source": [
    "## Dealing with missing values"
   ]
  },
  {
   "cell_type": "markdown",
   "id": "8b17b74e",
   "metadata": {},
   "source": [
    "1. Have you noticed anything in particular with missing values ? "
   ]
  },
  {
   "cell_type": "markdown",
   "id": "ac766a3a",
   "metadata": {},
   "source": [
    "2. Find rows with missing values using the `df.isna()` method and perform a statistical analysis on the number of missing values."
   ]
  },
  {
   "cell_type": "code",
   "execution_count": 51,
   "id": "ab07bf73",
   "metadata": {},
   "outputs": [
    {
     "name": "stdout",
     "output_type": "stream",
     "text": [
      "Number of passengers with missing age: 177\n"
     ]
    }
   ],
   "source": [
    "print(f\"Number of passengers with missing age: {df[df.Age.isnull()].shape[0]}\")"
   ]
  },
  {
   "cell_type": "markdown",
   "id": "445a4096",
   "metadata": {},
   "source": [
    "3. Suggest possible ways to deal with missing values and apply it to the data."
   ]
  },
  {
   "cell_type": "markdown",
   "id": "1633d50d",
   "metadata": {},
   "source": [
    "## Conclusions and next steps"
   ]
  },
  {
   "cell_type": "markdown",
   "id": "7d71e531",
   "metadata": {},
   "source": [
    "1. What seems to be the most impacting features in the dataset to predict who survived ?\n",
    "\n",
    "\n",
    "2. Do you think some metrics could be removed from the dataset without information loss ?\n",
    "\n",
    "\n",
    "3. Store this new dataset into a csv file `titanic_pre_processed.csv` (using the `to_csv` method) and save it for the next lab."
   ]
  }
 ],
 "metadata": {
  "kernelspec": {
   "display_name": "Python 3 (ipykernel)",
   "language": "python",
   "name": "python3"
  },
  "language_info": {
   "codemirror_mode": {
    "name": "ipython",
    "version": 3
   },
   "file_extension": ".py",
   "mimetype": "text/x-python",
   "name": "python",
   "nbconvert_exporter": "python",
   "pygments_lexer": "ipython3",
   "version": "3.10.6"
  }
 },
 "nbformat": 4,
 "nbformat_minor": 5
}
