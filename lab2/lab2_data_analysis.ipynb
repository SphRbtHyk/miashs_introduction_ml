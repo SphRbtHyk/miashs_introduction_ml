{
 "cells": [
  {
   "cell_type": "markdown",
   "id": "229314f5",
   "metadata": {},
   "source": [
    "# Lab2: Data analysis\n",
    "\n",
    "Throughout all the following labs, we will work on the following problem: \n",
    "\n",
    "**Is it possible to predict which Pokemon is legendary given their attributes ?**\n",
    "\n",
    "We will begin by analyzing it using `pandas` and plot the data using `matplotlib` and `seaborn`."
   ]
  },
  {
   "cell_type": "code",
   "execution_count": 2,
   "id": "8d8b6bc6",
   "metadata": {},
   "outputs": [],
   "source": [
    "from matplotlib import pyplot as plt\n",
    "import pandas as pd\n",
    "import seaborn as sns\n",
    "import numpy as np"
   ]
  },
  {
   "cell_type": "markdown",
   "id": "56386563",
   "metadata": {},
   "source": [
    "## Load dataset\n",
    "The dataset is available in its `csv` format."
   ]
  },
  {
   "cell_type": "code",
   "execution_count": 4,
   "id": "33e02d50",
   "metadata": {},
   "outputs": [
    {
     "data": {
      "text/html": [
       "<div>\n",
       "<style scoped>\n",
       "    .dataframe tbody tr th:only-of-type {\n",
       "        vertical-align: middle;\n",
       "    }\n",
       "\n",
       "    .dataframe tbody tr th {\n",
       "        vertical-align: top;\n",
       "    }\n",
       "\n",
       "    .dataframe thead th {\n",
       "        text-align: right;\n",
       "    }\n",
       "</style>\n",
       "<table border=\"1\" class=\"dataframe\">\n",
       "  <thead>\n",
       "    <tr style=\"text-align: right;\">\n",
       "      <th></th>\n",
       "      <th>abilities</th>\n",
       "      <th>against_bug</th>\n",
       "      <th>against_dark</th>\n",
       "      <th>against_dragon</th>\n",
       "      <th>against_electric</th>\n",
       "      <th>against_fairy</th>\n",
       "      <th>against_fight</th>\n",
       "      <th>against_fire</th>\n",
       "      <th>against_flying</th>\n",
       "      <th>against_ghost</th>\n",
       "      <th>...</th>\n",
       "      <th>percentage_male</th>\n",
       "      <th>pokedex_number</th>\n",
       "      <th>sp_attack</th>\n",
       "      <th>sp_defense</th>\n",
       "      <th>speed</th>\n",
       "      <th>type1</th>\n",
       "      <th>type2</th>\n",
       "      <th>weight_kg</th>\n",
       "      <th>generation</th>\n",
       "      <th>is_legendary</th>\n",
       "    </tr>\n",
       "  </thead>\n",
       "  <tbody>\n",
       "    <tr>\n",
       "      <th>0</th>\n",
       "      <td>['Overgrow', 'Chlorophyll']</td>\n",
       "      <td>1.0</td>\n",
       "      <td>1.0</td>\n",
       "      <td>1.0</td>\n",
       "      <td>0.5</td>\n",
       "      <td>0.5</td>\n",
       "      <td>0.5</td>\n",
       "      <td>2.0</td>\n",
       "      <td>2.0</td>\n",
       "      <td>1.0</td>\n",
       "      <td>...</td>\n",
       "      <td>88.1</td>\n",
       "      <td>1</td>\n",
       "      <td>65</td>\n",
       "      <td>65</td>\n",
       "      <td>45</td>\n",
       "      <td>grass</td>\n",
       "      <td>poison</td>\n",
       "      <td>6.9</td>\n",
       "      <td>1</td>\n",
       "      <td>0</td>\n",
       "    </tr>\n",
       "    <tr>\n",
       "      <th>1</th>\n",
       "      <td>['Overgrow', 'Chlorophyll']</td>\n",
       "      <td>1.0</td>\n",
       "      <td>1.0</td>\n",
       "      <td>1.0</td>\n",
       "      <td>0.5</td>\n",
       "      <td>0.5</td>\n",
       "      <td>0.5</td>\n",
       "      <td>2.0</td>\n",
       "      <td>2.0</td>\n",
       "      <td>1.0</td>\n",
       "      <td>...</td>\n",
       "      <td>88.1</td>\n",
       "      <td>2</td>\n",
       "      <td>80</td>\n",
       "      <td>80</td>\n",
       "      <td>60</td>\n",
       "      <td>grass</td>\n",
       "      <td>poison</td>\n",
       "      <td>13.0</td>\n",
       "      <td>1</td>\n",
       "      <td>0</td>\n",
       "    </tr>\n",
       "    <tr>\n",
       "      <th>2</th>\n",
       "      <td>['Overgrow', 'Chlorophyll']</td>\n",
       "      <td>1.0</td>\n",
       "      <td>1.0</td>\n",
       "      <td>1.0</td>\n",
       "      <td>0.5</td>\n",
       "      <td>0.5</td>\n",
       "      <td>0.5</td>\n",
       "      <td>2.0</td>\n",
       "      <td>2.0</td>\n",
       "      <td>1.0</td>\n",
       "      <td>...</td>\n",
       "      <td>88.1</td>\n",
       "      <td>3</td>\n",
       "      <td>122</td>\n",
       "      <td>120</td>\n",
       "      <td>80</td>\n",
       "      <td>grass</td>\n",
       "      <td>poison</td>\n",
       "      <td>100.0</td>\n",
       "      <td>1</td>\n",
       "      <td>0</td>\n",
       "    </tr>\n",
       "    <tr>\n",
       "      <th>3</th>\n",
       "      <td>['Blaze', 'Solar Power']</td>\n",
       "      <td>0.5</td>\n",
       "      <td>1.0</td>\n",
       "      <td>1.0</td>\n",
       "      <td>1.0</td>\n",
       "      <td>0.5</td>\n",
       "      <td>1.0</td>\n",
       "      <td>0.5</td>\n",
       "      <td>1.0</td>\n",
       "      <td>1.0</td>\n",
       "      <td>...</td>\n",
       "      <td>88.1</td>\n",
       "      <td>4</td>\n",
       "      <td>60</td>\n",
       "      <td>50</td>\n",
       "      <td>65</td>\n",
       "      <td>fire</td>\n",
       "      <td>NaN</td>\n",
       "      <td>8.5</td>\n",
       "      <td>1</td>\n",
       "      <td>0</td>\n",
       "    </tr>\n",
       "    <tr>\n",
       "      <th>4</th>\n",
       "      <td>['Blaze', 'Solar Power']</td>\n",
       "      <td>0.5</td>\n",
       "      <td>1.0</td>\n",
       "      <td>1.0</td>\n",
       "      <td>1.0</td>\n",
       "      <td>0.5</td>\n",
       "      <td>1.0</td>\n",
       "      <td>0.5</td>\n",
       "      <td>1.0</td>\n",
       "      <td>1.0</td>\n",
       "      <td>...</td>\n",
       "      <td>88.1</td>\n",
       "      <td>5</td>\n",
       "      <td>80</td>\n",
       "      <td>65</td>\n",
       "      <td>80</td>\n",
       "      <td>fire</td>\n",
       "      <td>NaN</td>\n",
       "      <td>19.0</td>\n",
       "      <td>1</td>\n",
       "      <td>0</td>\n",
       "    </tr>\n",
       "  </tbody>\n",
       "</table>\n",
       "<p>5 rows × 41 columns</p>\n",
       "</div>"
      ],
      "text/plain": [
       "                     abilities  against_bug  against_dark  against_dragon  \\\n",
       "0  ['Overgrow', 'Chlorophyll']          1.0           1.0             1.0   \n",
       "1  ['Overgrow', 'Chlorophyll']          1.0           1.0             1.0   \n",
       "2  ['Overgrow', 'Chlorophyll']          1.0           1.0             1.0   \n",
       "3     ['Blaze', 'Solar Power']          0.5           1.0             1.0   \n",
       "4     ['Blaze', 'Solar Power']          0.5           1.0             1.0   \n",
       "\n",
       "   against_electric  against_fairy  against_fight  against_fire  \\\n",
       "0               0.5            0.5            0.5           2.0   \n",
       "1               0.5            0.5            0.5           2.0   \n",
       "2               0.5            0.5            0.5           2.0   \n",
       "3               1.0            0.5            1.0           0.5   \n",
       "4               1.0            0.5            1.0           0.5   \n",
       "\n",
       "   against_flying  against_ghost  ...  percentage_male  pokedex_number  \\\n",
       "0             2.0            1.0  ...             88.1               1   \n",
       "1             2.0            1.0  ...             88.1               2   \n",
       "2             2.0            1.0  ...             88.1               3   \n",
       "3             1.0            1.0  ...             88.1               4   \n",
       "4             1.0            1.0  ...             88.1               5   \n",
       "\n",
       "   sp_attack  sp_defense  speed  type1   type2  weight_kg  generation  \\\n",
       "0         65          65     45  grass  poison        6.9           1   \n",
       "1         80          80     60  grass  poison       13.0           1   \n",
       "2        122         120     80  grass  poison      100.0           1   \n",
       "3         60          50     65   fire     NaN        8.5           1   \n",
       "4         80          65     80   fire     NaN       19.0           1   \n",
       "\n",
       "   is_legendary  \n",
       "0             0  \n",
       "1             0  \n",
       "2             0  \n",
       "3             0  \n",
       "4             0  \n",
       "\n",
       "[5 rows x 41 columns]"
      ]
     },
     "execution_count": 4,
     "metadata": {},
     "output_type": "execute_result"
    }
   ],
   "source": [
    "df = pd.read_csv(\"../pokemon.csv\")\n",
    "df.head()"
   ]
  },
  {
   "cell_type": "markdown",
   "id": "51f88f87",
   "metadata": {},
   "source": [
    "## Identify rows and columns\n",
    "1. Find the number of rows and the number of columns"
   ]
  },
  {
   "cell_type": "markdown",
   "id": "b61ff153",
   "metadata": {},
   "source": [
    "2. List every column name and give a brief description of the data, helping yourself with the [kaggle description](https://www.kaggle.com/datasets/rounakbanik/pokemon) of the dataset."
   ]
  },
  {
   "cell_type": "markdown",
   "id": "7ef65902",
   "metadata": {},
   "source": [
    "3. Specify for each column the data type and create a list `quantitative_vars` that will contain the names of the quantitative variables and `qualitative_vars` that will contain the names of the qualitative variables."
   ]
  },
  {
   "cell_type": "markdown",
   "id": "e3458136",
   "metadata": {},
   "source": [
    "**3. Bonus question** Create new variables that seem relevant for your analysis."
   ]
  },
  {
   "cell_type": "markdown",
   "id": "ab050358",
   "metadata": {},
   "source": [
    "4. What column are we trying to predict ? Store it into a list `target`."
   ]
  },
  {
   "cell_type": "markdown",
   "id": "51b978b4",
   "metadata": {},
   "source": [
    "5. Infer what columns will be used for prediction and what column you can omit immediately. Create the corresponding list `features` and update `quantitative_vars` and `qualitative_vars`."
   ]
  },
  {
   "cell_type": "markdown",
   "id": "ba1b8e78",
   "metadata": {},
   "source": [
    "6. Give the repartition of the target to predict using the `value_counts` method. How many pokemons are legendary ?\n"
   ]
  },
  {
   "cell_type": "markdown",
   "id": "d912d2af",
   "metadata": {},
   "source": [
    "## Univariate analysis"
   ]
  },
  {
   "cell_type": "markdown",
   "id": "020fa73f",
   "metadata": {},
   "source": [
    "1. For each **quantitative variables** (that you should have stored in the variable `quantitative_vars`), give the main statistical estimators: mean, median, standard error.\n",
    "\n"
   ]
  },
  {
   "cell_type": "markdown",
   "id": "025e503e",
   "metadata": {},
   "source": [
    "2. For each **quantitative variables** (that you should have stored in the variable `quantitative_vars`), plot the variable repartitions using `sns.histplot` and `sns.violinplot`. Deduce for each variable a possible distribution."
   ]
  },
  {
   "cell_type": "markdown",
   "id": "b23e0254",
   "metadata": {},
   "source": [
    "3. For each **qualitative variables** (that you should have stored in the variable `qualititative_vars`), provide the different values that can be taken by the variable and count the number of individuals per category."
   ]
  },
  {
   "cell_type": "markdown",
   "id": "9c902c3a",
   "metadata": {},
   "source": [
    "## Multivariate analysis"
   ]
  },
  {
   "cell_type": "markdown",
   "id": "f64e2bca",
   "metadata": {},
   "source": [
    "### Correlation of variables"
   ]
  },
  {
   "cell_type": "markdown",
   "id": "a468a4f3",
   "metadata": {},
   "source": [
    "1] Using the `.corr()` method, find and analyze correlations between features. What can you deduce regarding features independence ?"
   ]
  },
  {
   "cell_type": "markdown",
   "id": "e4e39d34",
   "metadata": {},
   "source": [
    "2] Plot the correlogram and perform a quick analysis of relationship between variables using `sns.pairplot`. Understand graph per graph what is represented and deduce from it the relationship between features and what feature seems to be important for prediction."
   ]
  },
  {
   "cell_type": "markdown",
   "id": "f469f7a8",
   "metadata": {},
   "source": [
    "**3] Bonus question**: use the `sns.pairplot` function to check the correlation between qualitative variables as well."
   ]
  },
  {
   "cell_type": "markdown",
   "id": "d741b20a",
   "metadata": {},
   "source": [
    "### Impact of variables/features on target\n",
    "\n",
    "The goal of our study is to **predict the target is_legendary**, so we need to analyze the relationship between this target and the features."
   ]
  },
  {
   "cell_type": "markdown",
   "id": "75c839f6",
   "metadata": {},
   "source": [
    "1] Find the statistical repartition of **quantitative variables** (that you should have stored in the variable `quantitative_vars`) for legendary and non-legendary pokemons and plot it using `sns.boxplot()`. "
   ]
  },
  {
   "cell_type": "markdown",
   "id": "fabe7cb1",
   "metadata": {},
   "source": [
    "2] Find the statistical repartition of is_legendary for each **categorical variable** (that you should have stored in the variable `qualitative_vars`) and plot it using the `sns.barplot()` function."
   ]
  },
  {
   "cell_type": "markdown",
   "id": "2daaf141",
   "metadata": {},
   "source": [
    "## Dealing with missing values\n",
    "\n",
    "1] Have you noticed anything in particular with missing values ?\n",
    "\n",
    "2] Find rows with missing values using the `df.isna()`` method and perform a statistical analysis on the number of missing values.\n",
    "\n",
    "3] Suggest possible ways to deal with missing values and apply it to the data.\n"
   ]
  },
  {
   "cell_type": "markdown",
   "id": "1633d50d",
   "metadata": {},
   "source": [
    "## Conclusions and next steps"
   ]
  },
  {
   "cell_type": "markdown",
   "id": "7d71e531",
   "metadata": {},
   "source": [
    "1. What seems to be the most impacting features in the dataset to predict what Pokemon is legendary ?\n",
    "\n",
    "\n",
    "2. Do you think some metrics could be removed from the dataset without information loss ?\n",
    "\n",
    "\n",
    "4. Store this new dataset into a csv file `pokemon_preprocessed` (using the `to_csv` method) and save it for the next lab."
   ]
  }
 ],
 "metadata": {
  "kernelspec": {
   "display_name": "Python 3 (ipykernel)",
   "language": "python",
   "name": "python3"
  },
  "language_info": {
   "codemirror_mode": {
    "name": "ipython",
    "version": 3
   },
   "file_extension": ".py",
   "mimetype": "text/x-python",
   "name": "python",
   "nbconvert_exporter": "python",
   "pygments_lexer": "ipython3",
   "version": "3.11.0"
  }
 },
 "nbformat": 4,
 "nbformat_minor": 5
}
